{
 "cells": [
  {
   "cell_type": "code",
   "execution_count": 1,
   "metadata": {},
   "outputs": [],
   "source": [
    "import sys\n",
    "sys.path.append('../../zoho_data_app/')\n",
    "\n",
    "import main_module as m\n",
    "import zoho_filter_module as fil\n",
    "import pandas as pd\n",
    "import re\n",
    "import numpy as np\n",
    "\n",
    "%load_ext autoreload\n",
    "%autoreload 2\n"
   ]
  },
  {
   "cell_type": "code",
   "execution_count": 2,
   "metadata": {},
   "outputs": [],
   "source": [
    "path = r'C:\\Users\\fajar\\Documents\\Python\\Data\\Unsubs\\24h\\unsubs.csv'\n",
    "df_24h = pd.read_csv(path, dtype='string')\n",
    "\n",
    "path = r'C:\\Users\\fajar\\Documents\\Python\\Data\\Unsubs\\VPS\\unsubs.csv'\n",
    "df_vps = pd.read_csv(path, dtype='string')\n",
    "\n",
    "path = r'C:\\Users\\fajar\\Documents\\Python\\Data\\Unsubs\\zoho campaign\\unsub1.csv'\n",
    "df_campaign = pd.read_csv(path, dtype='string')\n"
   ]
  },
  {
   "cell_type": "code",
   "execution_count": 34,
   "metadata": {},
   "outputs": [
    {
     "name": "stderr",
     "output_type": "stream",
     "text": [
      "C:\\Users\\fajar\\AppData\\Local\\Temp\\ipykernel_8244\\1915268983.py:8: DtypeWarning: Columns (2) have mixed types. Specify dtype option on import or set low_memory=False.\n",
      "  df_bc_campaign = pd.read_csv(path, on_bad_lines='skip')\n"
     ]
    }
   ],
   "source": [
    "path = r'C:\\Users\\fajar\\Documents\\Python\\Data\\Debounce\\mailwizz debounce log\\Email Debounce Mailwizz Master.xlsx'\n",
    "df_bc_24 = pd.read_excel(path, sheet_name='mw_bounce_log')\n",
    "\n",
    "path = r'C:\\Users\\fajar\\Documents\\Python\\Data\\Debounce\\mailwizz debounce log - vps\\Email Debounce Mailwizz Master.xlsx'\n",
    "df_bc_vps = pd.read_excel(path, sheet_name='mw_bounce_log')\n",
    "\n",
    "path = r'C:\\Users\\fajar\\Documents\\Python\\Data\\Debounce\\zoho campaign\\compiled\\bounced1.csv'\n",
    "df_bc_campaign = pd.read_csv(path, on_bad_lines='skip')"
   ]
  },
  {
   "cell_type": "code",
   "execution_count": 35,
   "metadata": {},
   "outputs": [],
   "source": [
    "df_24h.rename(columns={'email':'Email'}, inplace=True)\n",
    "df_bc_24.rename(columns={'email':'Email'}, inplace=True)\n",
    "\n",
    "df_vps.rename(columns={'email':'Email'}, inplace=True)\n",
    "df_bc_vps.rename(columns={'email':'Email'}, inplace=True)\n",
    "\n",
    "\n",
    "df_campaign.rename(columns={'Contact Email':'Email'}, inplace=True)\n",
    "df_bc_campaign.rename(columns={'Contact Email':'Email'}, inplace=True)"
   ]
  },
  {
   "cell_type": "code",
   "execution_count": 36,
   "metadata": {},
   "outputs": [
    {
     "data": {
      "text/plain": [
       "0         nq6sem+7oc65p7gku9n4@sharklasers.com\n",
       "1                         igalli1005@gmail.com\n",
       "2                    sovereign.surya@yahoo.com\n",
       "3                   ryslankhachikyan@gmail.com\n",
       "4                          levlad777@gmail.com\n",
       "                          ...                 \n",
       "444622                      z_stud@hotmail.com\n",
       "444623                   z_wei1209@hotmail.com\n",
       "444624                        _479@live.com.au\n",
       "444625                     _benezi@hotmail.com\n",
       "444626                     _j27@rediffmail.com\n",
       "Name: Email, Length: 444627, dtype: string"
      ]
     },
     "execution_count": 36,
     "metadata": {},
     "output_type": "execute_result"
    }
   ],
   "source": [
    "df_unsubs = pd.concat([df_24h,df_vps,df_campaign], ignore_index=True)\n",
    "df_bounce = pd.concat([df_bc_24,df_bc_vps,df_bc_campaign], ignore_index=True)\n",
    "\n",
    "df_unsubs['Email'] = m.lowercase(df_unsubs, 'Email')\n",
    "m.clean_space(df_unsubs, 'Email')\n",
    "\n",
    "df_bounce['Email'] = m.lowercase(df_bounce, 'Email')\n",
    "m.clean_space(df_unsubs, 'Email')"
   ]
  },
  {
   "cell_type": "code",
   "execution_count": 37,
   "metadata": {},
   "outputs": [],
   "source": [
    "df_unsubs.to_excel(r'C:\\Users\\fajar\\Documents\\Python\\Data\\Unsubs\\all_unsubs_master.xlsx', index=False)\n",
    "df_bounce.to_excel(r'C:\\Users\\fajar\\Documents\\Python\\Data\\Debounce\\all_bounce_master.xlsx', index=False)"
   ]
  }
 ],
 "metadata": {
  "kernelspec": {
   "display_name": "Python 3.10.7 64-bit",
   "language": "python",
   "name": "python3"
  },
  "language_info": {
   "codemirror_mode": {
    "name": "ipython",
    "version": 3
   },
   "file_extension": ".py",
   "mimetype": "text/x-python",
   "name": "python",
   "nbconvert_exporter": "python",
   "pygments_lexer": "ipython3",
   "version": "3.10.7"
  },
  "orig_nbformat": 4,
  "vscode": {
   "interpreter": {
    "hash": "26de051ba29f2982a8de78e945f0abaf191376122a1563185a90213a26c5da77"
   }
  }
 },
 "nbformat": 4,
 "nbformat_minor": 2
}
