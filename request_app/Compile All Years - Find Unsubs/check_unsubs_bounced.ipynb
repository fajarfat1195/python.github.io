{
 "cells": [
  {
   "cell_type": "code",
   "execution_count": null,
   "metadata": {},
   "outputs": [],
   "source": [
    "import sys\n",
    "sys.path.append('../../zoho_data_app/')\n",
    "\n",
    "import main_module as m\n",
    "import zoho_filter_module as fil\n",
    "import pandas as pd\n",
    "import re\n",
    "import numpy as np\n",
    "\n",
    "%load_ext autoreload\n",
    "%autoreload 2\n",
    "\n"
   ]
  },
  {
   "cell_type": "code",
   "execution_count": null,
   "metadata": {},
   "outputs": [],
   "source": [
    "# path = r'C:\\Users\\fajar\\Documents\\Python\\Data\\Zoho_Backup\\2020-2024\\backup.csv'\n",
    "path = r'C:\\Users\\fajar\\Documents\\Python\\Data\\Request Data\\DS Req\\2024\\27 Mar\\all_email_unique_brand_and_subs.csv'\n",
    "zoho_df = pd.read_csv(path, dtype='string')\n",
    "zoho_df.fillna('empty', inplace=True)"
   ]
  },
  {
   "cell_type": "code",
   "execution_count": null,
   "metadata": {},
   "outputs": [],
   "source": [
    "path = r'C:\\Users\\fajar\\Documents\\Python\\Data\\Unsubs\\all_unsubs_master.xlsx'\n",
    "df_unsubs = pd.read_excel(path, sheet_name='Sheet1')\n",
    "\n",
    "path = r'C:\\Users\\fajar\\Documents\\Python\\Data\\Debounce\\all_bounce_master.xlsx'\n",
    "df_bounce = pd.read_excel(path, sheet_name='Sheet1')"
   ]
  },
  {
   "cell_type": "code",
   "execution_count": null,
   "metadata": {},
   "outputs": [],
   "source": [
    "zoho_df['Email'] = m.lowercase(zoho_df, 'Email')\n",
    "m.clean_space(zoho_df, 'Email')\n",
    "\n",
    "df_unsubs['Email'] = m.lowercase(df_unsubs, 'Email')\n",
    "m.clean_space(df_unsubs, 'Email')\n",
    "\n",
    "df_bounce['Email'] = m.lowercase(df_bounce, 'Email')\n",
    "m.clean_space(df_bounce, 'Email')"
   ]
  },
  {
   "cell_type": "code",
   "execution_count": null,
   "metadata": {},
   "outputs": [],
   "source": [
    "zoho_df.loc[zoho_df['Email'].isin(df_unsubs['Email']), 'Unsubscribed Status'] = 'Yes'\n",
    "zoho_df.loc[zoho_df['Email'].isin(df_bounce['Email']), 'Bounced Status'] = 'Yes'\n",
    "\n",
    "zoho_df.loc[(zoho_df['Unsubscribed Status'] == 'Yes') | (zoho_df['Bounced Status'] == 'Yes'), 'Unsubs/Bounced'] = 'Yes'"
   ]
  },
  {
   "cell_type": "code",
   "execution_count": null,
   "metadata": {},
   "outputs": [],
   "source": [
    "zoho_df.loc[zoho_df['Unsubscribed Status'] == 'Yes']\n",
    "zoho_df.loc[zoho_df['Bounced Status'] == 'Yes']"
   ]
  },
  {
   "cell_type": "code",
   "execution_count": null,
   "metadata": {},
   "outputs": [],
   "source": [
    "zoho_df['Unsubscribed Status'].fillna('No', inplace=True)\n",
    "zoho_df['Bounced Status'].fillna('No', inplace=True)\n",
    "zoho_df['Unsubs/Bounced'].fillna('No', inplace=True)"
   ]
  },
  {
   "cell_type": "code",
   "execution_count": null,
   "metadata": {},
   "outputs": [],
   "source": [
    "final_report = zoho_df.groupby(['Lead Brand', 'Unsubs/Bounced'])['Record Id'].count().reset_index(name='Count')"
   ]
  },
  {
   "cell_type": "code",
   "execution_count": null,
   "metadata": {},
   "outputs": [],
   "source": [
    "zoho_df.fillna('empty', inplace=True)\n",
    "zoho_df.to_csv(r'C:\\Users\\fajar\\Documents\\Python\\Data\\Request Data\\DS Req\\2024\\27 Mar\\all_email_unique_brand_and_subs(marked unsubs and bounced).csv', index=False)"
   ]
  },
  {
   "cell_type": "code",
   "execution_count": null,
   "metadata": {},
   "outputs": [],
   "source": [
    "final_report.to_excel(r'C:\\Users\\fajar\\Documents\\Python\\Data\\Request Data\\DS Req\\2024\\27 Mar\\final_report.xlsx', index=False)"
   ]
  },
  {
   "cell_type": "code",
   "execution_count": null,
   "metadata": {},
   "outputs": [],
   "source": [
    "zoho_df.loc[(zoho_df['Lead Brand'] == 'Timeshare Marketing') & (zoho_df['Unsubs/Bounced'] == 'Yes')]"
   ]
  }
 ],
 "metadata": {
  "kernelspec": {
   "display_name": "Python 3",
   "language": "python",
   "name": "python3"
  },
  "language_info": {
   "codemirror_mode": {
    "name": "ipython",
    "version": 3
   },
   "file_extension": ".py",
   "mimetype": "text/x-python",
   "name": "python",
   "nbconvert_exporter": "python",
   "pygments_lexer": "ipython3",
   "version": "3.10.7"
  },
  "orig_nbformat": 4
 },
 "nbformat": 4,
 "nbformat_minor": 2
}
