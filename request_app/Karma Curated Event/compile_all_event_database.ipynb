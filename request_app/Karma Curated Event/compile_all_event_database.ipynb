{
 "cells": [
  {
   "cell_type": "code",
   "execution_count": 79,
   "metadata": {},
   "outputs": [
    {
     "name": "stdout",
     "output_type": "stream",
     "text": [
      "The autoreload extension is already loaded. To reload it, use:\n",
      "  %reload_ext autoreload\n"
     ]
    }
   ],
   "source": [
    "import pandas as pd\n",
    "import gspread\n",
    "import kc_event_modul as kc\n",
    "from fractions import Fraction\n",
    "import re\n",
    "import numpy as np\n",
    "\n",
    "%load_ext autoreload\n",
    "%autoreload 2\n",
    "\n",
    "import sys\n",
    "sys.path.append('../../zoho_data_app/')\n",
    "\n",
    "import main_module as m\n",
    "\n",
    "# Pastikan permision access di menu \"Share\" di rubah ke anyone with the link terlebih dahulu, agar bisa mengunakan cara OAuth\n",
    "# Jika Ingin lebih dibatasi menggunakan cara google service account lebih disarankan\n",
    "\n",
    "gc = gspread.oauth(\n",
    "    credentials_filename= r'C:\\Users\\fajar\\Documents\\Python\\Data\\Google Credentials\\karma-oauth.json'\n",
    ")\n",
    "\n",
    "# sheet_id = {\n",
    "#     \"2024\": '1k-70BJNRm01RE2S7gBXuOfqxofk1gYz4g6lPbLUCklw',\n",
    "#     \"2025\": '1AfxaROCWtYuCWPo31LYonED-qQ1y196lytIh2IAydxQ'\n",
    "# }\n",
    "\n",
    "sheet_id = {\n",
    "    \"2024\": '1k-70BJNRm01RE2S7gBXuOfqxofk1gYz4g6lPbLUCklw',\n",
    "}\n",
    "\n",
    "# SHEET_ID_DATABASE = '1AfxaROCWtYuCWPo31LYonED-qQ1y196lytIh2IAydxQ'\n",
    "SHEET_ID_DATABASE = '1k-70BJNRm01RE2S7gBXuOfqxofk1gYz4g6lPbLUCklw'\n",
    "SHEET_DATABASE = 'DB'\n",
    "\n",
    "execeptional_list = [\n",
    "    'DB', \n",
    "    'DV', \n",
    "    'List Events Transition',\n",
    "    'Summary Report',\n",
    "    'PAST EVENTS - Summary Report',\n",
    "    'Past Attedants',\n",
    "    'Template',\n",
    "    ]\n"
   ]
  },
  {
   "cell_type": "code",
   "execution_count": null,
   "metadata": {},
   "outputs": [],
   "source": [
    "# # Open the spreadsheet\n",
    "# spreadsheet_source = gc.open_by_key(SHEET_ID_SOURCE)\n",
    "\n",
    "# # Get all sheet names\n",
    "# sheet_names = [sheet.title for sheet in spreadsheet_source.worksheets()]\n",
    "# sheet_names_id = [sheet.id for sheet in spreadsheet_source.worksheets()]\n",
    "# print(sheet_names_id)"
   ]
  },
  {
   "cell_type": "code",
   "execution_count": null,
   "metadata": {},
   "outputs": [],
   "source": [
    "spreadsheet_db = gc.open_by_key(SHEET_ID_DATABASE)\n",
    "worksheet_db = spreadsheet_db.worksheet(SHEET_DATABASE)\n",
    "rows_db = worksheet_db.get_all_records()\n",
    "# rows_db = worksheet_db.get_all_records()"
   ]
  },
  {
   "cell_type": "code",
   "execution_count": null,
   "metadata": {},
   "outputs": [],
   "source": [
    "df = kc.get_file_sheets(sheet_id, execeptional_list, gc)\n",
    "df"
   ]
  },
  {
   "cell_type": "code",
   "execution_count": null,
   "metadata": {},
   "outputs": [],
   "source": [
    "m.clean_number(df, 'Tel/Phone')\n",
    "m.clean_number(df, 'Member No')\n",
    "\n",
    "df['Status'] = df['Status'].str.title()\n",
    "df['Event Status'] = df['Event Status'].str.title()\n",
    "df['Membership Type'] = df['Membership Type'].str.title()\n",
    "df['Servicing Office'] = df['Servicing Office'].str.upper()"
   ]
  },
  {
   "cell_type": "code",
   "execution_count": null,
   "metadata": {},
   "outputs": [],
   "source": [
    "df.columns"
   ]
  },
  {
   "cell_type": "code",
   "execution_count": null,
   "metadata": {},
   "outputs": [],
   "source": [
    "# df.to_csv(r'C:\\Users\\fajar\\Documents\\Python\\Data\\test.csv', index=False)"
   ]
  },
  {
   "cell_type": "code",
   "execution_count": null,
   "metadata": {},
   "outputs": [],
   "source": [
    "# df.drop(df.loc[df['No'] == ''].index, inplace=True)\n",
    "# df.reset_index(drop=True, inplace=True)\n",
    "\n",
    "df['Event Date From'] = pd.to_datetime(df['Event Date From'])\n",
    "df['Event Date From'] = df['Event Date From'].dt.strftime('%d %b %Y')\n",
    "df['Event Date To'] = pd.to_datetime(df['Event Date To'])\n",
    "df['Event Date To'] = df['Event Date To'].dt.strftime('%d %b %Y')\n",
    "df['Dob'] = pd.to_datetime(df['Dob'])\n",
    "df['Dob'] = df['Dob'].dt.strftime('%d %b %Y')\n",
    "df['Event Name'] = df['Event Name'].str.upper()\n",
    "\n",
    "df.loc[~df['Email'].str.contains('@'), 'Email'] = ''"
   ]
  },
  {
   "cell_type": "code",
   "execution_count": null,
   "metadata": {},
   "outputs": [],
   "source": [
    "df.fillna('', inplace=True)\n",
    "# df.to_csv(r'C:\\Users\\fajar\\Documents\\Python\\Data\\test.csv', index=False)"
   ]
  },
  {
   "cell_type": "code",
   "execution_count": null,
   "metadata": {},
   "outputs": [],
   "source": [
    "df.values.tolist()"
   ]
  },
  {
   "cell_type": "code",
   "execution_count": null,
   "metadata": {},
   "outputs": [],
   "source": [
    "df.columns"
   ]
  },
  {
   "cell_type": "code",
   "execution_count": null,
   "metadata": {},
   "outputs": [],
   "source": [
    "worksheet_db.clear()\n",
    "worksheet_db.update([df.columns.values.tolist()] + df.values.tolist())"
   ]
  }
 ],
 "metadata": {
  "kernelspec": {
   "display_name": "Python 3",
   "language": "python",
   "name": "python3"
  },
  "language_info": {
   "codemirror_mode": {
    "name": "ipython",
    "version": 3
   },
   "file_extension": ".py",
   "mimetype": "text/x-python",
   "name": "python",
   "nbconvert_exporter": "python",
   "pygments_lexer": "ipython3",
   "version": "3.10.7"
  },
  "orig_nbformat": 4,
  "vscode": {
   "interpreter": {
    "hash": "26de051ba29f2982a8de78e945f0abaf191376122a1563185a90213a26c5da77"
   }
  }
 },
 "nbformat": 4,
 "nbformat_minor": 2
}
