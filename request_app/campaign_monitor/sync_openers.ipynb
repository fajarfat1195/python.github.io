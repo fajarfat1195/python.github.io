{
 "cells": [
  {
   "cell_type": "code",
   "execution_count": 107,
   "metadata": {},
   "outputs": [
    {
     "name": "stdout",
     "output_type": "stream",
     "text": [
      "The autoreload extension is already loaded. To reload it, use:\n",
      "  %reload_ext autoreload\n"
     ]
    }
   ],
   "source": [
    "import requests\n",
    "from requests.auth import HTTPBasicAuth\n",
    "import pandas as pd\n",
    "import campaign_monitor_modul as cm\n",
    "\n",
    "import gspread\n",
    "from fractions import Fraction\n",
    "\n",
    "%load_ext autoreload\n",
    "%autoreload 2\n",
    "\n",
    "# Replace with your actual API key and client ID\n",
    "api_key = 'W7KbXzk9fFsN+G3XrIemdIu156KSPq3Qh60OQFQw9oP0UPnDvfq8w2SH5plgeZnpzyA4Bc2QCKVpK9SB42n8ZO3Z4Cpefu2/HGULJneNoJZ2zza129wfcsOL35Fpoweq3ZcidTNu110I/HCNguRGUw=='\n",
    "client_id = '1545f43bbfe89f34ea7cf143c36c5e9f'\n",
    "campaign_id = '5489242c196e25e8772adf912ca66443'\n",
    "\n",
    "# API endpoint\n",
    "url = f'https://api.createsend.com/api/v3.2/clients/{client_id}/campaigns.json'"
   ]
  },
  {
   "cell_type": "code",
   "execution_count": 121,
   "metadata": {},
   "outputs": [
    {
     "name": "stdout",
     "output_type": "stream",
     "text": [
      "Vol_244|Vol_245\n"
     ]
    }
   ],
   "source": [
    "# list_campaign = ['Vol_244',\n",
    "#              'Vol_245']\n",
    "# search_value = '|'.join(list_campaign)\n",
    "# print(search_value)"
   ]
  },
  {
   "cell_type": "code",
   "execution_count": 108,
   "metadata": {},
   "outputs": [
    {
     "name": "stdout",
     "output_type": "stream",
     "text": [
      "Campaigns List:\n"
     ]
    },
    {
     "data": {
      "text/html": [
       "<div>\n",
       "<style scoped>\n",
       "    .dataframe tbody tr th:only-of-type {\n",
       "        vertical-align: middle;\n",
       "    }\n",
       "\n",
       "    .dataframe tbody tr th {\n",
       "        vertical-align: top;\n",
       "    }\n",
       "\n",
       "    .dataframe thead th {\n",
       "        text-align: right;\n",
       "    }\n",
       "</style>\n",
       "<table border=\"1\" class=\"dataframe\">\n",
       "  <thead>\n",
       "    <tr style=\"text-align: right;\">\n",
       "      <th></th>\n",
       "      <th>Name</th>\n",
       "      <th>SentDate</th>\n",
       "      <th>TotalRecipients</th>\n",
       "      <th>CampaignID</th>\n",
       "      <th>Subject</th>\n",
       "    </tr>\n",
       "  </thead>\n",
       "  <tbody>\n",
       "    <tr>\n",
       "      <th>0</th>\n",
       "      <td>Villa_Owners_W4Sep24_Karma_Community_Vol_244</td>\n",
       "      <td>2024-09-23 19:45:00</td>\n",
       "      <td>196</td>\n",
       "      <td>02c52eb08befd672824c436f67425270</td>\n",
       "      <td>Rugby Stars Battle Down Under</td>\n",
       "    </tr>\n",
       "  </tbody>\n",
       "</table>\n",
       "</div>"
      ],
      "text/plain": [
       "                                           Name             SentDate  \\\n",
       "0  Villa_Owners_W4Sep24_Karma_Community_Vol_244  2024-09-23 19:45:00   \n",
       "\n",
       "   TotalRecipients                        CampaignID  \\\n",
       "0              196  02c52eb08befd672824c436f67425270   \n",
       "\n",
       "                         Subject  \n",
       "0  Rugby Stars Battle Down Under  "
      ]
     },
     "execution_count": 108,
     "metadata": {},
     "output_type": "execute_result"
    }
   ],
   "source": [
    "search_value = 'Villa_Owners_W4Sep24_Karma_Community_Vol_244'\n",
    "df_campaign = cm.get_campaign_list(api_key, client_id, search_value)\n",
    "df_campaign"
   ]
  },
  {
   "cell_type": "code",
   "execution_count": 109,
   "metadata": {},
   "outputs": [
    {
     "name": "stdout",
     "output_type": "stream",
     "text": [
      "Retrieveing openers data Villa_Owners_W4Sep24_Karma_Community_Vol_244\n"
     ]
    }
   ],
   "source": [
    "count = 0\n",
    "frames = []\n",
    "\n",
    "# mengeluarkan isi dataframe menggunakan perulangan\n",
    "for index, row in df_campaign.iterrows():\n",
    "        print(f\"Retrieveing openers data {row['Name']}\")\n",
    "\n",
    "        # Mencari jumlah page openers dari campaign name\n",
    "        globals()['get_openers_list%s' % count] = cm.get_data_list(api_key, row['CampaignID'], 'opens')\n",
    "\n",
    "        # Mengambil semua data openers dari campaign name\n",
    "        globals()['page_total%s' % count] = globals()['get_openers_list%s' % count]['page_total']\n",
    "\n",
    "        # Jika page total lebih dari 0, langsung loop data\n",
    "        if  globals()['page_total%s' % count] > 0:\n",
    "                globals()['df_campaign_openers%s' % count] = cm.loop_data_list_page(api_key, row['CampaignID'], 'opens', globals()['page_total%s' % count])\n",
    "                globals()['df_campaign_openers%s' % count]['Campaign Name'] = row['Name']\n",
    "                frames.append(globals()['df_campaign_openers%s' % count])\n",
    "        count += 1\n",
    "if len(frames) > 0:\n",
    "        df_campaign_openers = pd.concat(frames, ignore_index=True)\n",
    "else:\n",
    "        df_campaign_openers = pd.DataFrame({'Campaign Name': [''], 'Openers': ['']})   "
   ]
  },
  {
   "cell_type": "code",
   "execution_count": 110,
   "metadata": {},
   "outputs": [],
   "source": [
    "df_campaign_openers.to_excel(r'C:\\Users\\fajar\\Documents\\Python\\Data\\openers_all.xlsx', index=False)"
   ]
  },
  {
   "cell_type": "code",
   "execution_count": 111,
   "metadata": {},
   "outputs": [],
   "source": [
    "df_campaign_openers.drop_duplicates(subset=['EmailAddress'], inplace=True)\n",
    "# df_campaign_openers.to_excel(r'C:\\Users\\fajar\\Documents\\Python\\Data\\openers_unique.xlsx', index=False)"
   ]
  },
  {
   "cell_type": "code",
   "execution_count": 112,
   "metadata": {},
   "outputs": [],
   "source": [
    "gc = gspread.oauth(\n",
    "    credentials_filename= r'C:\\Users\\fajar\\Documents\\Python\\Data\\Google Credentials\\karma-oauth.json'\n",
    ")\n",
    "\n",
    "SHEET_ID = '1_O4_ZmZJe86gS_qiz7W0PZ2-USiVIFbVu6U7XWXCBUk'\n",
    "SHEET_NAME = 'Test'\n",
    "# SHEET_NAME = 'Sheet1'"
   ]
  },
  {
   "cell_type": "code",
   "execution_count": 113,
   "metadata": {},
   "outputs": [],
   "source": [
    "def next_available_row(worksheet):\n",
    "    str_list = worksheet.col_values(1)\n",
    "    return str(len(str_list)+1)"
   ]
  },
  {
   "cell_type": "code",
   "execution_count": 114,
   "metadata": {},
   "outputs": [
    {
     "data": {
      "text/html": [
       "<div>\n",
       "<style scoped>\n",
       "    .dataframe tbody tr th:only-of-type {\n",
       "        vertical-align: middle;\n",
       "    }\n",
       "\n",
       "    .dataframe tbody tr th {\n",
       "        vertical-align: top;\n",
       "    }\n",
       "\n",
       "    .dataframe thead th {\n",
       "        text-align: right;\n",
       "    }\n",
       "</style>\n",
       "<table border=\"1\" class=\"dataframe\">\n",
       "  <thead>\n",
       "    <tr style=\"text-align: right;\">\n",
       "      <th></th>\n",
       "      <th>Email</th>\n",
       "      <th>Name</th>\n",
       "    </tr>\n",
       "  </thead>\n",
       "  <tbody>\n",
       "    <tr>\n",
       "      <th>0</th>\n",
       "      <td>KarmaIndia.salesmanagers@karmagroup.com</td>\n",
       "      <td>Karma India. Sales Managers</td>\n",
       "    </tr>\n",
       "    <tr>\n",
       "      <th>1</th>\n",
       "      <td>johnandmel1@btinternet.com</td>\n",
       "      <td>John Windley</td>\n",
       "    </tr>\n",
       "    <tr>\n",
       "      <th>2</th>\n",
       "      <td>Anne.ginzel@gmail.com</td>\n",
       "      <td>Charlie Dove</td>\n",
       "    </tr>\n",
       "    <tr>\n",
       "      <th>3</th>\n",
       "      <td>Kevin.Matthews@afgonline.com.au</td>\n",
       "      <td></td>\n",
       "    </tr>\n",
       "    <tr>\n",
       "      <th>4</th>\n",
       "      <td>Max.Goebl@gmx.de</td>\n",
       "      <td></td>\n",
       "    </tr>\n",
       "    <tr>\n",
       "      <th>...</th>\n",
       "      <td>...</td>\n",
       "      <td>...</td>\n",
       "    </tr>\n",
       "    <tr>\n",
       "      <th>98</th>\n",
       "      <td>wbudiman@gmail.com</td>\n",
       "      <td></td>\n",
       "    </tr>\n",
       "    <tr>\n",
       "      <th>99</th>\n",
       "      <td>wen.lu688@googlemail.com</td>\n",
       "      <td></td>\n",
       "    </tr>\n",
       "    <tr>\n",
       "      <th>100</th>\n",
       "      <td>wkurniawan22@yahoo.com</td>\n",
       "      <td></td>\n",
       "    </tr>\n",
       "    <tr>\n",
       "      <th>101</th>\n",
       "      <td>yuli.vkool@gmail.com</td>\n",
       "      <td></td>\n",
       "    </tr>\n",
       "    <tr>\n",
       "      <th>102</th>\n",
       "      <td>ywirjawan@gmail.com</td>\n",
       "      <td></td>\n",
       "    </tr>\n",
       "  </tbody>\n",
       "</table>\n",
       "<p>103 rows × 2 columns</p>\n",
       "</div>"
      ],
      "text/plain": [
       "                                       Email                         Name\n",
       "0    KarmaIndia.salesmanagers@karmagroup.com  Karma India. Sales Managers\n",
       "1                 johnandmel1@btinternet.com                 John Windley\n",
       "2                      Anne.ginzel@gmail.com                 Charlie Dove\n",
       "3            Kevin.Matthews@afgonline.com.au                             \n",
       "4                           Max.Goebl@gmx.de                             \n",
       "..                                       ...                          ...\n",
       "98                        wbudiman@gmail.com                             \n",
       "99                  wen.lu688@googlemail.com                             \n",
       "100                   wkurniawan22@yahoo.com                             \n",
       "101                     yuli.vkool@gmail.com                             \n",
       "102                      ywirjawan@gmail.com                             \n",
       "\n",
       "[103 rows x 2 columns]"
      ]
     },
     "execution_count": 114,
     "metadata": {},
     "output_type": "execute_result"
    }
   ],
   "source": [
    "spreadsheet = gc.open_by_key(SHEET_ID)\n",
    "worksheet = spreadsheet.worksheet(SHEET_NAME)\n",
    "rows = worksheet.get_all_records()\n",
    "\n",
    "df_members = pd.DataFrame(rows)\n",
    "df_members"
   ]
  },
  {
   "cell_type": "code",
   "execution_count": 115,
   "metadata": {},
   "outputs": [
    {
     "data": {
      "text/plain": [
       "104"
      ]
     },
     "execution_count": 115,
     "metadata": {},
     "output_type": "execute_result"
    }
   ],
   "source": [
    "next_row = int(df_members.shape[0])+1\n",
    "next_row"
   ]
  },
  {
   "cell_type": "code",
   "execution_count": 116,
   "metadata": {},
   "outputs": [],
   "source": [
    "df_update = df_campaign_openers['EmailAddress'].loc[~df_campaign_openers['EmailAddress'].isin(df_members['Email'])].copy()\n",
    "df_update.reset_index(drop=True, inplace=True)"
   ]
  },
  {
   "cell_type": "code",
   "execution_count": 117,
   "metadata": {},
   "outputs": [
    {
     "data": {
      "text/plain": [
       "104"
      ]
     },
     "execution_count": 117,
     "metadata": {},
     "output_type": "execute_result"
    }
   ],
   "source": [
    "total_data = int(df_update.shape[0])\n",
    "last_update_range = next_row+total_data\n",
    "last_update_range"
   ]
  },
  {
   "cell_type": "code",
   "execution_count": 118,
   "metadata": {},
   "outputs": [
    {
     "data": {
      "text/plain": [
       "'A104:A104'"
      ]
     },
     "execution_count": 118,
     "metadata": {},
     "output_type": "execute_result"
    }
   ],
   "source": [
    "first_column = 'A'\n",
    "last_column = 'A'\n",
    "\n",
    "update_range = first_column+str(next_row)+':'+last_column+str(last_update_range)\n",
    "update_range"
   ]
  },
  {
   "cell_type": "code",
   "execution_count": 119,
   "metadata": {},
   "outputs": [],
   "source": [
    "# test_list = ['Anne.ginzel@gmail.com',\n",
    "#  'Kevin.Matthews@afgonline.com.au']"
   ]
  },
  {
   "cell_type": "code",
   "execution_count": 120,
   "metadata": {},
   "outputs": [
    {
     "name": "stdout",
     "output_type": "stream",
     "text": [
      "Tidak ada data yang harus diupdate\n"
     ]
    }
   ],
   "source": [
    "# Jika ada data yang harus di update\n",
    "if int(df_update.shape[0]) > 0:\n",
    "    try:\n",
    "        worksheet.update(update_range, [[value] for value in df_update.values.tolist()])\n",
    "    except gspread.exceptions.APIError as e:\n",
    "        print(e)\n",
    "else:\n",
    "    print(\"Tidak ada data yang harus diupdate\")\n"
   ]
  }
 ],
 "metadata": {
  "kernelspec": {
   "display_name": "Python 3",
   "language": "python",
   "name": "python3"
  },
  "language_info": {
   "codemirror_mode": {
    "name": "ipython",
    "version": 3
   },
   "file_extension": ".py",
   "mimetype": "text/x-python",
   "name": "python",
   "nbconvert_exporter": "python",
   "pygments_lexer": "ipython3",
   "version": "3.10.7"
  }
 },
 "nbformat": 4,
 "nbformat_minor": 2
}
