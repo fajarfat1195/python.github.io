{
 "cells": [
  {
   "cell_type": "code",
   "execution_count": 62,
   "metadata": {},
   "outputs": [
    {
     "name": "stdout",
     "output_type": "stream",
     "text": [
      "The autoreload extension is already loaded. To reload it, use:\n",
      "  %reload_ext autoreload\n"
     ]
    }
   ],
   "source": [
    "import requests\n",
    "from requests.auth import HTTPBasicAuth\n",
    "import pandas as pd\n",
    "import campaign_monitor_modul as cm\n",
    "\n",
    "%load_ext autoreload\n",
    "%autoreload 2\n",
    "\n",
    "# Replace with your actual API key and client ID\n",
    "api_key = 'W7KbXzk9fFsN+G3XrIemdIu156KSPq3Qh60OQFQw9oP0UPnDvfq8w2SH5plgeZnpzyA4Bc2QCKVpK9SB42n8ZO3Z4Cpefu2/HGULJneNoJZ2zza129wfcsOL35Fpoweq3ZcidTNu110I/HCNguRGUw=='\n",
    "client_id = '1545f43bbfe89f34ea7cf143c36c5e9f'\n",
    "campaign_id = '5489242c196e25e8772adf912ca66443'\n",
    "\n",
    "# API endpoint\n",
    "url = f'https://api.createsend.com/api/v3.2/clients/{client_id}/campaigns.json'"
   ]
  },
  {
   "cell_type": "code",
   "execution_count": 68,
   "metadata": {},
   "outputs": [
    {
     "name": "stdout",
     "output_type": "stream",
     "text": [
      "Campaigns List:\n"
     ]
    },
    {
     "data": {
      "text/plain": [
       "'Vol_245|Vol_246'"
      ]
     },
     "execution_count": 68,
     "metadata": {},
     "output_type": "execute_result"
    }
   ],
   "source": [
    "search_value = 'Vol_245|Vol_246'\n",
    "df_campaign = cm.get_campaign_list(api_key, client_id, search_value)\n",
    "df_campaign"
   ]
  },
  {
   "cell_type": "code",
   "execution_count": 70,
   "metadata": {},
   "outputs": [
    {
     "name": "stdout",
     "output_type": "stream",
     "text": [
      "Retrieveing openers data KCI_W2Oct24_Karma_Community_Vol_246_Batch_10\n",
      "Retrieveing openers data KCI_W2Oct24_Karma_Community_Vol_246_Batch_9\n",
      "Retrieveing openers data KCI_W2Oct24_Karma_Community_Vol_246_Batch_8\n",
      "Retrieveing openers data KCB_Bahasa_W2Oct24_Karma_Community_Vol_246\n",
      "Retrieveing openers data KCI_W2Oct24_Karma_Community_Vol_246_Batch_7\n",
      "Retrieveing openers data KCI_W2Oct24_Karma_Community_Vol_246_Batch_6\n",
      "Retrieveing openers data KCI_W2Oct24_Karma_Community_Vol_246_Batch_5\n",
      "Retrieveing openers data KCI_W2Oct24_Karma_Community_Vol_246_Batch_4\n",
      "Retrieveing openers data KCI_W2Oct24_Karma_Community_Vol_246_Batch_3\n",
      "Retrieveing openers data KCB_W2Oct24_Karma_Community_Vol_246_Batch_3\n",
      "Retrieveing openers data KCI_W2Oct24_Karma_Community_Vol_246_Batch_2\n",
      "Retrieveing openers data KCI_W2Oct24_Karma_Community_Vol_246_Batch_1\n",
      "Retrieveing openers data KCEU_W2Oct24_Karma_Community_Vol_246\n",
      "Retrieveing openers data KCDEU_W2Oct24_Karma_Community_Vol_246\n",
      "Retrieveing openers data KCB_W2Oct24_Karma_Community_Vol_246_Batch_2\n",
      "Retrieveing openers data KCB_W2Oct24_Karma_Community_Vol_246_Batch_1\n",
      "Retrieveing openers data Villa_Owners_W2Oct24_Karma_Community_Vol_246\n",
      "Retrieveing openers data KCI_W1Oct24_Karma_Community_Vol_245_Batch9_resend\n",
      "Retrieveing openers data KCI_W1Oct24_Karma_Community_Vol_245_Batch8_resend\n",
      "Retrieveing openers data KCI_W1Oct24_Karma_Community_Vol_245_Batch7_resend\n",
      "Retrieveing openers data KCI_W1Oct24_Karma_Community_Vol_245_Batch6_resend\n",
      "Retrieveing openers data KCI_W1Oct24_Karma_Community_Vol_245_Batch5_resend\n",
      "Retrieveing openers data KCI_W1Oct24_Karma_Community_Vol_245_Batch4_resend\n",
      "Retrieveing openers data KCI_W1Oct24_Karma_Community_Vol_245_Batch3_resend\n",
      "Retrieveing openers data KCI_W1Oct24_Karma_Community_Vol_245_Batch2_resend\n",
      "Retrieveing openers data KCI_W1Oct24_Karma_Community_Vol_245_Batch1_resend\n",
      "Retrieveing openers data W1Oct24_Karma_Community_Vol_245_Hotmail_short_articles\n",
      "Retrieveing openers data W1Oct24_Karma_Community_Vol_245_Hotmails\n",
      "Retrieveing openers data W1Oct24_Karma_Community_Vol_245_Hotmail_Gmail_Yahoo\n",
      "Retrieveing openers data W1Oct24_Karma_Community_Vol_245_Hotmail_Irvan\n",
      "Retrieveing openers data W1Oct24_Karma_Community_Vol_245_Hotmail\n",
      "Retrieveing openers data W1Oct24_Karma_Community_Vol_245_Hotmail_JS\n",
      "Retrieveing openers data W1Oct24_Karma_Community_Vol_245_Hotmail_JS\n",
      "Retrieveing openers data W1Oct24_Karma_Community_Vol_245_Hotmail_BR_@\n",
      "Retrieveing openers data W1Oct24_Karma_Community_Vol_245_Hotmail_BR\n",
      "Retrieveing openers data KCB_Bahasa_W1Oct24_Karma_Community_Vol_245\n",
      "Retrieveing openers data KCI_W1Oct24_Karma_Community_Vol_245_Batch2\n",
      "Retrieveing openers data KCI_W1Oct24_Karma_Community_Vol_245_Batch1\n",
      "Retrieveing openers data KCEU_W1Oct24_Karma_Community_Vol_245\n",
      "Retrieveing openers data KCDEU_W1Oct24_Karma_Community_Vol_245\n",
      "Retrieveing openers data KCB_W1Oct24_Karma_Community_Vol_245\n",
      "Retrieveing openers data Villa_Owners_W1Oct24_Karma_Community_Vol_245\n"
     ]
    }
   ],
   "source": [
    "count = 0\n",
    "frames = []\n",
    "\n",
    "# mengeluarkan isi dataframe menggunakan perulangan\n",
    "for index, row in df_campaign.iterrows():\n",
    "        print(f\"Retrieveing openers data {row['Name']}\")\n",
    "\n",
    "        # Mencari jumlah page openers dari campaign name\n",
    "        globals()['get_openers_list%s' % count] = cm.get_openers_list(api_key, row['CampaignID'])\n",
    "\n",
    "        # Mengambil semua data openers dari campaign name\n",
    "        globals()['page_total%s' % count] = globals()['get_openers_list%s' % count]['page_total']\n",
    "\n",
    "        # Jika page total lebih dari 0, langsung loop data\n",
    "        if  globals()['page_total%s' % count] > 0:\n",
    "                globals()['df_campaign%s' % count] = cm.loop_openers_list_page(api_key, row['CampaignID'], globals()['page_total%s' % count])\n",
    "                globals()['df_campaign%s' % count]['Campaign Name'] = row['Name']\n",
    "                frames.append(globals()['df_campaign%s' % count])\n",
    "        count += 1\n",
    "\n",
    "df_campaign_openers = pd.concat(frames, ignore_index=True)\n",
    "df_campaign_openers.to_excel(r'C:\\Users\\fajar\\Documents\\Python\\Data\\openers_all.xlsx', index=False)\n",
    "\n",
    "df_campaign_openers.drop_duplicates(subset=['EmailAddress'], inplace=True)"
   ]
  },
  {
   "cell_type": "code",
   "execution_count": 71,
   "metadata": {},
   "outputs": [],
   "source": [
    "df_campaign_openers.to_excel(r'C:\\Users\\fajar\\Documents\\Python\\Data\\openers_unique.xlsx', index=False)"
   ]
  }
 ],
 "metadata": {
  "kernelspec": {
   "display_name": "Python 3",
   "language": "python",
   "name": "python3"
  },
  "language_info": {
   "codemirror_mode": {
    "name": "ipython",
    "version": 3
   },
   "file_extension": ".py",
   "mimetype": "text/x-python",
   "name": "python",
   "nbconvert_exporter": "python",
   "pygments_lexer": "ipython3",
   "version": "3.10.7"
  }
 },
 "nbformat": 4,
 "nbformat_minor": 2
}
