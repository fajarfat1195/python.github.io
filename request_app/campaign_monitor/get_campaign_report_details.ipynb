{
 "cells": [
  {
   "cell_type": "code",
   "execution_count": null,
   "metadata": {},
   "outputs": [],
   "source": [
    "import requests\n",
    "from requests.auth import HTTPBasicAuth\n",
    "import pandas as pd\n",
    "import campaign_monitor_modul as cm\n",
    "\n",
    "%load_ext autoreload\n",
    "%autoreload 2\n",
    "\n",
    "# Replace with your actual API key and client ID\n",
    "api_key = 'W7KbXzk9fFsN+G3XrIemdIu156KSPq3Qh60OQFQw9oP0UPnDvfq8w2SH5plgeZnpzyA4Bc2QCKVpK9SB42n8ZO3Z4Cpefu2/HGULJneNoJZ2zza129wfcsOL35Fpoweq3ZcidTNu110I/HCNguRGUw=='\n",
    "client_id = '1545f43bbfe89f34ea7cf143c36c5e9f'\n",
    "\n",
    "# API endpoint\n",
    "url = f'https://api.createsend.com/api/v3.2/clients/{client_id}/campaigns.json'"
   ]
  },
  {
   "cell_type": "code",
   "execution_count": 61,
   "metadata": {},
   "outputs": [
    {
     "name": "stdout",
     "output_type": "stream",
     "text": [
      "Vol_244|Vol_245\n"
     ]
    }
   ],
   "source": [
    "# list_campaign = ['Vol_244',\n",
    "#              'Vol_245']\n",
    "# search_value = '|'.join(list_campaign)\n",
    "# print(search_value)"
   ]
  },
  {
   "cell_type": "code",
   "execution_count": null,
   "metadata": {},
   "outputs": [],
   "source": [
    "search_value = 'Vol_244'\n",
    "df_campaign = cm.get_campaign_list(api_key, client_id, search_value)\n",
    "df_campaign"
   ]
  },
  {
   "cell_type": "code",
   "execution_count": null,
   "metadata": {},
   "outputs": [],
   "source": [
    "count = 0\n",
    "frames = []\n",
    "\n",
    "# get data openers\n",
    "\n",
    "# mengeluarkan isi dataframe menggunakan perulangan\n",
    "for index, row in df_campaign.iterrows():\n",
    "        print(f\"Retrieveing openers data {row['Name']}\")\n",
    "\n",
    "        # Mencari jumlah page openers dari campaign name\n",
    "        globals()['get_openers_list%s' % count] = cm.get_data_list(api_key, row['CampaignID'], 'opens')\n",
    "\n",
    "        # Mengambil semua data openers dari campaign name\n",
    "        globals()['page_total%s' % count] = globals()['get_openers_list%s' % count]['page_total']\n",
    "\n",
    "        # Jika page total lebih dari 0, langsung loop data\n",
    "        if  globals()['page_total%s' % count] > 0:\n",
    "                globals()['df_campaign_openers%s' % count] = cm.loop_data_list_page(api_key, row['CampaignID'], 'opens', globals()['page_total%s' % count])\n",
    "                globals()['df_campaign_openers%s' % count]['Campaign Name'] = row['Name']\n",
    "                frames.append(globals()['df_campaign_openers%s' % count])\n",
    "        count += 1\n",
    "if len(frames) > 1:\n",
    "        df_campaign_openers = pd.concat(frames, ignore_index=True)\n",
    "else:\n",
    "        df_campaign_openers = pd.DataFrame({'Campaign Name': [''], 'Openers': ['']})   "
   ]
  },
  {
   "cell_type": "code",
   "execution_count": null,
   "metadata": {},
   "outputs": [],
   "source": [
    "df_openers = df_campaign_openers.groupby('Campaign Name')['EmailAddress'].count().reset_index(name='Openers').copy()\n",
    "df_openers"
   ]
  },
  {
   "cell_type": "code",
   "execution_count": null,
   "metadata": {},
   "outputs": [],
   "source": [
    "count = 0\n",
    "frames = []\n",
    "\n",
    "# get data clicks\n",
    "\n",
    "# mengeluarkan isi dataframe menggunakan perulangan\n",
    "for index, row in df_campaign.iterrows():\n",
    "        print(f\"Retrieveing clicks data {row['Name']}\")\n",
    "\n",
    "        # Mencari jumlah page clicks dari campaign name\n",
    "        globals()['get_clicks_list%s' % count] = cm.get_data_list(api_key, row['CampaignID'], 'clicks')\n",
    "\n",
    "        # Mengambil semua data clicks dari campaign name\n",
    "        globals()['page_total%s' % count] = globals()['get_clicks_list%s' % count]['page_total']\n",
    "\n",
    "        # Jika page total lebih dari 0, langsung loop data\n",
    "        if  globals()['page_total%s' % count] > 0:\n",
    "                globals()['df_campaign_clicks%s' % count] = cm.loop_data_list_page(api_key, row['CampaignID'], 'clicks', globals()['page_total%s' % count])\n",
    "                globals()['df_campaign_clicks%s' % count]['Campaign Name'] = row['Name']\n",
    "                frames.append(globals()['df_campaign_clicks%s' % count])\n",
    "        count += 1\n",
    "if len(frames) > 1:\n",
    "        df_campaign_clicks = pd.concat(frames, ignore_index=True)\n",
    "else:\n",
    "        df_campaign_clicks = pd.DataFrame({'Campaign Name': [''], 'Clicks': ['']})   "
   ]
  },
  {
   "cell_type": "code",
   "execution_count": null,
   "metadata": {},
   "outputs": [],
   "source": [
    "df_clicks = df_campaign_clicks.groupby('Campaign Name')['EmailAddress'].count().reset_index(name='Clicks').copy()\n",
    "df_clicks"
   ]
  },
  {
   "cell_type": "code",
   "execution_count": null,
   "metadata": {},
   "outputs": [],
   "source": [
    "count = 0\n",
    "frames = []\n",
    "\n",
    "# get data bounces\n",
    "\n",
    "# mengeluarkan isi dataframe menggunakan perulangan\n",
    "for index, row in df_campaign.iterrows():\n",
    "        print(f\"Retrieveing bounces data {row['Name']}\")\n",
    "\n",
    "        # Mencari jumlah page bounces dari campaign name\n",
    "        globals()['get_bounces_list%s' % count] = cm.get_data_list(api_key, row['CampaignID'], 'bounces')\n",
    "\n",
    "        # Mengambil semua data bounces dari campaign name\n",
    "        globals()['page_total%s' % count] = globals()['get_bounces_list%s' % count]['page_total']\n",
    "\n",
    "        # Jika page total lebih dari 0, langsung loop data\n",
    "        if  globals()['page_total%s' % count] > 0:\n",
    "                globals()['df_campaign_bounces%s' % count] = cm.loop_data_list_page(api_key, row['CampaignID'], 'bounces', globals()['page_total%s' % count])\n",
    "                globals()['df_campaign_bounces%s' % count]['Campaign Name'] = row['Name']\n",
    "                frames.append(globals()['df_campaign_bounces%s' % count])\n",
    "        count += 1\n",
    "if len(frames) > 1:\n",
    "        df_campaign_bounces = pd.concat(frames, ignore_index=True)\n",
    "else:\n",
    "        df_campaign_bounces = pd.DataFrame({'Campaign Name': [''], 'Bounces': ['']})        "
   ]
  },
  {
   "cell_type": "code",
   "execution_count": null,
   "metadata": {},
   "outputs": [],
   "source": [
    "df_bounces = df_campaign_bounces.groupby('Campaign Name')['EmailAddress'].count().reset_index(name='Bounces').copy()\n",
    "df_bounces"
   ]
  },
  {
   "cell_type": "code",
   "execution_count": null,
   "metadata": {},
   "outputs": [],
   "source": [
    "count = 0\n",
    "frames = []\n",
    "\n",
    "# get data unsubscribes\n",
    "\n",
    "# mengeluarkan isi dataframe menggunakan perulangan\n",
    "for index, row in df_campaign.iterrows():\n",
    "        print(f\"Retrieveing unsubscribes data {row['Name']}\")\n",
    "\n",
    "        # Mencari jumlah page unsubscribes dari campaign name\n",
    "        globals()['get_unsubscribes_list%s' % count] = cm.get_data_list(api_key, row['CampaignID'], 'unsubscribes')\n",
    "\n",
    "        # Mengambil semua data unsubscribes dari campaign name\n",
    "        globals()['page_total%s' % count] = globals()['get_unsubscribes_list%s' % count]['page_total']\n",
    "\n",
    "        # Jika page total lebih dari 0, langsung loop data\n",
    "        if  globals()['page_total%s' % count] > 0:\n",
    "                globals()['df_campaign_unsubscribes%s' % count] = cm.loop_data_list_page(api_key, row['CampaignID'], 'unsubscribes', globals()['page_total%s' % count])\n",
    "                globals()['df_campaign_unsubscribes%s' % count]['Campaign Name'] = row['Name']\n",
    "                frames.append(globals()['df_campaign_unsubscribes%s' % count])\n",
    "        count += 1\n",
    "if len(frames) > 1:\n",
    "        df_campaign_unsubscribes = pd.concat(frames, ignore_index=True)\n",
    "else:\n",
    "        df_campaign_unsubscribes = pd.DataFrame({'Campaign Name': [''], 'Unsubscribers': ['']})"
   ]
  },
  {
   "cell_type": "code",
   "execution_count": null,
   "metadata": {},
   "outputs": [],
   "source": [
    "df_unsubscribers = df_campaign_bounces.groupby('Campaign Name')['EmailAddress'].count().reset_index(name='Unsubscribers').copy()\n",
    "df_unsubscribers"
   ]
  },
  {
   "cell_type": "code",
   "execution_count": null,
   "metadata": {},
   "outputs": [],
   "source": [
    "df_campaign = df_campaign.rename(columns={'Name': 'Campaign Name'})\n",
    "df_merge = df_campaign.merge(df_openers, on='Campaign Name', how='left').merge(df_clicks, on='Campaign Name', how='left').merge(df_bounces, on='Campaign Name', how='left').merge(df_unsubscribers, on='Campaign Name', how='left')\n",
    "df_merge"
   ]
  },
  {
   "cell_type": "code",
   "execution_count": null,
   "metadata": {},
   "outputs": [],
   "source": [
    "df_merge.fillna(0, inplace=True)\n",
    "df_merge[['Openers','Clicks','Bounces','Unsubscribers']] = df_merge[['Openers','Clicks','Bounces','Unsubscribers']].astype(int)\n",
    "df_merge"
   ]
  },
  {
   "cell_type": "code",
   "execution_count": null,
   "metadata": {},
   "outputs": [],
   "source": [
    "df_merge = df_merge[['CampaignID', 'Campaign Name', 'SentDate', 'Subject', \n",
    "         'TotalRecipients', 'Openers', 'Clicks', 'Bounces', 'Unsubscribers']]\n",
    "df_merge"
   ]
  },
  {
   "cell_type": "code",
   "execution_count": 59,
   "metadata": {},
   "outputs": [],
   "source": [
    "df_merge.to_excel(r'C:\\Users\\fajar\\Documents\\Python\\Data\\report_detail.xlsx', index=False)"
   ]
  }
 ],
 "metadata": {
  "kernelspec": {
   "display_name": "Python 3",
   "language": "python",
   "name": "python3"
  },
  "language_info": {
   "codemirror_mode": {
    "name": "ipython",
    "version": 3
   },
   "file_extension": ".py",
   "mimetype": "text/x-python",
   "name": "python",
   "nbconvert_exporter": "python",
   "pygments_lexer": "ipython3",
   "version": "3.10.7"
  }
 },
 "nbformat": 4,
 "nbformat_minor": 2
}
