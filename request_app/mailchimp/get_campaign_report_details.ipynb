{
 "cells": [
  {
   "cell_type": "code",
   "execution_count": 23,
   "metadata": {},
   "outputs": [
    {
     "name": "stdout",
     "output_type": "stream",
     "text": [
      "The autoreload extension is already loaded. To reload it, use:\n",
      "  %reload_ext autoreload\n"
     ]
    }
   ],
   "source": [
    "import pandas as pd\n",
    "import mailchimp_modul as mcm\n",
    "\n",
    "%load_ext autoreload\n",
    "%autoreload 2\n",
    "\n",
    "# Replace with your actual API key and client ID\n",
    "api_key = '4af88cb8f553cbf45b6a5de8bcb88a5f'\n",
    "server = 'us17'\n",
    "\n",
    "# API endpoint\n",
    "# url = f'https://api.createsend.com/api/v3.2/clients/{client_id}/campaigns.json'"
   ]
  },
  {
   "cell_type": "code",
   "execution_count": 24,
   "metadata": {},
   "outputs": [],
   "source": [
    "# list_campaign = ['MC_Bali_W1Oct24_2025_Invoice_USD',\n",
    "# 'MC_Bali_W1Oct24_2025_Invoice_IDR',\n",
    "# 'MC_Bali_W1Oct24_USD_2025_Invoice_Apology_Batch 1',\n",
    "# 'MC_Bali_W1Oct24_USD_2025_Invoice_Apology_Batch 2',\n",
    "# 'MC_Bali_W1Oct24_IDR_2025_Invoice_Apology',\n",
    "# 'MC_Bali_W1Oct24_USD_2025_Invoice_Apology_Batch 1 [NO]',\n",
    "# 'MC_Bali_W1Oct24_USD_2025_Invoice_Apology_Batch 2 [NO]',\n",
    "# 'MC_Bali_W1Oct24_IDR_2025_Invoice_Apology_[NO]',\n",
    "# 'MC_Bali_W1Oct24_USD_2025_Invoice_Apology_Batch 1 [NO2]',\n",
    "# 'MC_Bali_W1Oct24_USD_2025_Invoice_Apology_Batch 2 [NO2]',\n",
    "# 'MC_Bali_W1Oct24_IDR_2025_Invoice_Apology [NO2]',\n",
    "# 'MC_India_W1Oct24_2025_Invoice_Batch 1',\n",
    "# 'MC_India_W1Oct24_2025_Invoice_Batch 2',\n",
    "# 'MC_India_W1Oct24_2025_Invoice_Batch 3',\n",
    "# 'MC_India_W1Oct24_2025_Invoice_Batch 4',\n",
    "# 'MC_India_W1Oct24_2025_Invoice_Batch 1 [NO]',\n",
    "# 'MC_India_W1Oct24_2025_Invoice_Batch 2 [NO]',\n",
    "# 'MC_India_W1Oct24_2025_Invoice_Batch 3[NO]',\n",
    "# 'MC_India_W1Oct24_2025_Invoice_Batch 4[NO]']\n",
    "# search_value = '|'.join(list_campaign)\n",
    "# print(search_value)\n",
    "\n",
    "search_value = 'KCI W1Aug25 - Fushi - KRR'"
   ]
  },
  {
   "cell_type": "code",
   "execution_count": null,
   "metadata": {},
   "outputs": [
    {
     "name": "stdout",
     "output_type": "stream",
     "text": [
      "{'results': [{'campaign': {'id': 'b29c3671f0', 'web_id': 13568625, 'type': 'regular', 'create_time': '2025-08-08T02:43:19+00:00', 'archive_url': 'http://eepurl.com/jkR3R6', 'long_archive_url': 'https://mailchi.mp/96ebcb64c846/75-off-points-on-your-mediterranean-escape-13568625', 'status': 'sent', 'emails_sent': 8308, 'send_time': '2025-08-08T14:33:40+00:00', 'content_type': 'html', 'needs_block_refresh': False, 'resendable': True, 'recipients': {'list_id': '7f6e7d27ac', 'list_is_active': True, 'list_name': 'Karma Group', 'segment_text': '<p class=\"!margin--lv0 display--inline\">Contacts that match <strong>all</strong> of the following conditions:</p><ol id=\"conditions\" class=\"small-meta text-transform--none\"><li class=\"margin--lv1 !margin-left-right--lv0\">Matches a custom advanced segment</li></ol><span>For a total of <strong>8308</strong> emails sent.</span>', 'recipient_count': 8308, 'segment_opts': {'match': 'all'}}, 'settings': {'subject_line': 'Meet the Wonders of the Ocean Like Never Before🦈', 'preview_text': 'Sail the Maldives with our Points Only exclusive offer.', 'title': 'KCI W1Aug25 - Fushi - KRR', 'from_name': 'Karma Concierge', 'reply_to': 'hotdeals.india@karmaclub.community', 'use_conversation': False, 'to_name': '*|FNAME|* *|LNAME|*', 'folder_id': 'bbbde5ae7c', 'authenticate': True, 'auto_footer': False, 'inline_css': False, 'auto_tweet': False, 'fb_comments': True, 'timewarp': False, 'template_id': 0, 'drag_and_drop': False}, 'tracking': {'opens': True, 'html_clicks': True, 'text_clicks': True, 'goal_tracking': False, 'ecomm360': False, 'google_analytics': 'KCI_W1Aug25_Fushi_KRR', 'clicktale': 'EMAIL_CAMPAIGN_11_1_2024_17_3_COPY_01'}, 'report_summary': {'opens': 1565, 'unique_opens': 1236, 'open_rate': 0.14893360645860948, 'clicks': 252, 'subscriber_clicks': 34, 'click_rate': 0.0040968791420653095, 'ecommerce': {'total_orders': 0, 'total_spent': 0, 'total_revenue': 0}}, 'delivery_status': {'enabled': True, 'can_cancel': False, 'status': 'delivered', 'emails_sent': 8308, 'emails_canceled': 0}, '_links': [{'rel': 'parent', 'href': 'https://us17.api.mailchimp.com/3.0/campaigns', 'method': 'GET', 'targetSchema': 'https://us17.api.mailchimp.com/schema/3.0/Definitions/Campaigns/CollectionResponse.json', 'schema': 'https://us17.api.mailchimp.com/schema/3.0/Paths/Campaigns/Collection.json'}, {'rel': 'self', 'href': 'https://us17.api.mailchimp.com/3.0/campaigns/b29c3671f0', 'method': 'GET', 'targetSchema': 'https://us17.api.mailchimp.com/schema/3.0/Definitions/Campaigns/Response.json'}, {'rel': 'delete', 'href': 'https://us17.api.mailchimp.com/3.0/campaigns/b29c3671f0', 'method': 'DELETE'}, {'rel': 'send', 'href': 'https://us17.api.mailchimp.com/3.0/campaigns/b29c3671f0/actions/send', 'method': 'POST'}, {'rel': 'cancel_send', 'href': 'https://us17.api.mailchimp.com/3.0/campaigns/b29c3671f0/actions/cancel-send', 'method': 'POST'}, {'rel': 'feedback', 'href': 'https://us17.api.mailchimp.com/3.0/campaigns/b29c3671f0/feedback', 'method': 'GET', 'targetSchema': 'https://us17.api.mailchimp.com/schema/3.0/Definitions/Campaigns/Feedback/CollectionResponse.json'}, {'rel': 'content', 'href': 'https://us17.api.mailchimp.com/3.0/campaigns/b29c3671f0/content', 'method': 'GET', 'targetSchema': 'https://us17.api.mailchimp.com/schema/3.0/Definitions/Campaigns/Content/Response.json'}, {'rel': 'send_checklist', 'href': 'https://us17.api.mailchimp.com/3.0/campaigns/b29c3671f0/send-checklist', 'method': 'GET', 'targetSchema': 'https://us17.api.mailchimp.com/schema/3.0/Definitions/Campaigns/Checklist/Response.json'}, {'rel': 'pause', 'href': 'https://us17.api.mailchimp.com/3.0/campaigns/b29c3671f0/actions/pause', 'method': 'POST'}, {'rel': 'resume', 'href': 'https://us17.api.mailchimp.com/3.0/campaigns/b29c3671f0/actions/resume', 'method': 'POST'}, {'rel': 'replicate', 'href': 'https://us17.api.mailchimp.com/3.0/campaigns/b29c3671f0/actions/replicate', 'method': 'POST'}, {'rel': 'create_resend', 'href': 'https://us17.api.mailchimp.com/3.0/campaigns/b29c3671f0/actions/create-resend', 'method': 'POST'}]}, 'snippet': 'KCI W1Aug25 - Fushi - KRR'}], 'total_items': 1, '_links': [{'rel': 'self', 'href': 'https://us17.api.mailchimp.com/3.0/search-campaigns', 'method': 'GET', 'targetSchema': 'https://us17.api.mailchimp.com/schema/3.0/Definitions/SearchCampaigns/Response.json'}]}\n",
      "\n",
      "Type of response object: <class 'dict'>\n"
     ]
    },
    {
     "data": {
      "text/plain": [
       "{'results': [{'campaign': {'id': 'b29c3671f0',\n",
       "    'web_id': 13568625,\n",
       "    'type': 'regular',\n",
       "    'create_time': '2025-08-08T02:43:19+00:00',\n",
       "    'archive_url': 'http://eepurl.com/jkR3R6',\n",
       "    'long_archive_url': 'https://mailchi.mp/96ebcb64c846/75-off-points-on-your-mediterranean-escape-13568625',\n",
       "    'status': 'sent',\n",
       "    'emails_sent': 8308,\n",
       "    'send_time': '2025-08-08T14:33:40+00:00',\n",
       "    'content_type': 'html',\n",
       "    'needs_block_refresh': False,\n",
       "    'resendable': True,\n",
       "    'recipients': {'list_id': '7f6e7d27ac',\n",
       "     'list_is_active': True,\n",
       "     'list_name': 'Karma Group',\n",
       "     'segment_text': '<p class=\"!margin--lv0 display--inline\">Contacts that match <strong>all</strong> of the following conditions:</p><ol id=\"conditions\" class=\"small-meta text-transform--none\"><li class=\"margin--lv1 !margin-left-right--lv0\">Matches a custom advanced segment</li></ol><span>For a total of <strong>8308</strong> emails sent.</span>',\n",
       "     'recipient_count': 8308,\n",
       "     'segment_opts': {'match': 'all'}},\n",
       "    'settings': {'subject_line': 'Meet the Wonders of the Ocean Like Never Before🦈',\n",
       "     'preview_text': 'Sail the Maldives with our Points Only exclusive offer.',\n",
       "     'title': 'KCI W1Aug25 - Fushi - KRR',\n",
       "     'from_name': 'Karma Concierge',\n",
       "     'reply_to': 'hotdeals.india@karmaclub.community',\n",
       "     'use_conversation': False,\n",
       "     'to_name': '*|FNAME|* *|LNAME|*',\n",
       "     'folder_id': 'bbbde5ae7c',\n",
       "     'authenticate': True,\n",
       "     'auto_footer': False,\n",
       "     'inline_css': False,\n",
       "     'auto_tweet': False,\n",
       "     'fb_comments': True,\n",
       "     'timewarp': False,\n",
       "     'template_id': 0,\n",
       "     'drag_and_drop': False},\n",
       "    'tracking': {'opens': True,\n",
       "     'html_clicks': True,\n",
       "     'text_clicks': True,\n",
       "     'goal_tracking': False,\n",
       "     'ecomm360': False,\n",
       "     'google_analytics': 'KCI_W1Aug25_Fushi_KRR',\n",
       "     'clicktale': 'EMAIL_CAMPAIGN_11_1_2024_17_3_COPY_01'},\n",
       "    'report_summary': {'opens': 1565,\n",
       "     'unique_opens': 1236,\n",
       "     'open_rate': 0.14893360645860948,\n",
       "     'clicks': 252,\n",
       "     'subscriber_clicks': 34,\n",
       "     'click_rate': 0.0040968791420653095,\n",
       "     'ecommerce': {'total_orders': 0, 'total_spent': 0, 'total_revenue': 0}},\n",
       "    'delivery_status': {'enabled': True,\n",
       "     'can_cancel': False,\n",
       "     'status': 'delivered',\n",
       "     'emails_sent': 8308,\n",
       "     'emails_canceled': 0},\n",
       "    '_links': [{'rel': 'parent',\n",
       "      'href': 'https://us17.api.mailchimp.com/3.0/campaigns',\n",
       "      'method': 'GET',\n",
       "      'targetSchema': 'https://us17.api.mailchimp.com/schema/3.0/Definitions/Campaigns/CollectionResponse.json',\n",
       "      'schema': 'https://us17.api.mailchimp.com/schema/3.0/Paths/Campaigns/Collection.json'},\n",
       "     {'rel': 'self',\n",
       "      'href': 'https://us17.api.mailchimp.com/3.0/campaigns/b29c3671f0',\n",
       "      'method': 'GET',\n",
       "      'targetSchema': 'https://us17.api.mailchimp.com/schema/3.0/Definitions/Campaigns/Response.json'},\n",
       "     {'rel': 'delete',\n",
       "      'href': 'https://us17.api.mailchimp.com/3.0/campaigns/b29c3671f0',\n",
       "      'method': 'DELETE'},\n",
       "     {'rel': 'send',\n",
       "      'href': 'https://us17.api.mailchimp.com/3.0/campaigns/b29c3671f0/actions/send',\n",
       "      'method': 'POST'},\n",
       "     {'rel': 'cancel_send',\n",
       "      'href': 'https://us17.api.mailchimp.com/3.0/campaigns/b29c3671f0/actions/cancel-send',\n",
       "      'method': 'POST'},\n",
       "     {'rel': 'feedback',\n",
       "      'href': 'https://us17.api.mailchimp.com/3.0/campaigns/b29c3671f0/feedback',\n",
       "      'method': 'GET',\n",
       "      'targetSchema': 'https://us17.api.mailchimp.com/schema/3.0/Definitions/Campaigns/Feedback/CollectionResponse.json'},\n",
       "     {'rel': 'content',\n",
       "      'href': 'https://us17.api.mailchimp.com/3.0/campaigns/b29c3671f0/content',\n",
       "      'method': 'GET',\n",
       "      'targetSchema': 'https://us17.api.mailchimp.com/schema/3.0/Definitions/Campaigns/Content/Response.json'},\n",
       "     {'rel': 'send_checklist',\n",
       "      'href': 'https://us17.api.mailchimp.com/3.0/campaigns/b29c3671f0/send-checklist',\n",
       "      'method': 'GET',\n",
       "      'targetSchema': 'https://us17.api.mailchimp.com/schema/3.0/Definitions/Campaigns/Checklist/Response.json'},\n",
       "     {'rel': 'pause',\n",
       "      'href': 'https://us17.api.mailchimp.com/3.0/campaigns/b29c3671f0/actions/pause',\n",
       "      'method': 'POST'},\n",
       "     {'rel': 'resume',\n",
       "      'href': 'https://us17.api.mailchimp.com/3.0/campaigns/b29c3671f0/actions/resume',\n",
       "      'method': 'POST'},\n",
       "     {'rel': 'replicate',\n",
       "      'href': 'https://us17.api.mailchimp.com/3.0/campaigns/b29c3671f0/actions/replicate',\n",
       "      'method': 'POST'},\n",
       "     {'rel': 'create_resend',\n",
       "      'href': 'https://us17.api.mailchimp.com/3.0/campaigns/b29c3671f0/actions/create-resend',\n",
       "      'method': 'POST'}]},\n",
       "   'snippet': 'KCI W1Aug25 - Fushi - KRR'}],\n",
       " 'total_items': 1,\n",
       " '_links': [{'rel': 'self',\n",
       "   'href': 'https://us17.api.mailchimp.com/3.0/search-campaigns',\n",
       "   'method': 'GET',\n",
       "   'targetSchema': 'https://us17.api.mailchimp.com/schema/3.0/Definitions/SearchCampaigns/Response.json'}]}"
      ]
     },
     "execution_count": 45,
     "metadata": {},
     "output_type": "execute_result"
    }
   ],
   "source": [
    "# import mailchimp_marketing as MailchimpMarketing\n",
    "# from mailchimp_marketing.api_client import ApiClientError\n",
    "\n",
    "# try:\n",
    "#   client = MailchimpMarketing.Client()\n",
    "#   client.set_config({\n",
    "#     \"api_key\": \"4af88cb8f553cbf45b6a5de8bcb88a5f\",\n",
    "#     \"server\": \"us17\"\n",
    "#   })\n",
    "\n",
    "#   response = client.searchCampaigns.search(search_value)\n",
    "#   print(response)\n",
    "#   # Check the type of the response object\n",
    "#   print(f\"\\nType of response object: {type(response)}\")\n",
    "# except ApiClientError as error:\n",
    "#   print(\"Error: {}\".format(error.text))\n",
    "\n",
    "# response\n"
   ]
  },
  {
   "cell_type": "code",
   "execution_count": 94,
   "metadata": {},
   "outputs": [],
   "source": [
    "import mailchimp_marketing as MailchimpMarketing\n",
    "from mailchimp_marketing.api_client import ApiClientError\n",
    "\n",
    "api_key = '4af88cb8f553cbf45b6a5de8bcb88a5f'\n",
    "server = 'us17'\n",
    "campaign_id = '3a09ce9393'"
   ]
  },
  {
   "cell_type": "code",
   "execution_count": 98,
   "metadata": {},
   "outputs": [
    {
     "data": {
      "application/vnd.microsoft.datawrangler.viewer.v0+json": {
       "columns": [
        {
         "name": "index",
         "rawType": "int64",
         "type": "integer"
        },
        {
         "name": "email_address",
         "rawType": "object",
         "type": "string"
        }
       ],
       "ref": "0f36c5c5-3524-4eaa-8c8c-dcdda36cfff5",
       "rows": [
        [
         "0",
         "benny.risanto@karmagroup.com"
        ],
        [
         "1",
         "dbkknowles@gmail.com"
        ],
        [
         "2",
         "fajar.fatoni@karmagroup.com"
        ],
        [
         "3",
         "emji.indra@gmail.com"
        ],
        [
         "4",
         "drjeannecarpenter@icloud.com"
        ],
        [
         "5",
         "rc.stanley@bigpond.com"
        ],
        [
         "6",
         "helenhasenbein@bigpond.com.au"
        ],
        [
         "7",
         "ketut.subita@karmagroup.com"
        ],
        [
         "8",
         "ricardo.coppen@karmagroup.com"
        ],
        [
         "9",
         "riri.siboro@karmagroup.com"
        ],
        [
         "10",
         "gerhans.risnawan@karmagroup.com"
        ],
        [
         "11",
         "ayu.febrina@karmagroup.com"
        ],
        [
         "12",
         "hero.kharisma@karmagroup.com"
        ],
        [
         "13",
         "brian.martin@karmagroup.com"
        ],
        [
         "14",
         "citra.dwi@karmagroup.com"
        ],
        [
         "15",
         "david.hadson@karmagroup.com"
        ],
        [
         "16",
         "david.scheckter@karmagroup.Com"
        ],
        [
         "17",
         "wayan.sekarini@karmagroup.com"
        ],
        [
         "18",
         "wayan.wirka@karmagroup.com"
        ],
        [
         "19",
         "juni.setiawan@karmagroup.com"
        ],
        [
         "20",
         "jessica.whytcross@karmagroup.com"
        ],
        [
         "21",
         "made.pradnyani@karmagroup.com"
        ],
        [
         "22",
         "shaun.duenhofen@karmagroup.com"
        ],
        [
         "23",
         "fathimath.shibin@karmagroup.com"
        ],
        [
         "24",
         "vidhu.nair@karmagroup.com"
        ],
        [
         "25",
         "leah.davies@gmx.com"
        ],
        [
         "26",
         "gpi14717@bigpond.net.au"
        ],
        [
         "27",
         "kittycatt1969@hotmail.com"
        ],
        [
         "28",
         "jimprushton57@gmail.com"
        ],
        [
         "29",
         "josephapapez@gmail.com"
        ],
        [
         "30",
         "eriibuki@gmail.com"
        ],
        [
         "31",
         "gdleec@gmail.com"
        ],
        [
         "32",
         "pillai07@gmail.com"
        ],
        [
         "33",
         "cathy.gordon3@hotmail.com"
        ],
        [
         "34",
         "molly2410@icloud.com"
        ],
        [
         "35",
         "lisa@moggy.com.au"
        ],
        [
         "36",
         "suyono77@gmail.com"
        ],
        [
         "37",
         "narendra.mahendrakar@gmail.com"
        ],
        [
         "38",
         "jg_ceo@yahoo.com"
        ],
        [
         "39",
         "yuliwibowo@rocketmail.com"
        ],
        [
         "40",
         "edward.s.liman@gmail.com"
        ],
        [
         "41",
         "amelyalim88@gmail.com"
        ],
        [
         "42",
         "trudygrant@icloud.com"
        ],
        [
         "43",
         "nico.michael.mueller@gmx.de"
        ],
        [
         "44",
         "braschli@bigpond.com"
        ],
        [
         "45",
         "jj7mm21@hotmail.com"
        ],
        [
         "46",
         "daymanheights@bigpond.com"
        ],
        [
         "47",
         "mlgquintana@yahoo.com"
        ],
        [
         "48",
         "peterjgladstone@gmail.com"
        ],
        [
         "49",
         "lindangraham1@optusnet.com.au"
        ]
       ],
       "shape": {
        "columns": 1,
        "rows": 460
       }
      },
      "text/html": [
       "<div>\n",
       "<style scoped>\n",
       "    .dataframe tbody tr th:only-of-type {\n",
       "        vertical-align: middle;\n",
       "    }\n",
       "\n",
       "    .dataframe tbody tr th {\n",
       "        vertical-align: top;\n",
       "    }\n",
       "\n",
       "    .dataframe thead th {\n",
       "        text-align: right;\n",
       "    }\n",
       "</style>\n",
       "<table border=\"1\" class=\"dataframe\">\n",
       "  <thead>\n",
       "    <tr style=\"text-align: right;\">\n",
       "      <th></th>\n",
       "      <th>email_address</th>\n",
       "    </tr>\n",
       "  </thead>\n",
       "  <tbody>\n",
       "    <tr>\n",
       "      <th>0</th>\n",
       "      <td>benny.risanto@karmagroup.com</td>\n",
       "    </tr>\n",
       "    <tr>\n",
       "      <th>1</th>\n",
       "      <td>dbkknowles@gmail.com</td>\n",
       "    </tr>\n",
       "    <tr>\n",
       "      <th>2</th>\n",
       "      <td>fajar.fatoni@karmagroup.com</td>\n",
       "    </tr>\n",
       "    <tr>\n",
       "      <th>3</th>\n",
       "      <td>emji.indra@gmail.com</td>\n",
       "    </tr>\n",
       "    <tr>\n",
       "      <th>4</th>\n",
       "      <td>drjeannecarpenter@icloud.com</td>\n",
       "    </tr>\n",
       "    <tr>\n",
       "      <th>...</th>\n",
       "      <td>...</td>\n",
       "    </tr>\n",
       "    <tr>\n",
       "      <th>455</th>\n",
       "      <td>benjamin7006@gmail.com</td>\n",
       "    </tr>\n",
       "    <tr>\n",
       "      <th>456</th>\n",
       "      <td>calloway72@hotmail.com</td>\n",
       "    </tr>\n",
       "    <tr>\n",
       "      <th>457</th>\n",
       "      <td>jzhy92@gmail.com</td>\n",
       "    </tr>\n",
       "    <tr>\n",
       "      <th>458</th>\n",
       "      <td>nicollevital14@gmail.com</td>\n",
       "    </tr>\n",
       "    <tr>\n",
       "      <th>459</th>\n",
       "      <td>reezzu@gmail.com</td>\n",
       "    </tr>\n",
       "  </tbody>\n",
       "</table>\n",
       "<p>460 rows × 1 columns</p>\n",
       "</div>"
      ],
      "text/plain": [
       "                    email_address\n",
       "0    benny.risanto@karmagroup.com\n",
       "1            dbkknowles@gmail.com\n",
       "2     fajar.fatoni@karmagroup.com\n",
       "3            emji.indra@gmail.com\n",
       "4    drjeannecarpenter@icloud.com\n",
       "..                            ...\n",
       "455        benjamin7006@gmail.com\n",
       "456        calloway72@hotmail.com\n",
       "457              jzhy92@gmail.com\n",
       "458      nicollevital14@gmail.com\n",
       "459              reezzu@gmail.com\n",
       "\n",
       "[460 rows x 1 columns]"
      ]
     },
     "metadata": {},
     "output_type": "display_data"
    }
   ],
   "source": [
    "# setup client\n",
    "client = MailchimpMarketing.Client()\n",
    "client.set_config({\n",
    "    \"api_key\": api_key,\n",
    "    \"server\": server\n",
    "})\n",
    "\n",
    "emails_openers = []\n",
    "offset = 0\n",
    "count = 1000  # Set a higher count for each request\n",
    "\n",
    "try:\n",
    "    while True:\n",
    "        response_openers = client.reports.get_campaign_open_details(\n",
    "            campaign_id,\n",
    "            count=count,\n",
    "            offset=offset\n",
    "        )\n",
    "        \n",
    "        # Extract email addresses from the current page of results\n",
    "        members = response_openers.get(\"members\", [])\n",
    "        if not members:\n",
    "            # If no members are returned, we have reached the end of the list\n",
    "            break\n",
    "        \n",
    "        for member in members:\n",
    "            emails_openers.append(member[\"email_address\"])\n",
    "            \n",
    "        # Increment the offset for the next page\n",
    "        offset += count\n",
    "\n",
    "    # Create DataFrame from all collected email addresses\n",
    "    df_openers = pd.DataFrame(emails_openers, columns=[\"email_address\"])\n",
    "    display(df_openers)\n",
    "\n",
    "except ApiClientError as error:\n",
    "    print(f\"Error: {error.text}\")"
   ]
  },
  {
   "cell_type": "code",
   "execution_count": 96,
   "metadata": {},
   "outputs": [
    {
     "name": "stdout",
     "output_type": "stream",
     "text": [
      "Processing link: https://apps.apple.com/app/karma-subito/id6737755581?platform=iphone&utm_source=Karma+Group&utm_campaign=3a09ce9393-KCB_W5Jul25_KS_App_Version_Part2&utm_medium=email&utm_term=0_7f6e7d27ac-95edef864a-[LIST_EMAIL_ID] (ID: da4477839f)\n",
      "Processing link: https://play.google.com/store/apps/details?id=com.karmaclub&hl=en&utm_source=Karma+Group&utm_campaign=3a09ce9393-KCB_W5Jul25_KS_App_Version_Part2&utm_medium=email&utm_term=0_7f6e7d27ac-95edef864a-[LIST_EMAIL_ID] (ID: 07f1e9b420)\n",
      "Processing link: https://www.facebook.com/karmagroupglobal?utm_source=Karma+Group&utm_campaign=3a09ce9393-KCB_W5Jul25_KS_App_Version_Part2&utm_medium=email&utm_term=0_7f6e7d27ac-95edef864a-[LIST_EMAIL_ID] (ID: 7c339611b1)\n",
      "Processing link: https://www.instagram.com/karma.group/?utm_source=Karma+Group&utm_campaign=3a09ce9393-KCB_W5Jul25_KS_App_Version_Part2&utm_medium=email&utm_term=0_7f6e7d27ac-95edef864a-[LIST_EMAIL_ID] (ID: e946bb0b99)\n",
      "Processing link: https://www.youtube.com/c/karmagroupglobal/?utm_source=Karma+Group&utm_campaign=3a09ce9393-KCB_W5Jul25_KS_App_Version_Part2&utm_medium=email&utm_term=0_7f6e7d27ac-95edef864a-[LIST_EMAIL_ID] (ID: 5b390a4c3c)\n",
      "Processing link: https://www.tiktok.com/@karma.group.global?lang=en&utm_source=Karma+Group&utm_campaign=3a09ce9393-KCB_W5Jul25_KS_App_Version_Part2&utm_medium=email&utm_term=0_7f6e7d27ac-95edef864a-[LIST_EMAIL_ID] (ID: 7a80503b82)\n",
      "Processing link: https://apps.apple.com/app/karma-subito/id6737755581?platform=iphone&utm_source=Karma+Group&utm_campaign=3a09ce9393-KCB_W5Jul25_KS_App_Version_Part2&utm_medium=email&utm_term=0_7f6e7d27ac-95edef864a-[LIST_EMAIL_ID] (ID: 43f52d6a40)\n",
      "Processing link: https://play.google.com/store/apps/details?id=com.karmaclub&hl=en&utm_source=Karma+Group&utm_campaign=3a09ce9393-KCB_W5Jul25_KS_App_Version_Part2&utm_medium=email&utm_term=0_7f6e7d27ac-95edef864a-[LIST_EMAIL_ID] (ID: 91f7aec2e1)\n",
      "Processing link: https://edm.karmaconcierge.club/karmagroup/2025/karma-subito/karma-subito-app-version-21/?utm_source=Karma+Group&utm_campaign=3a09ce9393-KCB_W5Jul25_KS_App_Version_Part2&utm_medium=email&utm_term=0_7f6e7d27ac-95edef864a-[LIST_EMAIL_ID] (ID: 4b14360dd7)\n",
      "Processing link: https://karmagroup.com/?utm_source=Karma+Group&utm_campaign=3a09ce9393-KCB_W5Jul25_KS_App_Version_Part2&utm_medium=email&utm_term=0_7f6e7d27ac-95edef864a-[LIST_EMAIL_ID] (ID: d069ae0f55)\n",
      "\n",
      "--- All Clickers (sample) ---\n"
     ]
    },
    {
     "data": {
      "application/vnd.microsoft.datawrangler.viewer.v0+json": {
       "columns": [
        {
         "name": "index",
         "rawType": "int64",
         "type": "integer"
        },
        {
         "name": "email_address",
         "rawType": "object",
         "type": "string"
        },
        {
         "name": "contact_id",
         "rawType": "object",
         "type": "unknown"
        },
        {
         "name": "clicks_for_this_link",
         "rawType": "int64",
         "type": "integer"
        },
        {
         "name": "url",
         "rawType": "object",
         "type": "string"
        },
        {
         "name": "link_id",
         "rawType": "object",
         "type": "string"
        }
       ],
       "ref": "2fc2eb47-fb4d-4d72-b3e0-ae2e357e65f9",
       "rows": [
        [
         "0",
         "jimprushton57@gmail.com",
         null,
         "1",
         "https://apps.apple.com/app/karma-subito/id6737755581?platform=iphone&utm_source=Karma+Group&utm_campaign=3a09ce9393-KCB_W5Jul25_KS_App_Version_Part2&utm_medium=email&utm_term=0_7f6e7d27ac-95edef864a-[LIST_EMAIL_ID]",
         "da4477839f"
        ],
        [
         "1",
         "trudygrant@icloud.com",
         null,
         "1",
         "https://apps.apple.com/app/karma-subito/id6737755581?platform=iphone&utm_source=Karma+Group&utm_campaign=3a09ce9393-KCB_W5Jul25_KS_App_Version_Part2&utm_medium=email&utm_term=0_7f6e7d27ac-95edef864a-[LIST_EMAIL_ID]",
         "da4477839f"
        ],
        [
         "2",
         "peterjgladstone@gmail.com",
         null,
         "2",
         "https://apps.apple.com/app/karma-subito/id6737755581?platform=iphone&utm_source=Karma+Group&utm_campaign=3a09ce9393-KCB_W5Jul25_KS_App_Version_Part2&utm_medium=email&utm_term=0_7f6e7d27ac-95edef864a-[LIST_EMAIL_ID]",
         "da4477839f"
        ],
        [
         "3",
         "prayah_rulez@yahoo.com",
         null,
         "1",
         "https://apps.apple.com/app/karma-subito/id6737755581?platform=iphone&utm_source=Karma+Group&utm_campaign=3a09ce9393-KCB_W5Jul25_KS_App_Version_Part2&utm_medium=email&utm_term=0_7f6e7d27ac-95edef864a-[LIST_EMAIL_ID]",
         "da4477839f"
        ],
        [
         "4",
         "bruno.santoro@tpg.com.au",
         null,
         "1",
         "https://apps.apple.com/app/karma-subito/id6737755581?platform=iphone&utm_source=Karma+Group&utm_campaign=3a09ce9393-KCB_W5Jul25_KS_App_Version_Part2&utm_medium=email&utm_term=0_7f6e7d27ac-95edef864a-[LIST_EMAIL_ID]",
         "da4477839f"
        ],
        [
         "5",
         "adlerrp@gmail.com",
         null,
         "2",
         "https://apps.apple.com/app/karma-subito/id6737755581?platform=iphone&utm_source=Karma+Group&utm_campaign=3a09ce9393-KCB_W5Jul25_KS_App_Version_Part2&utm_medium=email&utm_term=0_7f6e7d27ac-95edef864a-[LIST_EMAIL_ID]",
         "da4477839f"
        ],
        [
         "6",
         "leeshufen068@icloud.com",
         null,
         "1",
         "https://apps.apple.com/app/karma-subito/id6737755581?platform=iphone&utm_source=Karma+Group&utm_campaign=3a09ce9393-KCB_W5Jul25_KS_App_Version_Part2&utm_medium=email&utm_term=0_7f6e7d27ac-95edef864a-[LIST_EMAIL_ID]",
         "da4477839f"
        ],
        [
         "7",
         "lk.micallef@gmail.com",
         null,
         "1",
         "https://apps.apple.com/app/karma-subito/id6737755581?platform=iphone&utm_source=Karma+Group&utm_campaign=3a09ce9393-KCB_W5Jul25_KS_App_Version_Part2&utm_medium=email&utm_term=0_7f6e7d27ac-95edef864a-[LIST_EMAIL_ID]",
         "da4477839f"
        ],
        [
         "8",
         "golfingpapa17@gmail.com",
         null,
         "2",
         "https://apps.apple.com/app/karma-subito/id6737755581?platform=iphone&utm_source=Karma+Group&utm_campaign=3a09ce9393-KCB_W5Jul25_KS_App_Version_Part2&utm_medium=email&utm_term=0_7f6e7d27ac-95edef864a-[LIST_EMAIL_ID]",
         "da4477839f"
        ],
        [
         "9",
         "roslynarmstrong@hotmail.com",
         null,
         "1",
         "https://apps.apple.com/app/karma-subito/id6737755581?platform=iphone&utm_source=Karma+Group&utm_campaign=3a09ce9393-KCB_W5Jul25_KS_App_Version_Part2&utm_medium=email&utm_term=0_7f6e7d27ac-95edef864a-[LIST_EMAIL_ID]",
         "da4477839f"
        ],
        [
         "10",
         "dickmaz@bigpond.com",
         null,
         "2",
         "https://apps.apple.com/app/karma-subito/id6737755581?platform=iphone&utm_source=Karma+Group&utm_campaign=3a09ce9393-KCB_W5Jul25_KS_App_Version_Part2&utm_medium=email&utm_term=0_7f6e7d27ac-95edef864a-[LIST_EMAIL_ID]",
         "da4477839f"
        ],
        [
         "11",
         "kchamp@iinet.net.au",
         null,
         "1",
         "https://apps.apple.com/app/karma-subito/id6737755581?platform=iphone&utm_source=Karma+Group&utm_campaign=3a09ce9393-KCB_W5Jul25_KS_App_Version_Part2&utm_medium=email&utm_term=0_7f6e7d27ac-95edef864a-[LIST_EMAIL_ID]",
         "da4477839f"
        ],
        [
         "12",
         "parkja.jp@gmail.com",
         null,
         "1",
         "https://apps.apple.com/app/karma-subito/id6737755581?platform=iphone&utm_source=Karma+Group&utm_campaign=3a09ce9393-KCB_W5Jul25_KS_App_Version_Part2&utm_medium=email&utm_term=0_7f6e7d27ac-95edef864a-[LIST_EMAIL_ID]",
         "da4477839f"
        ],
        [
         "13",
         "cliveandviv.lynn@bigpond.com",
         null,
         "1",
         "https://apps.apple.com/app/karma-subito/id6737755581?platform=iphone&utm_source=Karma+Group&utm_campaign=3a09ce9393-KCB_W5Jul25_KS_App_Version_Part2&utm_medium=email&utm_term=0_7f6e7d27ac-95edef864a-[LIST_EMAIL_ID]",
         "da4477839f"
        ],
        [
         "14",
         "gjamesmason46@gmail.com",
         null,
         "2",
         "https://apps.apple.com/app/karma-subito/id6737755581?platform=iphone&utm_source=Karma+Group&utm_campaign=3a09ce9393-KCB_W5Jul25_KS_App_Version_Part2&utm_medium=email&utm_term=0_7f6e7d27ac-95edef864a-[LIST_EMAIL_ID]",
         "da4477839f"
        ],
        [
         "15",
         "joannheta@y7mail.com",
         null,
         "1",
         "https://apps.apple.com/app/karma-subito/id6737755581?platform=iphone&utm_source=Karma+Group&utm_campaign=3a09ce9393-KCB_W5Jul25_KS_App_Version_Part2&utm_medium=email&utm_term=0_7f6e7d27ac-95edef864a-[LIST_EMAIL_ID]",
         "da4477839f"
        ],
        [
         "16",
         "ckyounghusband@gmail.com",
         null,
         "1",
         "https://apps.apple.com/app/karma-subito/id6737755581?platform=iphone&utm_source=Karma+Group&utm_campaign=3a09ce9393-KCB_W5Jul25_KS_App_Version_Part2&utm_medium=email&utm_term=0_7f6e7d27ac-95edef864a-[LIST_EMAIL_ID]",
         "da4477839f"
        ],
        [
         "17",
         "dsmart@smartfinancialnt.com.au",
         null,
         "1",
         "https://apps.apple.com/app/karma-subito/id6737755581?platform=iphone&utm_source=Karma+Group&utm_campaign=3a09ce9393-KCB_W5Jul25_KS_App_Version_Part2&utm_medium=email&utm_term=0_7f6e7d27ac-95edef864a-[LIST_EMAIL_ID]",
         "da4477839f"
        ],
        [
         "18",
         "valandken.norris@gmail.com",
         null,
         "1",
         "https://apps.apple.com/app/karma-subito/id6737755581?platform=iphone&utm_source=Karma+Group&utm_campaign=3a09ce9393-KCB_W5Jul25_KS_App_Version_Part2&utm_medium=email&utm_term=0_7f6e7d27ac-95edef864a-[LIST_EMAIL_ID]",
         "da4477839f"
        ],
        [
         "19",
         "kathymckinty@gmail.com",
         null,
         "2",
         "https://apps.apple.com/app/karma-subito/id6737755581?platform=iphone&utm_source=Karma+Group&utm_campaign=3a09ce9393-KCB_W5Jul25_KS_App_Version_Part2&utm_medium=email&utm_term=0_7f6e7d27ac-95edef864a-[LIST_EMAIL_ID]",
         "da4477839f"
        ],
        [
         "20",
         "mfrmmathews@hotmail.com",
         null,
         "1",
         "https://apps.apple.com/app/karma-subito/id6737755581?platform=iphone&utm_source=Karma+Group&utm_campaign=3a09ce9393-KCB_W5Jul25_KS_App_Version_Part2&utm_medium=email&utm_term=0_7f6e7d27ac-95edef864a-[LIST_EMAIL_ID]",
         "da4477839f"
        ],
        [
         "21",
         "nigelpickles@hotmail.com",
         null,
         "1",
         "https://apps.apple.com/app/karma-subito/id6737755581?platform=iphone&utm_source=Karma+Group&utm_campaign=3a09ce9393-KCB_W5Jul25_KS_App_Version_Part2&utm_medium=email&utm_term=0_7f6e7d27ac-95edef864a-[LIST_EMAIL_ID]",
         "da4477839f"
        ],
        [
         "22",
         "petergcampbell@hotmail.com",
         null,
         "1",
         "https://apps.apple.com/app/karma-subito/id6737755581?platform=iphone&utm_source=Karma+Group&utm_campaign=3a09ce9393-KCB_W5Jul25_KS_App_Version_Part2&utm_medium=email&utm_term=0_7f6e7d27ac-95edef864a-[LIST_EMAIL_ID]",
         "da4477839f"
        ],
        [
         "23",
         "frankfamily@hotmail.co.uk",
         null,
         "1",
         "https://apps.apple.com/app/karma-subito/id6737755581?platform=iphone&utm_source=Karma+Group&utm_campaign=3a09ce9393-KCB_W5Jul25_KS_App_Version_Part2&utm_medium=email&utm_term=0_7f6e7d27ac-95edef864a-[LIST_EMAIL_ID]",
         "da4477839f"
        ],
        [
         "24",
         "pchristine3@aol.com",
         null,
         "1",
         "https://apps.apple.com/app/karma-subito/id6737755581?platform=iphone&utm_source=Karma+Group&utm_campaign=3a09ce9393-KCB_W5Jul25_KS_App_Version_Part2&utm_medium=email&utm_term=0_7f6e7d27ac-95edef864a-[LIST_EMAIL_ID]",
         "da4477839f"
        ],
        [
         "25",
         "matt.stacey2@gmail.com",
         null,
         "1",
         "https://apps.apple.com/app/karma-subito/id6737755581?platform=iphone&utm_source=Karma+Group&utm_campaign=3a09ce9393-KCB_W5Jul25_KS_App_Version_Part2&utm_medium=email&utm_term=0_7f6e7d27ac-95edef864a-[LIST_EMAIL_ID]",
         "da4477839f"
        ],
        [
         "26",
         "mramrthomas@aol.com",
         null,
         "1",
         "https://apps.apple.com/app/karma-subito/id6737755581?platform=iphone&utm_source=Karma+Group&utm_campaign=3a09ce9393-KCB_W5Jul25_KS_App_Version_Part2&utm_medium=email&utm_term=0_7f6e7d27ac-95edef864a-[LIST_EMAIL_ID]",
         "da4477839f"
        ],
        [
         "27",
         "ldkcph@aol.com",
         null,
         "1",
         "https://apps.apple.com/app/karma-subito/id6737755581?platform=iphone&utm_source=Karma+Group&utm_campaign=3a09ce9393-KCB_W5Jul25_KS_App_Version_Part2&utm_medium=email&utm_term=0_7f6e7d27ac-95edef864a-[LIST_EMAIL_ID]",
         "da4477839f"
        ],
        [
         "28",
         "rc.stanley@bigpond.com",
         null,
         "1",
         "https://play.google.com/store/apps/details?id=com.karmaclub&hl=en&utm_source=Karma+Group&utm_campaign=3a09ce9393-KCB_W5Jul25_KS_App_Version_Part2&utm_medium=email&utm_term=0_7f6e7d27ac-95edef864a-[LIST_EMAIL_ID]",
         "07f1e9b420"
        ],
        [
         "29",
         "braschli@bigpond.com",
         null,
         "1",
         "https://play.google.com/store/apps/details?id=com.karmaclub&hl=en&utm_source=Karma+Group&utm_campaign=3a09ce9393-KCB_W5Jul25_KS_App_Version_Part2&utm_medium=email&utm_term=0_7f6e7d27ac-95edef864a-[LIST_EMAIL_ID]",
         "07f1e9b420"
        ],
        [
         "30",
         "andrewr@f1computing.com",
         null,
         "2",
         "https://play.google.com/store/apps/details?id=com.karmaclub&hl=en&utm_source=Karma+Group&utm_campaign=3a09ce9393-KCB_W5Jul25_KS_App_Version_Part2&utm_medium=email&utm_term=0_7f6e7d27ac-95edef864a-[LIST_EMAIL_ID]",
         "07f1e9b420"
        ],
        [
         "31",
         "bhoggfamily@gmail.com",
         null,
         "1",
         "https://play.google.com/store/apps/details?id=com.karmaclub&hl=en&utm_source=Karma+Group&utm_campaign=3a09ce9393-KCB_W5Jul25_KS_App_Version_Part2&utm_medium=email&utm_term=0_7f6e7d27ac-95edef864a-[LIST_EMAIL_ID]",
         "07f1e9b420"
        ],
        [
         "32",
         "andrewhollemans@gmail.com",
         null,
         "1",
         "https://play.google.com/store/apps/details?id=com.karmaclub&hl=en&utm_source=Karma+Group&utm_campaign=3a09ce9393-KCB_W5Jul25_KS_App_Version_Part2&utm_medium=email&utm_term=0_7f6e7d27ac-95edef864a-[LIST_EMAIL_ID]",
         "07f1e9b420"
        ],
        [
         "33",
         "lk.micallef@gmail.com",
         null,
         "1",
         "https://play.google.com/store/apps/details?id=com.karmaclub&hl=en&utm_source=Karma+Group&utm_campaign=3a09ce9393-KCB_W5Jul25_KS_App_Version_Part2&utm_medium=email&utm_term=0_7f6e7d27ac-95edef864a-[LIST_EMAIL_ID]",
         "07f1e9b420"
        ],
        [
         "34",
         "coomdesplo@gmail.com",
         null,
         "1",
         "https://play.google.com/store/apps/details?id=com.karmaclub&hl=en&utm_source=Karma+Group&utm_campaign=3a09ce9393-KCB_W5Jul25_KS_App_Version_Part2&utm_medium=email&utm_term=0_7f6e7d27ac-95edef864a-[LIST_EMAIL_ID]",
         "07f1e9b420"
        ],
        [
         "35",
         "stevenbradbury1@bigpond.com",
         null,
         "1",
         "https://play.google.com/store/apps/details?id=com.karmaclub&hl=en&utm_source=Karma+Group&utm_campaign=3a09ce9393-KCB_W5Jul25_KS_App_Version_Part2&utm_medium=email&utm_term=0_7f6e7d27ac-95edef864a-[LIST_EMAIL_ID]",
         "07f1e9b420"
        ],
        [
         "36",
         "drewhenryemail@gmail.com",
         null,
         "2",
         "https://play.google.com/store/apps/details?id=com.karmaclub&hl=en&utm_source=Karma+Group&utm_campaign=3a09ce9393-KCB_W5Jul25_KS_App_Version_Part2&utm_medium=email&utm_term=0_7f6e7d27ac-95edef864a-[LIST_EMAIL_ID]",
         "07f1e9b420"
        ],
        [
         "37",
         "felicitymassey@hotmail.com",
         null,
         "1",
         "https://play.google.com/store/apps/details?id=com.karmaclub&hl=en&utm_source=Karma+Group&utm_campaign=3a09ce9393-KCB_W5Jul25_KS_App_Version_Part2&utm_medium=email&utm_term=0_7f6e7d27ac-95edef864a-[LIST_EMAIL_ID]",
         "07f1e9b420"
        ],
        [
         "38",
         "gjamesmason46@gmail.com",
         null,
         "3",
         "https://play.google.com/store/apps/details?id=com.karmaclub&hl=en&utm_source=Karma+Group&utm_campaign=3a09ce9393-KCB_W5Jul25_KS_App_Version_Part2&utm_medium=email&utm_term=0_7f6e7d27ac-95edef864a-[LIST_EMAIL_ID]",
         "07f1e9b420"
        ],
        [
         "39",
         "dsmart@smartfinancialnt.com.au",
         null,
         "1",
         "https://play.google.com/store/apps/details?id=com.karmaclub&hl=en&utm_source=Karma+Group&utm_campaign=3a09ce9393-KCB_W5Jul25_KS_App_Version_Part2&utm_medium=email&utm_term=0_7f6e7d27ac-95edef864a-[LIST_EMAIL_ID]",
         "07f1e9b420"
        ],
        [
         "40",
         "papkal62@hotmail.com",
         null,
         "1",
         "https://play.google.com/store/apps/details?id=com.karmaclub&hl=en&utm_source=Karma+Group&utm_campaign=3a09ce9393-KCB_W5Jul25_KS_App_Version_Part2&utm_medium=email&utm_term=0_7f6e7d27ac-95edef864a-[LIST_EMAIL_ID]",
         "07f1e9b420"
        ],
        [
         "41",
         "suekirkham2@gmail.com",
         null,
         "1",
         "https://play.google.com/store/apps/details?id=com.karmaclub&hl=en&utm_source=Karma+Group&utm_campaign=3a09ce9393-KCB_W5Jul25_KS_App_Version_Part2&utm_medium=email&utm_term=0_7f6e7d27ac-95edef864a-[LIST_EMAIL_ID]",
         "07f1e9b420"
        ],
        [
         "42",
         "george@beaches.co.za",
         null,
         "2",
         "https://play.google.com/store/apps/details?id=com.karmaclub&hl=en&utm_source=Karma+Group&utm_campaign=3a09ce9393-KCB_W5Jul25_KS_App_Version_Part2&utm_medium=email&utm_term=0_7f6e7d27ac-95edef864a-[LIST_EMAIL_ID]",
         "07f1e9b420"
        ],
        [
         "43",
         "iprocessgroup@gmail.com",
         null,
         "1",
         "https://play.google.com/store/apps/details?id=com.karmaclub&hl=en&utm_source=Karma+Group&utm_campaign=3a09ce9393-KCB_W5Jul25_KS_App_Version_Part2&utm_medium=email&utm_term=0_7f6e7d27ac-95edef864a-[LIST_EMAIL_ID]",
         "07f1e9b420"
        ],
        [
         "44",
         "petergcampbell@hotmail.com",
         null,
         "1",
         "https://play.google.com/store/apps/details?id=com.karmaclub&hl=en&utm_source=Karma+Group&utm_campaign=3a09ce9393-KCB_W5Jul25_KS_App_Version_Part2&utm_medium=email&utm_term=0_7f6e7d27ac-95edef864a-[LIST_EMAIL_ID]",
         "07f1e9b420"
        ],
        [
         "45",
         "kjzillies@hotmail.com",
         null,
         "2",
         "https://play.google.com/store/apps/details?id=com.karmaclub&hl=en&utm_source=Karma+Group&utm_campaign=3a09ce9393-KCB_W5Jul25_KS_App_Version_Part2&utm_medium=email&utm_term=0_7f6e7d27ac-95edef864a-[LIST_EMAIL_ID]",
         "07f1e9b420"
        ],
        [
         "46",
         "robwynan@wynanconsulting.com.au",
         null,
         "1",
         "https://play.google.com/store/apps/details?id=com.karmaclub&hl=en&utm_source=Karma+Group&utm_campaign=3a09ce9393-KCB_W5Jul25_KS_App_Version_Part2&utm_medium=email&utm_term=0_7f6e7d27ac-95edef864a-[LIST_EMAIL_ID]",
         "07f1e9b420"
        ],
        [
         "47",
         "bechall11@outlook.com",
         null,
         "1",
         "https://play.google.com/store/apps/details?id=com.karmaclub&hl=en&utm_source=Karma+Group&utm_campaign=3a09ce9393-KCB_W5Jul25_KS_App_Version_Part2&utm_medium=email&utm_term=0_7f6e7d27ac-95edef864a-[LIST_EMAIL_ID]",
         "07f1e9b420"
        ],
        [
         "48",
         "annamecham22@gmail.com",
         null,
         "2",
         "https://play.google.com/store/apps/details?id=com.karmaclub&hl=en&utm_source=Karma+Group&utm_campaign=3a09ce9393-KCB_W5Jul25_KS_App_Version_Part2&utm_medium=email&utm_term=0_7f6e7d27ac-95edef864a-[LIST_EMAIL_ID]",
         "07f1e9b420"
        ],
        [
         "49",
         "mrugeshthakkar@gmail.com",
         null,
         "1",
         "https://play.google.com/store/apps/details?id=com.karmaclub&hl=en&utm_source=Karma+Group&utm_campaign=3a09ce9393-KCB_W5Jul25_KS_App_Version_Part2&utm_medium=email&utm_term=0_7f6e7d27ac-95edef864a-[LIST_EMAIL_ID]",
         "07f1e9b420"
        ]
       ],
       "shape": {
        "columns": 5,
        "rows": 71
       }
      },
      "text/html": [
       "<div>\n",
       "<style scoped>\n",
       "    .dataframe tbody tr th:only-of-type {\n",
       "        vertical-align: middle;\n",
       "    }\n",
       "\n",
       "    .dataframe tbody tr th {\n",
       "        vertical-align: top;\n",
       "    }\n",
       "\n",
       "    .dataframe thead th {\n",
       "        text-align: right;\n",
       "    }\n",
       "</style>\n",
       "<table border=\"1\" class=\"dataframe\">\n",
       "  <thead>\n",
       "    <tr style=\"text-align: right;\">\n",
       "      <th></th>\n",
       "      <th>email_address</th>\n",
       "      <th>contact_id</th>\n",
       "      <th>clicks_for_this_link</th>\n",
       "      <th>url</th>\n",
       "      <th>link_id</th>\n",
       "    </tr>\n",
       "  </thead>\n",
       "  <tbody>\n",
       "    <tr>\n",
       "      <th>0</th>\n",
       "      <td>jimprushton57@gmail.com</td>\n",
       "      <td>None</td>\n",
       "      <td>1</td>\n",
       "      <td>https://apps.apple.com/app/karma-subito/id6737...</td>\n",
       "      <td>da4477839f</td>\n",
       "    </tr>\n",
       "    <tr>\n",
       "      <th>1</th>\n",
       "      <td>trudygrant@icloud.com</td>\n",
       "      <td>None</td>\n",
       "      <td>1</td>\n",
       "      <td>https://apps.apple.com/app/karma-subito/id6737...</td>\n",
       "      <td>da4477839f</td>\n",
       "    </tr>\n",
       "    <tr>\n",
       "      <th>2</th>\n",
       "      <td>peterjgladstone@gmail.com</td>\n",
       "      <td>None</td>\n",
       "      <td>2</td>\n",
       "      <td>https://apps.apple.com/app/karma-subito/id6737...</td>\n",
       "      <td>da4477839f</td>\n",
       "    </tr>\n",
       "    <tr>\n",
       "      <th>3</th>\n",
       "      <td>prayah_rulez@yahoo.com</td>\n",
       "      <td>None</td>\n",
       "      <td>1</td>\n",
       "      <td>https://apps.apple.com/app/karma-subito/id6737...</td>\n",
       "      <td>da4477839f</td>\n",
       "    </tr>\n",
       "    <tr>\n",
       "      <th>4</th>\n",
       "      <td>bruno.santoro@tpg.com.au</td>\n",
       "      <td>None</td>\n",
       "      <td>1</td>\n",
       "      <td>https://apps.apple.com/app/karma-subito/id6737...</td>\n",
       "      <td>da4477839f</td>\n",
       "    </tr>\n",
       "    <tr>\n",
       "      <th>...</th>\n",
       "      <td>...</td>\n",
       "      <td>...</td>\n",
       "      <td>...</td>\n",
       "      <td>...</td>\n",
       "      <td>...</td>\n",
       "    </tr>\n",
       "    <tr>\n",
       "      <th>66</th>\n",
       "      <td>valandken.norris@gmail.com</td>\n",
       "      <td>None</td>\n",
       "      <td>1</td>\n",
       "      <td>https://edm.karmaconcierge.club/karmagroup/202...</td>\n",
       "      <td>4b14360dd7</td>\n",
       "    </tr>\n",
       "    <tr>\n",
       "      <th>67</th>\n",
       "      <td>jasminderm@googlemail.com</td>\n",
       "      <td>None</td>\n",
       "      <td>1</td>\n",
       "      <td>https://edm.karmaconcierge.club/karmagroup/202...</td>\n",
       "      <td>4b14360dd7</td>\n",
       "    </tr>\n",
       "    <tr>\n",
       "      <th>68</th>\n",
       "      <td>petergcampbell@hotmail.com</td>\n",
       "      <td>None</td>\n",
       "      <td>1</td>\n",
       "      <td>https://edm.karmaconcierge.club/karmagroup/202...</td>\n",
       "      <td>4b14360dd7</td>\n",
       "    </tr>\n",
       "    <tr>\n",
       "      <th>69</th>\n",
       "      <td>jasminderm@googlemail.com</td>\n",
       "      <td>None</td>\n",
       "      <td>1</td>\n",
       "      <td>https://karmagroup.com/?utm_source=Karma+Group...</td>\n",
       "      <td>d069ae0f55</td>\n",
       "    </tr>\n",
       "    <tr>\n",
       "      <th>70</th>\n",
       "      <td>petergcampbell@hotmail.com</td>\n",
       "      <td>None</td>\n",
       "      <td>1</td>\n",
       "      <td>https://karmagroup.com/?utm_source=Karma+Group...</td>\n",
       "      <td>d069ae0f55</td>\n",
       "    </tr>\n",
       "  </tbody>\n",
       "</table>\n",
       "<p>71 rows × 5 columns</p>\n",
       "</div>"
      ],
      "text/plain": [
       "                 email_address contact_id  clicks_for_this_link  \\\n",
       "0      jimprushton57@gmail.com       None                     1   \n",
       "1        trudygrant@icloud.com       None                     1   \n",
       "2    peterjgladstone@gmail.com       None                     2   \n",
       "3       prayah_rulez@yahoo.com       None                     1   \n",
       "4     bruno.santoro@tpg.com.au       None                     1   \n",
       "..                         ...        ...                   ...   \n",
       "66  valandken.norris@gmail.com       None                     1   \n",
       "67   jasminderm@googlemail.com       None                     1   \n",
       "68  petergcampbell@hotmail.com       None                     1   \n",
       "69   jasminderm@googlemail.com       None                     1   \n",
       "70  petergcampbell@hotmail.com       None                     1   \n",
       "\n",
       "                                                  url     link_id  \n",
       "0   https://apps.apple.com/app/karma-subito/id6737...  da4477839f  \n",
       "1   https://apps.apple.com/app/karma-subito/id6737...  da4477839f  \n",
       "2   https://apps.apple.com/app/karma-subito/id6737...  da4477839f  \n",
       "3   https://apps.apple.com/app/karma-subito/id6737...  da4477839f  \n",
       "4   https://apps.apple.com/app/karma-subito/id6737...  da4477839f  \n",
       "..                                                ...         ...  \n",
       "66  https://edm.karmaconcierge.club/karmagroup/202...  4b14360dd7  \n",
       "67  https://edm.karmaconcierge.club/karmagroup/202...  4b14360dd7  \n",
       "68  https://edm.karmaconcierge.club/karmagroup/202...  4b14360dd7  \n",
       "69  https://karmagroup.com/?utm_source=Karma+Group...  d069ae0f55  \n",
       "70  https://karmagroup.com/?utm_source=Karma+Group...  d069ae0f55  \n",
       "\n",
       "[71 rows x 5 columns]"
      ]
     },
     "metadata": {},
     "output_type": "display_data"
    },
    {
     "name": "stdout",
     "output_type": "stream",
     "text": [
      "\n",
      "--- Unique Emails ---\n"
     ]
    },
    {
     "data": {
      "application/vnd.microsoft.datawrangler.viewer.v0+json": {
       "columns": [
        {
         "name": "index",
         "rawType": "int64",
         "type": "integer"
        },
        {
         "name": "email_address",
         "rawType": "object",
         "type": "string"
        }
       ],
       "ref": "3b71c7a6-09db-4f4e-84ca-d9e872789a67",
       "rows": [
        [
         "0",
         "adlerrp@gmail.com"
        ],
        [
         "1",
         "andrewhollemans@gmail.com"
        ],
        [
         "2",
         "andrewr@f1computing.com"
        ],
        [
         "3",
         "annamecham22@gmail.com"
        ],
        [
         "4",
         "bechall11@outlook.com"
        ],
        [
         "5",
         "bhoggfamily@gmail.com"
        ],
        [
         "6",
         "braschli@bigpond.com"
        ],
        [
         "7",
         "bruno.santoro@tpg.com.au"
        ],
        [
         "8",
         "carlbridge_268@hotmail.com"
        ],
        [
         "9",
         "ckyounghusband@gmail.com"
        ],
        [
         "10",
         "cliveandviv.lynn@bigpond.com"
        ],
        [
         "11",
         "coomdesplo@gmail.com"
        ],
        [
         "12",
         "dickmaz@bigpond.com"
        ],
        [
         "13",
         "drewhenryemail@gmail.com"
        ],
        [
         "14",
         "dsmart@smartfinancialnt.com.au"
        ],
        [
         "15",
         "felicitymassey@hotmail.com"
        ],
        [
         "16",
         "frankfamily@hotmail.co.uk"
        ],
        [
         "17",
         "george@beaches.co.za"
        ],
        [
         "18",
         "gjamesmason46@gmail.com"
        ],
        [
         "19",
         "golfingpapa17@gmail.com"
        ],
        [
         "20",
         "iprocessgroup@gmail.com"
        ],
        [
         "21",
         "jasminderm@googlemail.com"
        ],
        [
         "22",
         "jimprushton57@gmail.com"
        ],
        [
         "23",
         "joannheta@y7mail.com"
        ],
        [
         "24",
         "kathymckinty@gmail.com"
        ],
        [
         "25",
         "kchamp@iinet.net.au"
        ],
        [
         "26",
         "kjzillies@hotmail.com"
        ],
        [
         "27",
         "ldkcph@aol.com"
        ],
        [
         "28",
         "leeshufen068@icloud.com"
        ],
        [
         "29",
         "lezden@icloud.com"
        ],
        [
         "30",
         "lisa@moggy.com.au"
        ],
        [
         "31",
         "lk.micallef@gmail.com"
        ],
        [
         "32",
         "matt.stacey2@gmail.com"
        ],
        [
         "33",
         "mfrmmathews@hotmail.com"
        ],
        [
         "34",
         "michaelandsherrieb@gmail.com"
        ],
        [
         "35",
         "mramrthomas@aol.com"
        ],
        [
         "36",
         "mrugeshthakkar@gmail.com"
        ],
        [
         "37",
         "nigelpickles@hotmail.com"
        ],
        [
         "38",
         "papkal62@hotmail.com"
        ],
        [
         "39",
         "parkja.jp@gmail.com"
        ],
        [
         "40",
         "pchristine3@aol.com"
        ],
        [
         "41",
         "petergcampbell@hotmail.com"
        ],
        [
         "42",
         "peterjgladstone@gmail.com"
        ],
        [
         "43",
         "prayah_rulez@yahoo.com"
        ],
        [
         "44",
         "rc.stanley@bigpond.com"
        ],
        [
         "45",
         "rkmcleish@gmail.com"
        ],
        [
         "46",
         "robwynan@wynanconsulting.com.au"
        ],
        [
         "47",
         "rollyjord@gmail.com"
        ],
        [
         "48",
         "roslynarmstrong@hotmail.com"
        ],
        [
         "49",
         "stevenbradbury1@bigpond.com"
        ]
       ],
       "shape": {
        "columns": 1,
        "rows": 54
       }
      },
      "text/html": [
       "<div>\n",
       "<style scoped>\n",
       "    .dataframe tbody tr th:only-of-type {\n",
       "        vertical-align: middle;\n",
       "    }\n",
       "\n",
       "    .dataframe tbody tr th {\n",
       "        vertical-align: top;\n",
       "    }\n",
       "\n",
       "    .dataframe thead th {\n",
       "        text-align: right;\n",
       "    }\n",
       "</style>\n",
       "<table border=\"1\" class=\"dataframe\">\n",
       "  <thead>\n",
       "    <tr style=\"text-align: right;\">\n",
       "      <th></th>\n",
       "      <th>email_address</th>\n",
       "    </tr>\n",
       "  </thead>\n",
       "  <tbody>\n",
       "    <tr>\n",
       "      <th>0</th>\n",
       "      <td>adlerrp@gmail.com</td>\n",
       "    </tr>\n",
       "    <tr>\n",
       "      <th>1</th>\n",
       "      <td>andrewhollemans@gmail.com</td>\n",
       "    </tr>\n",
       "    <tr>\n",
       "      <th>2</th>\n",
       "      <td>andrewr@f1computing.com</td>\n",
       "    </tr>\n",
       "    <tr>\n",
       "      <th>3</th>\n",
       "      <td>annamecham22@gmail.com</td>\n",
       "    </tr>\n",
       "    <tr>\n",
       "      <th>4</th>\n",
       "      <td>bechall11@outlook.com</td>\n",
       "    </tr>\n",
       "    <tr>\n",
       "      <th>5</th>\n",
       "      <td>bhoggfamily@gmail.com</td>\n",
       "    </tr>\n",
       "    <tr>\n",
       "      <th>6</th>\n",
       "      <td>braschli@bigpond.com</td>\n",
       "    </tr>\n",
       "    <tr>\n",
       "      <th>7</th>\n",
       "      <td>bruno.santoro@tpg.com.au</td>\n",
       "    </tr>\n",
       "    <tr>\n",
       "      <th>8</th>\n",
       "      <td>carlbridge_268@hotmail.com</td>\n",
       "    </tr>\n",
       "    <tr>\n",
       "      <th>9</th>\n",
       "      <td>ckyounghusband@gmail.com</td>\n",
       "    </tr>\n",
       "    <tr>\n",
       "      <th>10</th>\n",
       "      <td>cliveandviv.lynn@bigpond.com</td>\n",
       "    </tr>\n",
       "    <tr>\n",
       "      <th>11</th>\n",
       "      <td>coomdesplo@gmail.com</td>\n",
       "    </tr>\n",
       "    <tr>\n",
       "      <th>12</th>\n",
       "      <td>dickmaz@bigpond.com</td>\n",
       "    </tr>\n",
       "    <tr>\n",
       "      <th>13</th>\n",
       "      <td>drewhenryemail@gmail.com</td>\n",
       "    </tr>\n",
       "    <tr>\n",
       "      <th>14</th>\n",
       "      <td>dsmart@smartfinancialnt.com.au</td>\n",
       "    </tr>\n",
       "    <tr>\n",
       "      <th>15</th>\n",
       "      <td>felicitymassey@hotmail.com</td>\n",
       "    </tr>\n",
       "    <tr>\n",
       "      <th>16</th>\n",
       "      <td>frankfamily@hotmail.co.uk</td>\n",
       "    </tr>\n",
       "    <tr>\n",
       "      <th>17</th>\n",
       "      <td>george@beaches.co.za</td>\n",
       "    </tr>\n",
       "    <tr>\n",
       "      <th>18</th>\n",
       "      <td>gjamesmason46@gmail.com</td>\n",
       "    </tr>\n",
       "    <tr>\n",
       "      <th>19</th>\n",
       "      <td>golfingpapa17@gmail.com</td>\n",
       "    </tr>\n",
       "    <tr>\n",
       "      <th>20</th>\n",
       "      <td>iprocessgroup@gmail.com</td>\n",
       "    </tr>\n",
       "    <tr>\n",
       "      <th>21</th>\n",
       "      <td>jasminderm@googlemail.com</td>\n",
       "    </tr>\n",
       "    <tr>\n",
       "      <th>22</th>\n",
       "      <td>jimprushton57@gmail.com</td>\n",
       "    </tr>\n",
       "    <tr>\n",
       "      <th>23</th>\n",
       "      <td>joannheta@y7mail.com</td>\n",
       "    </tr>\n",
       "    <tr>\n",
       "      <th>24</th>\n",
       "      <td>kathymckinty@gmail.com</td>\n",
       "    </tr>\n",
       "    <tr>\n",
       "      <th>25</th>\n",
       "      <td>kchamp@iinet.net.au</td>\n",
       "    </tr>\n",
       "    <tr>\n",
       "      <th>26</th>\n",
       "      <td>kjzillies@hotmail.com</td>\n",
       "    </tr>\n",
       "    <tr>\n",
       "      <th>27</th>\n",
       "      <td>ldkcph@aol.com</td>\n",
       "    </tr>\n",
       "    <tr>\n",
       "      <th>28</th>\n",
       "      <td>leeshufen068@icloud.com</td>\n",
       "    </tr>\n",
       "    <tr>\n",
       "      <th>29</th>\n",
       "      <td>lezden@icloud.com</td>\n",
       "    </tr>\n",
       "    <tr>\n",
       "      <th>30</th>\n",
       "      <td>lisa@moggy.com.au</td>\n",
       "    </tr>\n",
       "    <tr>\n",
       "      <th>31</th>\n",
       "      <td>lk.micallef@gmail.com</td>\n",
       "    </tr>\n",
       "    <tr>\n",
       "      <th>32</th>\n",
       "      <td>matt.stacey2@gmail.com</td>\n",
       "    </tr>\n",
       "    <tr>\n",
       "      <th>33</th>\n",
       "      <td>mfrmmathews@hotmail.com</td>\n",
       "    </tr>\n",
       "    <tr>\n",
       "      <th>34</th>\n",
       "      <td>michaelandsherrieb@gmail.com</td>\n",
       "    </tr>\n",
       "    <tr>\n",
       "      <th>35</th>\n",
       "      <td>mramrthomas@aol.com</td>\n",
       "    </tr>\n",
       "    <tr>\n",
       "      <th>36</th>\n",
       "      <td>mrugeshthakkar@gmail.com</td>\n",
       "    </tr>\n",
       "    <tr>\n",
       "      <th>37</th>\n",
       "      <td>nigelpickles@hotmail.com</td>\n",
       "    </tr>\n",
       "    <tr>\n",
       "      <th>38</th>\n",
       "      <td>papkal62@hotmail.com</td>\n",
       "    </tr>\n",
       "    <tr>\n",
       "      <th>39</th>\n",
       "      <td>parkja.jp@gmail.com</td>\n",
       "    </tr>\n",
       "    <tr>\n",
       "      <th>40</th>\n",
       "      <td>pchristine3@aol.com</td>\n",
       "    </tr>\n",
       "    <tr>\n",
       "      <th>41</th>\n",
       "      <td>petergcampbell@hotmail.com</td>\n",
       "    </tr>\n",
       "    <tr>\n",
       "      <th>42</th>\n",
       "      <td>peterjgladstone@gmail.com</td>\n",
       "    </tr>\n",
       "    <tr>\n",
       "      <th>43</th>\n",
       "      <td>prayah_rulez@yahoo.com</td>\n",
       "    </tr>\n",
       "    <tr>\n",
       "      <th>44</th>\n",
       "      <td>rc.stanley@bigpond.com</td>\n",
       "    </tr>\n",
       "    <tr>\n",
       "      <th>45</th>\n",
       "      <td>rkmcleish@gmail.com</td>\n",
       "    </tr>\n",
       "    <tr>\n",
       "      <th>46</th>\n",
       "      <td>robwynan@wynanconsulting.com.au</td>\n",
       "    </tr>\n",
       "    <tr>\n",
       "      <th>47</th>\n",
       "      <td>rollyjord@gmail.com</td>\n",
       "    </tr>\n",
       "    <tr>\n",
       "      <th>48</th>\n",
       "      <td>roslynarmstrong@hotmail.com</td>\n",
       "    </tr>\n",
       "    <tr>\n",
       "      <th>49</th>\n",
       "      <td>stevenbradbury1@bigpond.com</td>\n",
       "    </tr>\n",
       "    <tr>\n",
       "      <th>50</th>\n",
       "      <td>stringerfirsend@talktalk.net</td>\n",
       "    </tr>\n",
       "    <tr>\n",
       "      <th>51</th>\n",
       "      <td>suekirkham2@gmail.com</td>\n",
       "    </tr>\n",
       "    <tr>\n",
       "      <th>52</th>\n",
       "      <td>trudygrant@icloud.com</td>\n",
       "    </tr>\n",
       "    <tr>\n",
       "      <th>53</th>\n",
       "      <td>valandken.norris@gmail.com</td>\n",
       "    </tr>\n",
       "  </tbody>\n",
       "</table>\n",
       "</div>"
      ],
      "text/plain": [
       "                      email_address\n",
       "0                 adlerrp@gmail.com\n",
       "1         andrewhollemans@gmail.com\n",
       "2           andrewr@f1computing.com\n",
       "3            annamecham22@gmail.com\n",
       "4             bechall11@outlook.com\n",
       "5             bhoggfamily@gmail.com\n",
       "6              braschli@bigpond.com\n",
       "7          bruno.santoro@tpg.com.au\n",
       "8        carlbridge_268@hotmail.com\n",
       "9          ckyounghusband@gmail.com\n",
       "10     cliveandviv.lynn@bigpond.com\n",
       "11             coomdesplo@gmail.com\n",
       "12              dickmaz@bigpond.com\n",
       "13         drewhenryemail@gmail.com\n",
       "14   dsmart@smartfinancialnt.com.au\n",
       "15       felicitymassey@hotmail.com\n",
       "16        frankfamily@hotmail.co.uk\n",
       "17             george@beaches.co.za\n",
       "18          gjamesmason46@gmail.com\n",
       "19          golfingpapa17@gmail.com\n",
       "20          iprocessgroup@gmail.com\n",
       "21        jasminderm@googlemail.com\n",
       "22          jimprushton57@gmail.com\n",
       "23             joannheta@y7mail.com\n",
       "24           kathymckinty@gmail.com\n",
       "25              kchamp@iinet.net.au\n",
       "26            kjzillies@hotmail.com\n",
       "27                   ldkcph@aol.com\n",
       "28          leeshufen068@icloud.com\n",
       "29                lezden@icloud.com\n",
       "30                lisa@moggy.com.au\n",
       "31            lk.micallef@gmail.com\n",
       "32           matt.stacey2@gmail.com\n",
       "33          mfrmmathews@hotmail.com\n",
       "34     michaelandsherrieb@gmail.com\n",
       "35              mramrthomas@aol.com\n",
       "36         mrugeshthakkar@gmail.com\n",
       "37         nigelpickles@hotmail.com\n",
       "38             papkal62@hotmail.com\n",
       "39              parkja.jp@gmail.com\n",
       "40              pchristine3@aol.com\n",
       "41       petergcampbell@hotmail.com\n",
       "42        peterjgladstone@gmail.com\n",
       "43           prayah_rulez@yahoo.com\n",
       "44           rc.stanley@bigpond.com\n",
       "45              rkmcleish@gmail.com\n",
       "46  robwynan@wynanconsulting.com.au\n",
       "47              rollyjord@gmail.com\n",
       "48      roslynarmstrong@hotmail.com\n",
       "49      stevenbradbury1@bigpond.com\n",
       "50     stringerfirsend@talktalk.net\n",
       "51            suekirkham2@gmail.com\n",
       "52            trudygrant@icloud.com\n",
       "53       valandken.norris@gmail.com"
      ]
     },
     "metadata": {},
     "output_type": "display_data"
    }
   ],
   "source": [
    "# setup client\n",
    "client = MailchimpMarketing.Client()\n",
    "client.set_config({\n",
    "    \"api_key\": api_key,\n",
    "    \"server\": server\n",
    "})\n",
    "\n",
    "rows = []\n",
    "\n",
    "try:\n",
    "    # 1) Get all links in the campaign\n",
    "    links_resp = client.reports.get_campaign_click_details(campaign_id)\n",
    "    links = links_resp.get(\"urls_clicked\", [])\n",
    "\n",
    "    # 2) Loop through each link and get clickers\n",
    "    for link in links:\n",
    "        link_id = link[\"id\"]\n",
    "        url = link[\"url\"]\n",
    "        print(f\"Processing link: {url} (ID: {link_id})\")\n",
    "\n",
    "        offset, count = 0, 1000\n",
    "        while True:\n",
    "            resp = client.reports.get_subscribers_info(\n",
    "                campaign_id,\n",
    "                link_id,\n",
    "                count=count,\n",
    "                offset=offset\n",
    "            )\n",
    "            members = resp.get(\"members\", [])\n",
    "\n",
    "            for m in members:\n",
    "                email = m.get(\"email_address\")\n",
    "                if email:\n",
    "                    rows.append({\n",
    "                        \"email_address\": email,\n",
    "                        \"contact_id\": m.get(\"contact_id\"),\n",
    "                        \"clicks_for_this_link\": m.get(\"clicks\"),\n",
    "                        \"url\": url,\n",
    "                        \"link_id\": link_id\n",
    "                    })\n",
    "\n",
    "            if len(members) < count:\n",
    "                break\n",
    "            offset += count\n",
    "\n",
    "except ApiClientError as error:\n",
    "    print(f\"Error: {error.text}\")\n",
    "\n",
    "# 3) Create DataFrames\n",
    "df_clickers = pd.DataFrame(rows)\n",
    "\n",
    "# Add a check to see if the DataFrame is empty before proceeding\n",
    "if not df_clickers.empty:\n",
    "    df_unique_emails = df_clickers[[\"email_address\"]].drop_duplicates().sort_values(\"email_address\").reset_index(drop=True)\n",
    "    \n",
    "    print(\"\\n--- All Clickers (sample) ---\")\n",
    "    display(df_clickers)\n",
    "\n",
    "    print(\"\\n--- Unique Emails ---\")\n",
    "    display(df_unique_emails)\n",
    "else:\n",
    "    print(\"\\nNo click data found for this campaign.\")"
   ]
  }
 ],
 "metadata": {
  "kernelspec": {
   "display_name": "Python 3",
   "language": "python",
   "name": "python3"
  },
  "language_info": {
   "codemirror_mode": {
    "name": "ipython",
    "version": 3
   },
   "file_extension": ".py",
   "mimetype": "text/x-python",
   "name": "python",
   "nbconvert_exporter": "python",
   "pygments_lexer": "ipython3",
   "version": "3.10.0"
  }
 },
 "nbformat": 4,
 "nbformat_minor": 2
}
