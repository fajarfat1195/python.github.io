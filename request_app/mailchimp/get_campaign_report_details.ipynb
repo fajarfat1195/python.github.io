{
 "cells": [
  {
   "cell_type": "code",
   "execution_count": 3,
   "metadata": {},
   "outputs": [
    {
     "name": "stdout",
     "output_type": "stream",
     "text": [
      "The autoreload extension is already loaded. To reload it, use:\n",
      "  %reload_ext autoreload\n"
     ]
    }
   ],
   "source": [
    "import pandas as pd\n",
    "import mailchimp_modul as mcm\n",
    "import mailchimp_marketing as MailchimpMarketing\n",
    "from mailchimp_marketing.api_client import ApiClientError\n",
    "\n",
    "%load_ext autoreload\n",
    "%autoreload 2\n",
    "\n",
    "# Replace with your actual API key and client ID\n",
    "api_key = '4af88cb8f553cbf45b6a5de8bcb88a5f'\n",
    "server = 'us17'\n",
    "campaign_id = '3a09ce9393'\n",
    "\n",
    "# API endpoint\n",
    "# url = f'https://api.createsend.com/api/v3.2/clients/{client_id}/campaigns.json'"
   ]
  },
  {
   "cell_type": "code",
   "execution_count": 57,
   "metadata": {},
   "outputs": [
    {
     "name": "stdout",
     "output_type": "stream",
     "text": [
      "{'id': 'b29c3671f0', 'web_id': 13568625, 'type': 'regular', 'create_time': '2025-08-08T02:43:19+00:00', 'archive_url': 'http://eepurl.com/jkR3R6', 'long_archive_url': 'https://mailchi.mp/96ebcb64c846/75-off-points-on-your-mediterranean-escape-13568625', 'status': 'sent', 'emails_sent': 8308, 'send_time': '2025-08-08T14:33:40+00:00', 'content_type': 'html', 'needs_block_refresh': False, 'resendable': True, 'recipients': {'list_id': '7f6e7d27ac', 'list_is_active': True, 'list_name': 'Karma Group', 'segment_text': '<p class=\"!margin--lv0 display--inline\">Contacts that match <strong>all</strong> of the following conditions:</p><ol id=\"conditions\" class=\"small-meta text-transform--none\"><li class=\"margin--lv1 !margin-left-right--lv0\">Matches a custom advanced segment</li></ol><span>For a total of <strong>8308</strong> emails sent.</span>', 'recipient_count': 8308, 'segment_opts': {'match': 'all'}}, 'settings': {'subject_line': 'Meet the Wonders of the Ocean Like Never Before🦈', 'preview_text': 'Sail the Maldives with our Points Only exclusive offer.', 'title': 'KCI W1Aug25 - Fushi - KRR', 'from_name': 'Karma Concierge', 'reply_to': 'hotdeals.india@karmaclub.community', 'use_conversation': False, 'to_name': '*|FNAME|* *|LNAME|*', 'folder_id': 'bbbde5ae7c', 'authenticate': True, 'auto_footer': False, 'inline_css': False, 'auto_tweet': False, 'fb_comments': True, 'timewarp': False, 'template_id': 0, 'drag_and_drop': False}, 'tracking': {'opens': True, 'html_clicks': True, 'text_clicks': True, 'goal_tracking': False, 'ecomm360': False, 'google_analytics': 'KCI_W1Aug25_Fushi_KRR', 'clicktale': 'EMAIL_CAMPAIGN_11_1_2024_17_3_COPY_01'}, 'report_summary': {'opens': 2617, 'unique_opens': 1846, 'open_rate': 0.2224364381250753, 'clicks': 297, 'subscriber_clicks': 65, 'click_rate': 0.007832268948066032, 'ecommerce': {'total_orders': 0, 'total_spent': 0, 'total_revenue': 0}}, 'delivery_status': {'enabled': True, 'can_cancel': False, 'status': 'delivered', 'emails_sent': 8308, 'emails_canceled': 0}, '_links': [{'rel': 'parent', 'href': 'https://us17.api.mailchimp.com/3.0/campaigns', 'method': 'GET', 'targetSchema': 'https://us17.api.mailchimp.com/schema/3.0/Definitions/Campaigns/CollectionResponse.json', 'schema': 'https://us17.api.mailchimp.com/schema/3.0/Paths/Campaigns/Collection.json'}, {'rel': 'self', 'href': 'https://us17.api.mailchimp.com/3.0/campaigns/b29c3671f0', 'method': 'GET', 'targetSchema': 'https://us17.api.mailchimp.com/schema/3.0/Definitions/Campaigns/Response.json'}, {'rel': 'delete', 'href': 'https://us17.api.mailchimp.com/3.0/campaigns/b29c3671f0', 'method': 'DELETE'}, {'rel': 'send', 'href': 'https://us17.api.mailchimp.com/3.0/campaigns/b29c3671f0/actions/send', 'method': 'POST'}, {'rel': 'cancel_send', 'href': 'https://us17.api.mailchimp.com/3.0/campaigns/b29c3671f0/actions/cancel-send', 'method': 'POST'}, {'rel': 'feedback', 'href': 'https://us17.api.mailchimp.com/3.0/campaigns/b29c3671f0/feedback', 'method': 'GET', 'targetSchema': 'https://us17.api.mailchimp.com/schema/3.0/Definitions/Campaigns/Feedback/CollectionResponse.json'}, {'rel': 'content', 'href': 'https://us17.api.mailchimp.com/3.0/campaigns/b29c3671f0/content', 'method': 'GET', 'targetSchema': 'https://us17.api.mailchimp.com/schema/3.0/Definitions/Campaigns/Content/Response.json'}, {'rel': 'send_checklist', 'href': 'https://us17.api.mailchimp.com/3.0/campaigns/b29c3671f0/send-checklist', 'method': 'GET', 'targetSchema': 'https://us17.api.mailchimp.com/schema/3.0/Definitions/Campaigns/Checklist/Response.json'}, {'rel': 'pause', 'href': 'https://us17.api.mailchimp.com/3.0/campaigns/b29c3671f0/actions/pause', 'method': 'POST'}, {'rel': 'resume', 'href': 'https://us17.api.mailchimp.com/3.0/campaigns/b29c3671f0/actions/resume', 'method': 'POST'}, {'rel': 'replicate', 'href': 'https://us17.api.mailchimp.com/3.0/campaigns/b29c3671f0/actions/replicate', 'method': 'POST'}, {'rel': 'create_resend', 'href': 'https://us17.api.mailchimp.com/3.0/campaigns/b29c3671f0/actions/create-resend', 'method': 'POST'}]}\n"
     ]
    }
   ],
   "source": [
    "import mailchimp_marketing as MailchimpMarketing\n",
    "from mailchimp_marketing.api_client import ApiClientError\n",
    "\n",
    "try:\n",
    "  client = MailchimpMarketing.Client()\n",
    "  client.set_config({\n",
    "    \"api_key\": \"4af88cb8f553cbf45b6a5de8bcb88a5f\",\n",
    "    \"server\": \"us17\"\n",
    "  })\n",
    "\n",
    "  response = client.campaigns.get(\"b29c3671f0\")\n",
    "  print(response)\n",
    "except ApiClientError as error:\n",
    "  print(\"Error: {}\".format(error.text))"
   ]
  },
  {
   "cell_type": "code",
   "execution_count": null,
   "metadata": {},
   "outputs": [
    {
     "name": "stdout",
     "output_type": "stream",
     "text": [
      "{'results': [{'campaign': {'id': 'b29c3671f0', 'web_id': 13568625, 'type': 'regular', 'create_time': '2025-08-08T02:43:19+00:00', 'archive_url': 'http://eepurl.com/jkR3R6', 'long_archive_url': 'https://mailchi.mp/96ebcb64c846/75-off-points-on-your-mediterranean-escape-13568625', 'status': 'sent', 'emails_sent': 8308, 'send_time': '2025-08-08T14:33:40+00:00', 'content_type': 'html', 'needs_block_refresh': False, 'resendable': True, 'recipients': {'list_id': '7f6e7d27ac', 'list_is_active': True, 'list_name': 'Karma Group', 'segment_text': '<p class=\"!margin--lv0 display--inline\">Contacts that match <strong>all</strong> of the following conditions:</p><ol id=\"conditions\" class=\"small-meta text-transform--none\"><li class=\"margin--lv1 !margin-left-right--lv0\">Matches a custom advanced segment</li></ol><span>For a total of <strong>8308</strong> emails sent.</span>', 'recipient_count': 8308, 'segment_opts': {'match': 'all'}}, 'settings': {'subject_line': 'Meet the Wonders of the Ocean Like Never Before🦈', 'preview_text': 'Sail the Maldives with our Points Only exclusive offer.', 'title': 'KCI W1Aug25 - Fushi - KRR', 'from_name': 'Karma Concierge', 'reply_to': 'hotdeals.india@karmaclub.community', 'use_conversation': False, 'to_name': '*|FNAME|* *|LNAME|*', 'folder_id': 'bbbde5ae7c', 'authenticate': True, 'auto_footer': False, 'inline_css': False, 'auto_tweet': False, 'fb_comments': True, 'timewarp': False, 'template_id': 0, 'drag_and_drop': False}, 'tracking': {'opens': True, 'html_clicks': True, 'text_clicks': True, 'goal_tracking': False, 'ecomm360': False, 'google_analytics': 'KCI_W1Aug25_Fushi_KRR', 'clicktale': 'EMAIL_CAMPAIGN_11_1_2024_17_3_COPY_01'}, 'report_summary': {'opens': 1565, 'unique_opens': 1236, 'open_rate': 0.14893360645860948, 'clicks': 252, 'subscriber_clicks': 34, 'click_rate': 0.0040968791420653095, 'ecommerce': {'total_orders': 0, 'total_spent': 0, 'total_revenue': 0}}, 'delivery_status': {'enabled': True, 'can_cancel': False, 'status': 'delivered', 'emails_sent': 8308, 'emails_canceled': 0}, '_links': [{'rel': 'parent', 'href': 'https://us17.api.mailchimp.com/3.0/campaigns', 'method': 'GET', 'targetSchema': 'https://us17.api.mailchimp.com/schema/3.0/Definitions/Campaigns/CollectionResponse.json', 'schema': 'https://us17.api.mailchimp.com/schema/3.0/Paths/Campaigns/Collection.json'}, {'rel': 'self', 'href': 'https://us17.api.mailchimp.com/3.0/campaigns/b29c3671f0', 'method': 'GET', 'targetSchema': 'https://us17.api.mailchimp.com/schema/3.0/Definitions/Campaigns/Response.json'}, {'rel': 'delete', 'href': 'https://us17.api.mailchimp.com/3.0/campaigns/b29c3671f0', 'method': 'DELETE'}, {'rel': 'send', 'href': 'https://us17.api.mailchimp.com/3.0/campaigns/b29c3671f0/actions/send', 'method': 'POST'}, {'rel': 'cancel_send', 'href': 'https://us17.api.mailchimp.com/3.0/campaigns/b29c3671f0/actions/cancel-send', 'method': 'POST'}, {'rel': 'feedback', 'href': 'https://us17.api.mailchimp.com/3.0/campaigns/b29c3671f0/feedback', 'method': 'GET', 'targetSchema': 'https://us17.api.mailchimp.com/schema/3.0/Definitions/Campaigns/Feedback/CollectionResponse.json'}, {'rel': 'content', 'href': 'https://us17.api.mailchimp.com/3.0/campaigns/b29c3671f0/content', 'method': 'GET', 'targetSchema': 'https://us17.api.mailchimp.com/schema/3.0/Definitions/Campaigns/Content/Response.json'}, {'rel': 'send_checklist', 'href': 'https://us17.api.mailchimp.com/3.0/campaigns/b29c3671f0/send-checklist', 'method': 'GET', 'targetSchema': 'https://us17.api.mailchimp.com/schema/3.0/Definitions/Campaigns/Checklist/Response.json'}, {'rel': 'pause', 'href': 'https://us17.api.mailchimp.com/3.0/campaigns/b29c3671f0/actions/pause', 'method': 'POST'}, {'rel': 'resume', 'href': 'https://us17.api.mailchimp.com/3.0/campaigns/b29c3671f0/actions/resume', 'method': 'POST'}, {'rel': 'replicate', 'href': 'https://us17.api.mailchimp.com/3.0/campaigns/b29c3671f0/actions/replicate', 'method': 'POST'}, {'rel': 'create_resend', 'href': 'https://us17.api.mailchimp.com/3.0/campaigns/b29c3671f0/actions/create-resend', 'method': 'POST'}]}, 'snippet': 'KCI W1Aug25 - Fushi - KRR'}], 'total_items': 1, '_links': [{'rel': 'self', 'href': 'https://us17.api.mailchimp.com/3.0/search-campaigns', 'method': 'GET', 'targetSchema': 'https://us17.api.mailchimp.com/schema/3.0/Definitions/SearchCampaigns/Response.json'}]}\n",
      "\n",
      "Type of response object: <class 'dict'>\n"
     ]
    },
    {
     "data": {
      "text/plain": [
       "{'results': [{'campaign': {'id': 'b29c3671f0',\n",
       "    'web_id': 13568625,\n",
       "    'type': 'regular',\n",
       "    'create_time': '2025-08-08T02:43:19+00:00',\n",
       "    'archive_url': 'http://eepurl.com/jkR3R6',\n",
       "    'long_archive_url': 'https://mailchi.mp/96ebcb64c846/75-off-points-on-your-mediterranean-escape-13568625',\n",
       "    'status': 'sent',\n",
       "    'emails_sent': 8308,\n",
       "    'send_time': '2025-08-08T14:33:40+00:00',\n",
       "    'content_type': 'html',\n",
       "    'needs_block_refresh': False,\n",
       "    'resendable': True,\n",
       "    'recipients': {'list_id': '7f6e7d27ac',\n",
       "     'list_is_active': True,\n",
       "     'list_name': 'Karma Group',\n",
       "     'segment_text': '<p class=\"!margin--lv0 display--inline\">Contacts that match <strong>all</strong> of the following conditions:</p><ol id=\"conditions\" class=\"small-meta text-transform--none\"><li class=\"margin--lv1 !margin-left-right--lv0\">Matches a custom advanced segment</li></ol><span>For a total of <strong>8308</strong> emails sent.</span>',\n",
       "     'recipient_count': 8308,\n",
       "     'segment_opts': {'match': 'all'}},\n",
       "    'settings': {'subject_line': 'Meet the Wonders of the Ocean Like Never Before🦈',\n",
       "     'preview_text': 'Sail the Maldives with our Points Only exclusive offer.',\n",
       "     'title': 'KCI W1Aug25 - Fushi - KRR',\n",
       "     'from_name': 'Karma Concierge',\n",
       "     'reply_to': 'hotdeals.india@karmaclub.community',\n",
       "     'use_conversation': False,\n",
       "     'to_name': '*|FNAME|* *|LNAME|*',\n",
       "     'folder_id': 'bbbde5ae7c',\n",
       "     'authenticate': True,\n",
       "     'auto_footer': False,\n",
       "     'inline_css': False,\n",
       "     'auto_tweet': False,\n",
       "     'fb_comments': True,\n",
       "     'timewarp': False,\n",
       "     'template_id': 0,\n",
       "     'drag_and_drop': False},\n",
       "    'tracking': {'opens': True,\n",
       "     'html_clicks': True,\n",
       "     'text_clicks': True,\n",
       "     'goal_tracking': False,\n",
       "     'ecomm360': False,\n",
       "     'google_analytics': 'KCI_W1Aug25_Fushi_KRR',\n",
       "     'clicktale': 'EMAIL_CAMPAIGN_11_1_2024_17_3_COPY_01'},\n",
       "    'report_summary': {'opens': 1565,\n",
       "     'unique_opens': 1236,\n",
       "     'open_rate': 0.14893360645860948,\n",
       "     'clicks': 252,\n",
       "     'subscriber_clicks': 34,\n",
       "     'click_rate': 0.0040968791420653095,\n",
       "     'ecommerce': {'total_orders': 0, 'total_spent': 0, 'total_revenue': 0}},\n",
       "    'delivery_status': {'enabled': True,\n",
       "     'can_cancel': False,\n",
       "     'status': 'delivered',\n",
       "     'emails_sent': 8308,\n",
       "     'emails_canceled': 0},\n",
       "    '_links': [{'rel': 'parent',\n",
       "      'href': 'https://us17.api.mailchimp.com/3.0/campaigns',\n",
       "      'method': 'GET',\n",
       "      'targetSchema': 'https://us17.api.mailchimp.com/schema/3.0/Definitions/Campaigns/CollectionResponse.json',\n",
       "      'schema': 'https://us17.api.mailchimp.com/schema/3.0/Paths/Campaigns/Collection.json'},\n",
       "     {'rel': 'self',\n",
       "      'href': 'https://us17.api.mailchimp.com/3.0/campaigns/b29c3671f0',\n",
       "      'method': 'GET',\n",
       "      'targetSchema': 'https://us17.api.mailchimp.com/schema/3.0/Definitions/Campaigns/Response.json'},\n",
       "     {'rel': 'delete',\n",
       "      'href': 'https://us17.api.mailchimp.com/3.0/campaigns/b29c3671f0',\n",
       "      'method': 'DELETE'},\n",
       "     {'rel': 'send',\n",
       "      'href': 'https://us17.api.mailchimp.com/3.0/campaigns/b29c3671f0/actions/send',\n",
       "      'method': 'POST'},\n",
       "     {'rel': 'cancel_send',\n",
       "      'href': 'https://us17.api.mailchimp.com/3.0/campaigns/b29c3671f0/actions/cancel-send',\n",
       "      'method': 'POST'},\n",
       "     {'rel': 'feedback',\n",
       "      'href': 'https://us17.api.mailchimp.com/3.0/campaigns/b29c3671f0/feedback',\n",
       "      'method': 'GET',\n",
       "      'targetSchema': 'https://us17.api.mailchimp.com/schema/3.0/Definitions/Campaigns/Feedback/CollectionResponse.json'},\n",
       "     {'rel': 'content',\n",
       "      'href': 'https://us17.api.mailchimp.com/3.0/campaigns/b29c3671f0/content',\n",
       "      'method': 'GET',\n",
       "      'targetSchema': 'https://us17.api.mailchimp.com/schema/3.0/Definitions/Campaigns/Content/Response.json'},\n",
       "     {'rel': 'send_checklist',\n",
       "      'href': 'https://us17.api.mailchimp.com/3.0/campaigns/b29c3671f0/send-checklist',\n",
       "      'method': 'GET',\n",
       "      'targetSchema': 'https://us17.api.mailchimp.com/schema/3.0/Definitions/Campaigns/Checklist/Response.json'},\n",
       "     {'rel': 'pause',\n",
       "      'href': 'https://us17.api.mailchimp.com/3.0/campaigns/b29c3671f0/actions/pause',\n",
       "      'method': 'POST'},\n",
       "     {'rel': 'resume',\n",
       "      'href': 'https://us17.api.mailchimp.com/3.0/campaigns/b29c3671f0/actions/resume',\n",
       "      'method': 'POST'},\n",
       "     {'rel': 'replicate',\n",
       "      'href': 'https://us17.api.mailchimp.com/3.0/campaigns/b29c3671f0/actions/replicate',\n",
       "      'method': 'POST'},\n",
       "     {'rel': 'create_resend',\n",
       "      'href': 'https://us17.api.mailchimp.com/3.0/campaigns/b29c3671f0/actions/create-resend',\n",
       "      'method': 'POST'}]},\n",
       "   'snippet': 'KCI W1Aug25 - Fushi - KRR'}],\n",
       " 'total_items': 1,\n",
       " '_links': [{'rel': 'self',\n",
       "   'href': 'https://us17.api.mailchimp.com/3.0/search-campaigns',\n",
       "   'method': 'GET',\n",
       "   'targetSchema': 'https://us17.api.mailchimp.com/schema/3.0/Definitions/SearchCampaigns/Response.json'}]}"
      ]
     },
     "execution_count": 45,
     "metadata": {},
     "output_type": "execute_result"
    }
   ],
   "source": [
    "# import mailchimp_marketing as MailchimpMarketing\n",
    "# from mailchimp_marketing.api_client import ApiClientError\n",
    "\n",
    "# try:\n",
    "#   client = MailchimpMarketing.Client()\n",
    "#   client.set_config({\n",
    "#     \"api_key\": \"4af88cb8f553cbf45b6a5de8bcb88a5f\",\n",
    "#     \"server\": \"us17\"\n",
    "#   })\n",
    "\n",
    "#   response = client.searchCampaigns.search(search_value)\n",
    "#   print(response)\n",
    "#   # Check the type of the response object\n",
    "#   print(f\"\\nType of response object: {type(response)}\")\n",
    "# except ApiClientError as error:\n",
    "#   print(\"Error: {}\".format(error.text))\n",
    "\n",
    "# response\n"
   ]
  },
  {
   "cell_type": "code",
   "execution_count": 61,
   "metadata": {},
   "outputs": [],
   "source": [
    "\n",
    "def getOpeners(api_key, server, campaign_id):\n",
    "    import mailchimp_marketing as MailchimpMarketing\n",
    "    from mailchimp_marketing.api_client import ApiClientError\n",
    "    # setup client\n",
    "    client = MailchimpMarketing.Client()\n",
    "    client.set_config({\n",
    "        \"api_key\": api_key,\n",
    "        \"server\": server\n",
    "    })\n",
    "\n",
    "    emails_openers = []\n",
    "    offset = 0\n",
    "    count = 200  # Set a higher count for each request\n",
    "\n",
    "    try:\n",
    "        while True:\n",
    "            response_openers = client.reports.get_campaign_open_details(\n",
    "                campaign_id,\n",
    "                count=count,\n",
    "                offset=offset\n",
    "            )\n",
    "            \n",
    "            # Extract email addresses from the current page of results\n",
    "            members = response_openers.get(\"members\", [])\n",
    "            if not members:\n",
    "                # If no members are returned, we have reached the end of the list\n",
    "                break\n",
    "            \n",
    "            for member in members:\n",
    "                emails_openers.append(member[\"email_address\"])\n",
    "                \n",
    "            # Increment the offset for the next page\n",
    "            offset += count\n",
    "\n",
    "        # Create DataFrame from all collected email addresses\n",
    "        df_openers = pd.DataFrame(emails_openers, columns=[\"email_address\"])\n",
    "        # display(df_openers)\n",
    "        return df_openers\n",
    "\n",
    "    except ApiClientError as error:\n",
    "        print(f\"Error: {error.text}\")"
   ]
  },
  {
   "cell_type": "code",
   "execution_count": null,
   "metadata": {},
   "outputs": [],
   "source": [
    "def getClickers(api_key, server, campaign_id):\n",
    "    import mailchimp_marketing as MailchimpMarketing\n",
    "    from mailchimp_marketing.api_client import ApiClientError\n",
    "\n",
    "    # setup client\n",
    "    client = MailchimpMarketing.Client()\n",
    "    client.set_config({\n",
    "        \"api_key\": api_key,\n",
    "        \"server\": server\n",
    "    })\n",
    "\n",
    "    rows = []\n",
    "\n",
    "    try:\n",
    "        # 1) Get all links in the campaign\n",
    "        links_resp = client.reports.get_campaign_click_details(campaign_id)\n",
    "        links = links_resp.get(\"urls_clicked\", [])\n",
    "\n",
    "        # 2) Loop through each link and get clickers\n",
    "        for link in links:\n",
    "            link_id = link[\"id\"]\n",
    "            url = link[\"url\"]\n",
    "            # print(f\"Processing link: {url} (ID: {link_id})\")\n",
    "\n",
    "            offset, count = 0, 1000\n",
    "            while True:\n",
    "                resp = client.reports.get_subscribers_info(\n",
    "                    campaign_id,\n",
    "                    link_id,\n",
    "                    count=count,\n",
    "                    offset=offset\n",
    "                )\n",
    "                members = resp.get(\"members\", [])\n",
    "\n",
    "                for m in members:\n",
    "                    email = m.get(\"email_address\")\n",
    "                    if email:\n",
    "                        rows.append({\n",
    "                            \"email_address\": email,\n",
    "                            \"contact_id\": m.get(\"contact_id\"),\n",
    "                            \"clicks_for_this_link\": m.get(\"clicks\"),\n",
    "                            \"url\": url,\n",
    "                            \"link_id\": link_id\n",
    "                        })\n",
    "\n",
    "                if len(members) < count:\n",
    "                    break\n",
    "                offset += count\n",
    "\n",
    "    except ApiClientError as error:\n",
    "        print(f\"Error: {error.text}\")\n",
    "\n",
    "    # 3) Create DataFrames\n",
    "    df_clickers = pd.DataFrame(rows)\n",
    "    # Add a check to see if the DataFrame is empty before proceeding\n",
    "    if not df_clickers.empty:\n",
    "        df_unique_emails = df_clickers[[\"email_address\"]].drop_duplicates().sort_values(\"email_address\").reset_index(drop=True)\n",
    "        \n",
    "        # print(\"\\n--- All Clickers (sample) ---\")\n",
    "        # display(df_clickers)\n",
    "\n",
    "        # print(\"\\n--- Unique Emails ---\")\n",
    "        # display(df_unique_emails)\n",
    "\n",
    "        return df_clickers\n",
    "        # return df_unique_emails\n",
    "    else:\n",
    "        print(\"\\nNo click data found for this campaign.\")"
   ]
  },
  {
   "cell_type": "code",
   "execution_count": 49,
   "metadata": {},
   "outputs": [],
   "source": [
    "def getCampaignDetails(api_key, server, search_value):\n",
    "    import mailchimp_marketing as MailchimpMarketing\n",
    "    from mailchimp_marketing.api_client import ApiClientError\n",
    "    \n",
    "    try:\n",
    "        client = MailchimpMarketing.Client()\n",
    "        client.set_config({\n",
    "            \"api_key\": api_key,\n",
    "            \"server\": server\n",
    "        })\n",
    "\n",
    "        response = client.searchCampaigns.search(search_value)\n",
    "        print(response) # Keep this if you want to see the raw response\n",
    "\n",
    "        data = response\n",
    "\n",
    "        # Initialize lists to collect DataFrames\n",
    "        extracted_campaign_data = []\n",
    "        all_openers_dfs = []\n",
    "        all_clickers_dfs = []\n",
    "        all_unique_clickers_dfs = []\n",
    "        all_summary_dfs = []\n",
    "\n",
    "        for campaign_info in data['results']:\n",
    "            campaign = campaign_info['campaign']\n",
    "            campaign_id = campaign['id']\n",
    "            campaign_title = campaign['settings']['title']\n",
    "\n",
    "            # 1. Collect basic campaign info\n",
    "            extracted_campaign_data.append({'id': campaign_id, 'title': campaign_title})\n",
    "\n",
    "            # 2. Get Openers DataFrame\n",
    "            current_openers_df = getOpeners(api_key, server, campaign_id)\n",
    "            # Add campaign_name column to the current openers DataFrame\n",
    "            current_openers_df['campaign_name'] = campaign_title\n",
    "            all_openers_dfs.append(current_openers_df) # Add to the list\n",
    "\n",
    "            # 3. Get Clickers DataFrame\n",
    "            current_clickers_df = getClickers(api_key, server, campaign_id)\n",
    "            # Add campaign_name column to the current clickers DataFrame\n",
    "            current_clickers_df['campaign_name'] = campaign_title\n",
    "            all_clickers_dfs.append(current_clickers_df) # Add to the list\n",
    "\n",
    "            # 4. Calculate counts\n",
    "            count_open = current_openers_df.shape[0] # Number of rows in openers\n",
    "\n",
    "            # 5. Process unique clickers\n",
    "            if not current_clickers_df.empty:\n",
    "                # Correctly derive current_unique_clickers_df from current_clickers_df\n",
    "                current_unique_clickers_df = current_clickers_df[[\"email_address\"]].drop_duplicates().sort_values(\"email_address\").reset_index(drop=True)\n",
    "                current_unique_clickers_df['campaign_name'] = campaign_title\n",
    "                all_unique_clickers_dfs.append(current_unique_clickers_df) # Add to the list\n",
    "                count_click = current_clickers_df.shape[0] # Number of rows in clickers\n",
    "            else:\n",
    "                # If clickers are empty, unique clickers is also empty\n",
    "                all_unique_clickers_dfs.append(pd.DataFrame(columns=['email_address', 'campaign_name'])) # Append empty DF with expected columns\n",
    "                count_click = 0\n",
    "\n",
    "            # 6. Create summary DataFrame for the current campaign\n",
    "            # Use 'campaign_title' as the index for clarity or add it as a column\n",
    "            # Changed index to column for easier concatenation later\n",
    "            current_summary_df = pd.DataFrame({\n",
    "                'campaign_title': [campaign_title],\n",
    "                'open': [count_open],\n",
    "                'click': [count_click]\n",
    "            })\n",
    "            all_summary_dfs.append(current_summary_df) # Add to the list\n",
    "\n",
    "        # --- Concatenate all collected DataFrames outside the loop ---\n",
    "        df_campaign = pd.DataFrame(extracted_campaign_data)\n",
    "\n",
    "        # Concatenate only if lists are not empty to avoid errors on empty searches\n",
    "        df_openers = pd.concat(all_openers_dfs, ignore_index=True) if all_openers_dfs else pd.DataFrame(columns=['email_address', 'open_time', 'campaign_name'])\n",
    "        df_clickers = pd.concat(all_clickers_dfs, ignore_index=True) if all_clickers_dfs else pd.DataFrame(columns=['email_address', 'click_time', 'campaign_name'])\n",
    "        df_unique_clickers = pd.concat(all_unique_clickers_dfs, ignore_index=True) if all_unique_clickers_dfs else pd.DataFrame(columns=['email_address', 'campaign_name'])\n",
    "        df_summary = pd.concat(all_summary_dfs, ignore_index=True) if all_summary_dfs else pd.DataFrame(columns=['campaign_title', 'open', 'click'])\n",
    "\n",
    "        # Display results\n",
    "        display(df_campaign)\n",
    "\n",
    "        print(\"\\n--- Openers ---\")\n",
    "        display(df_openers)\n",
    "\n",
    "        print(\"\\n--- Clickers ---\")\n",
    "        display(df_clickers)\n",
    "\n",
    "        print(\"\\n--- Unique Clickers ---\")\n",
    "        display(df_unique_clickers)\n",
    "\n",
    "        print(\"\\n--- Summary ---\")\n",
    "        display(df_summary)\n",
    "\n",
    "        return df_campaign # Or return all DataFrames if needed\n",
    "    except ApiClientError as error:\n",
    "        print(f\"Error: {error.text}\")\n",
    "    except Exception as e:\n",
    "        print(f\"An unexpected error occurred: {e}\")"
   ]
  },
  {
   "cell_type": "code",
   "execution_count": 62,
   "metadata": {},
   "outputs": [
    {
     "data": {
      "application/vnd.microsoft.datawrangler.viewer.v0+json": {
       "columns": [
        {
         "name": "index",
         "rawType": "int64",
         "type": "integer"
        },
        {
         "name": "email_address",
         "rawType": "object",
         "type": "string"
        }
       ],
       "ref": "cced7bc1-b8f8-4101-84cf-89789ebda5ff",
       "rows": [
        [
         "0",
         "dbkknowles@gmail.com"
        ],
        [
         "1",
         "elsa.natawid81@gmail.com"
        ],
        [
         "2",
         "audreehadikrisno@gmail.com"
        ],
        [
         "3",
         "michaella.prawatya@gmail.com"
        ],
        [
         "4",
         "leo_taruna78@yahoo.co.id"
        ],
        [
         "5",
         "clinton.albuquerque@karmagroup.com"
        ],
        [
         "6",
         "agustina.arisanty@gmail.com"
        ],
        [
         "7",
         "michaelnat97@gmail.com"
        ],
        [
         "8",
         "afeliceliem@student.ciputra.ac.id"
        ],
        [
         "9",
         "dr.wennytan@gmail.com"
        ],
        [
         "10",
         "netnot16@gmail.com"
        ],
        [
         "11",
         "ketut.subita@karmagroup.com"
        ],
        [
         "12",
         "ricardo.coppen@karmagroup.com"
        ],
        [
         "13",
         "agung.semara@karmagroup.com"
        ],
        [
         "14",
         "matthew.duffin@karmagroup.com"
        ],
        [
         "15",
         "gerhans.risnawan@karmagroup.com"
        ],
        [
         "16",
         "meity.andara@karmagroup.com"
        ],
        [
         "17",
         "ayu.febrina@karmagroup.com"
        ],
        [
         "18",
         "ayu.puspitawati@karmagroup.com"
        ],
        [
         "19",
         "hero.kharisma@karmagroup.com"
        ],
        [
         "20",
         "sri.antari@karmagroup.com"
        ],
        [
         "21",
         "brian.martin@karmagroup.com"
        ],
        [
         "22",
         "suhali.sharma@karmagroup.com"
        ],
        [
         "23",
         "thomas.loewicke@karmagroup.com"
        ],
        [
         "24",
         "david.hadson@karmagroup.com"
        ],
        [
         "25",
         "david.scheckter@karmagroup.Com"
        ],
        [
         "26",
         "dayu.kartika@karmagroup.com"
        ],
        [
         "27",
         "wayan.widnyana@karmagroup.com"
        ],
        [
         "28",
         "wayan.wirka@karmagroup.com"
        ],
        [
         "29",
         "juni.setiawan@karmagroup.com"
        ],
        [
         "30",
         "desitha.kameswari@karmagroup.com"
        ],
        [
         "31",
         "dimikasari.dewi@karmagroup.com"
        ],
        [
         "32",
         "jessica.whytcross@karmagroup.com"
        ],
        [
         "33",
         "made.pradnyani@karmagroup.com"
        ],
        [
         "34",
         "shaun.duenhofen@karmagroup.com"
        ],
        [
         "35",
         "fathimath.shibin@karmagroup.com"
        ],
        [
         "36",
         "pagitf@gmail.com"
        ],
        [
         "37",
         "jchrisdianty@gmail.com"
        ],
        [
         "38",
         "mrsnianosya@gmail.com"
        ],
        [
         "39",
         "ambarwine@yahoo.com"
        ],
        [
         "40",
         "rajesh@spectrumfilmindonesia.com"
        ],
        [
         "41",
         "b_purnomo_56@yahoo.co.id"
        ],
        [
         "42",
         "tasdyata@gmail.com"
        ],
        [
         "43",
         "dewibasuki218@gmail.com"
        ],
        [
         "44",
         "laurentia.stella@gmail.com"
        ],
        [
         "45",
         "aretnanto@gmail.com"
        ],
        [
         "46",
         "yhadikrisno@yahoo.com"
        ],
        [
         "47",
         "a.alsyurafa@gmail.com"
        ],
        [
         "48",
         "clarafrancinee@gmail.com"
        ],
        [
         "49",
         "mustafa@welgrow.co.id"
        ]
       ],
       "shape": {
        "columns": 1,
        "rows": 461
       }
      },
      "text/html": [
       "<div>\n",
       "<style scoped>\n",
       "    .dataframe tbody tr th:only-of-type {\n",
       "        vertical-align: middle;\n",
       "    }\n",
       "\n",
       "    .dataframe tbody tr th {\n",
       "        vertical-align: top;\n",
       "    }\n",
       "\n",
       "    .dataframe thead th {\n",
       "        text-align: right;\n",
       "    }\n",
       "</style>\n",
       "<table border=\"1\" class=\"dataframe\">\n",
       "  <thead>\n",
       "    <tr style=\"text-align: right;\">\n",
       "      <th></th>\n",
       "      <th>email_address</th>\n",
       "    </tr>\n",
       "  </thead>\n",
       "  <tbody>\n",
       "    <tr>\n",
       "      <th>0</th>\n",
       "      <td>dbkknowles@gmail.com</td>\n",
       "    </tr>\n",
       "    <tr>\n",
       "      <th>1</th>\n",
       "      <td>elsa.natawid81@gmail.com</td>\n",
       "    </tr>\n",
       "    <tr>\n",
       "      <th>2</th>\n",
       "      <td>audreehadikrisno@gmail.com</td>\n",
       "    </tr>\n",
       "    <tr>\n",
       "      <th>3</th>\n",
       "      <td>michaella.prawatya@gmail.com</td>\n",
       "    </tr>\n",
       "    <tr>\n",
       "      <th>4</th>\n",
       "      <td>leo_taruna78@yahoo.co.id</td>\n",
       "    </tr>\n",
       "    <tr>\n",
       "      <th>...</th>\n",
       "      <td>...</td>\n",
       "    </tr>\n",
       "    <tr>\n",
       "      <th>456</th>\n",
       "      <td>princettanadja@gmail.com</td>\n",
       "    </tr>\n",
       "    <tr>\n",
       "      <th>457</th>\n",
       "      <td>rebeccakainama@gmail.com</td>\n",
       "    </tr>\n",
       "    <tr>\n",
       "      <th>458</th>\n",
       "      <td>eduard.chandra22@gmail.com</td>\n",
       "    </tr>\n",
       "    <tr>\n",
       "      <th>459</th>\n",
       "      <td>andreaschandr@gmail.com</td>\n",
       "    </tr>\n",
       "    <tr>\n",
       "      <th>460</th>\n",
       "      <td>beatriz.vareta@karmagroup.com</td>\n",
       "    </tr>\n",
       "  </tbody>\n",
       "</table>\n",
       "<p>461 rows × 1 columns</p>\n",
       "</div>"
      ],
      "text/plain": [
       "                     email_address\n",
       "0             dbkknowles@gmail.com\n",
       "1         elsa.natawid81@gmail.com\n",
       "2       audreehadikrisno@gmail.com\n",
       "3     michaella.prawatya@gmail.com\n",
       "4         leo_taruna78@yahoo.co.id\n",
       "..                             ...\n",
       "456       princettanadja@gmail.com\n",
       "457       rebeccakainama@gmail.com\n",
       "458     eduard.chandra22@gmail.com\n",
       "459        andreaschandr@gmail.com\n",
       "460  beatriz.vareta@karmagroup.com\n",
       "\n",
       "[461 rows x 1 columns]"
      ]
     },
     "execution_count": 62,
     "metadata": {},
     "output_type": "execute_result"
    }
   ],
   "source": [
    "search_value = 'KCI_W1Aug25_Fushi_KRR'\n",
    "\n",
    "# getCampaignDetails(api_key, server, search_value)\n",
    "getOpeners(api_key, server, \"b59db76d23\")"
   ]
  },
  {
   "cell_type": "code",
   "execution_count": 63,
   "metadata": {},
   "outputs": [
    {
     "data": {
      "application/vnd.microsoft.datawrangler.viewer.v0+json": {
       "columns": [
        {
         "name": "index",
         "rawType": "int64",
         "type": "integer"
        },
        {
         "name": "email_address",
         "rawType": "object",
         "type": "string"
        }
       ],
       "ref": "2e8f0d6d-1107-4ed7-930a-2943572986e7",
       "rows": [
        [
         "0",
         "benny.risanto@karmagroup.com"
        ],
        [
         "1",
         "dbkknowles@gmail.com"
        ],
        [
         "2",
         "fajar.fatoni@karmagroup.com"
        ],
        [
         "3",
         "emji.indra@gmail.com"
        ],
        [
         "4",
         "drjeannecarpenter@icloud.com"
        ],
        [
         "5",
         "rc.stanley@bigpond.com"
        ],
        [
         "6",
         "helenhasenbein@bigpond.com.au"
        ],
        [
         "7",
         "ketut.subita@karmagroup.com"
        ],
        [
         "8",
         "ricardo.coppen@karmagroup.com"
        ],
        [
         "9",
         "riri.siboro@karmagroup.com"
        ],
        [
         "10",
         "gerhans.risnawan@karmagroup.com"
        ],
        [
         "11",
         "ayu.febrina@karmagroup.com"
        ],
        [
         "12",
         "hero.kharisma@karmagroup.com"
        ],
        [
         "13",
         "brian.martin@karmagroup.com"
        ],
        [
         "14",
         "citra.dwi@karmagroup.com"
        ],
        [
         "15",
         "david.hadson@karmagroup.com"
        ],
        [
         "16",
         "david.scheckter@karmagroup.Com"
        ],
        [
         "17",
         "wayan.sekarini@karmagroup.com"
        ],
        [
         "18",
         "wayan.wirka@karmagroup.com"
        ],
        [
         "19",
         "juni.setiawan@karmagroup.com"
        ],
        [
         "20",
         "jessica.whytcross@karmagroup.com"
        ],
        [
         "21",
         "made.pradnyani@karmagroup.com"
        ],
        [
         "22",
         "shaun.duenhofen@karmagroup.com"
        ],
        [
         "23",
         "fathimath.shibin@karmagroup.com"
        ],
        [
         "24",
         "vidhu.nair@karmagroup.com"
        ],
        [
         "25",
         "leah.davies@gmx.com"
        ],
        [
         "26",
         "gpi14717@bigpond.net.au"
        ],
        [
         "27",
         "kittycatt1969@hotmail.com"
        ],
        [
         "28",
         "jimprushton57@gmail.com"
        ],
        [
         "29",
         "josephapapez@gmail.com"
        ],
        [
         "30",
         "eriibuki@gmail.com"
        ],
        [
         "31",
         "gdleec@gmail.com"
        ],
        [
         "32",
         "pillai07@gmail.com"
        ],
        [
         "33",
         "cathy.gordon3@hotmail.com"
        ],
        [
         "34",
         "molly2410@icloud.com"
        ],
        [
         "35",
         "lisa@moggy.com.au"
        ],
        [
         "36",
         "suyono77@gmail.com"
        ],
        [
         "37",
         "narendra.mahendrakar@gmail.com"
        ],
        [
         "38",
         "jg_ceo@yahoo.com"
        ],
        [
         "39",
         "yuliwibowo@rocketmail.com"
        ],
        [
         "40",
         "edward.s.liman@gmail.com"
        ],
        [
         "41",
         "amelyalim88@gmail.com"
        ],
        [
         "42",
         "trudygrant@icloud.com"
        ],
        [
         "43",
         "nico.michael.mueller@gmx.de"
        ],
        [
         "44",
         "braschli@bigpond.com"
        ],
        [
         "45",
         "jj7mm21@hotmail.com"
        ],
        [
         "46",
         "daymanheights@bigpond.com"
        ],
        [
         "47",
         "mlgquintana@yahoo.com"
        ],
        [
         "48",
         "peterjgladstone@gmail.com"
        ],
        [
         "49",
         "lindangraham1@optusnet.com.au"
        ]
       ],
       "shape": {
        "columns": 1,
        "rows": 460
       }
      },
      "text/html": [
       "<div>\n",
       "<style scoped>\n",
       "    .dataframe tbody tr th:only-of-type {\n",
       "        vertical-align: middle;\n",
       "    }\n",
       "\n",
       "    .dataframe tbody tr th {\n",
       "        vertical-align: top;\n",
       "    }\n",
       "\n",
       "    .dataframe thead th {\n",
       "        text-align: right;\n",
       "    }\n",
       "</style>\n",
       "<table border=\"1\" class=\"dataframe\">\n",
       "  <thead>\n",
       "    <tr style=\"text-align: right;\">\n",
       "      <th></th>\n",
       "      <th>email_address</th>\n",
       "    </tr>\n",
       "  </thead>\n",
       "  <tbody>\n",
       "    <tr>\n",
       "      <th>0</th>\n",
       "      <td>benny.risanto@karmagroup.com</td>\n",
       "    </tr>\n",
       "    <tr>\n",
       "      <th>1</th>\n",
       "      <td>dbkknowles@gmail.com</td>\n",
       "    </tr>\n",
       "    <tr>\n",
       "      <th>2</th>\n",
       "      <td>fajar.fatoni@karmagroup.com</td>\n",
       "    </tr>\n",
       "    <tr>\n",
       "      <th>3</th>\n",
       "      <td>emji.indra@gmail.com</td>\n",
       "    </tr>\n",
       "    <tr>\n",
       "      <th>4</th>\n",
       "      <td>drjeannecarpenter@icloud.com</td>\n",
       "    </tr>\n",
       "    <tr>\n",
       "      <th>...</th>\n",
       "      <td>...</td>\n",
       "    </tr>\n",
       "    <tr>\n",
       "      <th>455</th>\n",
       "      <td>benjamin7006@gmail.com</td>\n",
       "    </tr>\n",
       "    <tr>\n",
       "      <th>456</th>\n",
       "      <td>calloway72@hotmail.com</td>\n",
       "    </tr>\n",
       "    <tr>\n",
       "      <th>457</th>\n",
       "      <td>jzhy92@gmail.com</td>\n",
       "    </tr>\n",
       "    <tr>\n",
       "      <th>458</th>\n",
       "      <td>nicollevital14@gmail.com</td>\n",
       "    </tr>\n",
       "    <tr>\n",
       "      <th>459</th>\n",
       "      <td>reezzu@gmail.com</td>\n",
       "    </tr>\n",
       "  </tbody>\n",
       "</table>\n",
       "<p>460 rows × 1 columns</p>\n",
       "</div>"
      ],
      "text/plain": [
       "                    email_address\n",
       "0    benny.risanto@karmagroup.com\n",
       "1            dbkknowles@gmail.com\n",
       "2     fajar.fatoni@karmagroup.com\n",
       "3            emji.indra@gmail.com\n",
       "4    drjeannecarpenter@icloud.com\n",
       "..                            ...\n",
       "455        benjamin7006@gmail.com\n",
       "456        calloway72@hotmail.com\n",
       "457              jzhy92@gmail.com\n",
       "458      nicollevital14@gmail.com\n",
       "459              reezzu@gmail.com\n",
       "\n",
       "[460 rows x 1 columns]"
      ]
     },
     "execution_count": 63,
     "metadata": {},
     "output_type": "execute_result"
    }
   ],
   "source": [
    "getOpeners(api_key, server, '3a09ce9393')"
   ]
  }
 ],
 "metadata": {
  "kernelspec": {
   "display_name": "Python 3",
   "language": "python",
   "name": "python3"
  },
  "language_info": {
   "codemirror_mode": {
    "name": "ipython",
    "version": 3
   },
   "file_extension": ".py",
   "mimetype": "text/x-python",
   "name": "python",
   "nbconvert_exporter": "python",
   "pygments_lexer": "ipython3",
   "version": "3.10.0"
  }
 },
 "nbformat": 4,
 "nbformat_minor": 2
}
