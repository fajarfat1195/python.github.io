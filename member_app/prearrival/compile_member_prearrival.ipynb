{
 "cells": [
  {
   "cell_type": "code",
   "execution_count": null,
   "metadata": {},
   "outputs": [],
   "source": [
    "import pandas as pd\n",
    "import prearrival_modul as pa\n",
    "\n",
    "%load_ext autoreload\n",
    "%autoreload 2\n",
    "\n",
    "file_name = '\\KCI Affiliate'\n",
    "file_type = '.xlsx'\n",
    "file_loc = r'C:\\Users\\fajar\\Documents\\Python\\Data\\Member Data\\prearrival'\n",
    "\n",
    "\n",
    "file_path = file_loc+file_name+file_type"
   ]
  },
  {
   "cell_type": "code",
   "execution_count": null,
   "metadata": {},
   "outputs": [],
   "source": [
    "# mengecek seluruh nama sheets dan menampilkan semuanya dengan perulangan\n",
    "\n",
    "xl = pd.ExcelFile(file_path)\n",
    "\n",
    "sheets = xl.sheet_names  # see all sheet names\n",
    "\n",
    "count = 0\n",
    "\n",
    "for i in sheets:\n",
    "    count += 1\n",
    "\n",
    "    df_prearrival = pd.read_excel(file_path, sheet_name=i)\n",
    "    \n",
    "    df_prearrival['First Name'] = df_prearrival['First Name'].str.title()\n",
    "    df_prearrival['LastName'] = df_prearrival['LastName'].str.title()\n",
    "\n",
    "    df_prearrival['First Name'] = df_prearrival['First Name'].str.strip()\n",
    "    df_prearrival['LastName'] = df_prearrival['LastName'].str.strip()\n",
    "\n",
    "    df_prearrival['Arrival'] = pd.to_datetime(df_prearrival['Arrival'], format='%d/%m/%Y %H:%M:%S')\n",
    "    df_prearrival['Departure'] = pd.to_datetime(df_prearrival['Departure'], format='%d/%m/%Y %H:%M:%S')\n",
    "\n",
    "    df_prearrival['Arrival'] = df_prearrival['Arrival'].dt.strftime('%d/%m/%Y')\n",
    "    df_prearrival['Departure'] = df_prearrival['Departure'].dt.strftime('%d/%m/%Y')\n",
    "\n",
    "    df_prearrival.loc[df_prearrival['Resort Name'].isin(pa.get_resort()), 'Resort Exists'] = 'Exist'\n",
    "    df_prearrival.loc[~df_prearrival['Resort Name'].isin(pa.get_resort()), 'Resort Exists'] = 'None'\n",
    "\n",
    "    df_prearrival[\"Resort Name\"] = df_prearrival.apply(\n",
    "        lambda x: pa.location_correction(x['Resort Name']) ,\n",
    "        axis=1,\n",
    "    )\n",
    "\n",
    "    df_prearrival.rename(columns={\"Member #\": \"number\", \"Booking #\": \"booking_no\", \"Resort Name\": \"resort\", \"Arrival\": \"check_in\", \"Departure\": \"check_out\"}, inplace=True)\n",
    "\n",
    "    if (df_prearrival.shape[0]>5):\n",
    "        new_sheet = i\n",
    "    else:\n",
    "        new_sheet = i+'(kecil)'\n",
    "\n",
    "    new_file_path = file_loc+file_name+' - '+i+'.csv'\n",
    "\n",
    "    # if (count == 1):\n",
    "    #     df_prearrival.to_excel(new_file_path, sheet_name=new_sheet, index=False)\n",
    "\n",
    "    # else:\n",
    "    #     # jika ingin menambahkan sheets baru\n",
    "    #     with pd.ExcelWriter(new_file_path, mode=\"a\", engine=\"openpyxl\") as writer:\n",
    "    #         df_prearrival.to_excel(writer, sheet_name=new_sheet, index=False)\n",
    "\n",
    "    df_prearrival.to_csv(new_file_path, index=False, encoding='ISO-8859-1')\n",
    "\n",
    "    print('generate sheet '+i)\n",
    "    # print(count)\n",
    "\n"
   ]
  }
 ],
 "metadata": {
  "kernelspec": {
   "display_name": "Python 3.10.7 64-bit",
   "language": "python",
   "name": "python3"
  },
  "language_info": {
   "codemirror_mode": {
    "name": "ipython",
    "version": 3
   },
   "file_extension": ".py",
   "mimetype": "text/x-python",
   "name": "python",
   "nbconvert_exporter": "python",
   "pygments_lexer": "ipython3",
   "version": "3.10.7"
  },
  "orig_nbformat": 4,
  "vscode": {
   "interpreter": {
    "hash": "26de051ba29f2982a8de78e945f0abaf191376122a1563185a90213a26c5da77"
   }
  }
 },
 "nbformat": 4,
 "nbformat_minor": 2
}
