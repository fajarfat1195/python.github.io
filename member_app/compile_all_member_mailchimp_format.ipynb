{
 "cells": [
  {
   "cell_type": "code",
   "execution_count": 26,
   "metadata": {},
   "outputs": [
    {
     "name": "stdout",
     "output_type": "stream",
     "text": [
      "The autoreload extension is already loaded. To reload it, use:\n",
      "  %reload_ext autoreload\n"
     ]
    }
   ],
   "source": [
    "import sys\n",
    "sys.path.append('../zoho_data_app')\n",
    "\n",
    "import main_module as m\n",
    "\n",
    "import pandas as pd\n",
    "import gspread\n",
    "import re\n",
    "import datetime\n",
    "\n",
    "import dateutil\n",
    "\n",
    "%load_ext autoreload\n",
    "%autoreload 2\n",
    "\n",
    "\n",
    "# file_loc = r'C:\\Users\\fajar\\Documents\\Python\\Data'\n",
    "file_loc = r'C:\\Users\\fajar\\Documents\\Python\\Data'\n",
    "\n",
    "gc = gspread.oauth(\n",
    "    credentials_filename= r'C:\\Users\\fajar\\Documents\\Python\\Data\\Google Credentials\\karma-oauth.json'\n",
    ")\n",
    "\n",
    "SHEET_ID_SOURCE = '1PiRLPCroErrgZ07dlLdZZxUKzFmSZNnFwLy48MDmK2A'\n"
   ]
  },
  {
   "cell_type": "code",
   "execution_count": 27,
   "metadata": {},
   "outputs": [],
   "source": [
    "sheetname = 'Data'\n",
    "\n",
    "# Open the spreadsheet\n",
    "spreadsheet_source = gc.open_by_key(SHEET_ID_SOURCE)\n",
    "worksheet = spreadsheet_source.worksheet(sheetname)\n",
    "rows = worksheet.get_all_records()\n",
    "result = pd.DataFrame(rows)"
   ]
  },
  {
   "cell_type": "code",
   "execution_count": 28,
   "metadata": {},
   "outputs": [
    {
     "data": {
      "text/plain": [
       "Index(['number', 'ContactID', 'FirstName', 'LastName', 'AddressLine1',\n",
       "       'AddressLine2', 'Town', 'City', 'Country', 'Post Code', 'Email',\n",
       "       'Phones', 'Owner', 'Primary', 'Family', 'Nationality', 'DoB',\n",
       "       'WeddingDate', 'Keywords', 'PanCardNo', 'Account Type',\n",
       "       'Account Status', 'OdysseyNo', 'Servicing Office', 'Account Currency',\n",
       "       'Sheet Name'],\n",
       "      dtype='object')"
      ]
     },
     "execution_count": 28,
     "metadata": {},
     "output_type": "execute_result"
    }
   ],
   "source": [
    "result.columns"
   ]
  },
  {
   "cell_type": "code",
   "execution_count": 29,
   "metadata": {},
   "outputs": [],
   "source": [
    "result['Main DB'] = ''\n",
    "result['Sub DB'] = ''\n",
    "\n",
    "result.loc[result['Sheet Name'] == 'HOK', 'Main DB'] = 'HOK'\n",
    "result.loc[result['Sheet Name'] == 'KC 2021', ['Main DB','Sub DB']] = ['KC 2021','KCEU']\n",
    "result.loc[result['Sheet Name'] == 'KCB-Elite-ENG', ['Main DB','Sub DB']] = ['KCB', 'Elite-Eng']\n",
    "result.loc[result['Sheet Name'] == 'KCB-ID-Excluded KCID', ['Main DB','Sub DB']] = ['KCB', 'ID-Exc']\n",
    "result.loc[result['Sheet Name'] == 'KCB-NH-ID', ['Main DB','Sub DB']] = ['KCB', 'ID-NH']\n",
    "result.loc[result['Sheet Name'] == 'KCB-NH-ENG', ['Main DB','Sub DB']] = ['KCB', 'ENG-NH']\n",
    "result.loc[result['Sheet Name'] == 'KCB-ENG-Excluded KCID', ['Main DB','Sub DB']] = ['KCB', 'ENG-Exc']\n",
    "result.loc[result['Sheet Name'] == 'KCB-St.Martin', ['Main DB','Sub DB']] = ['KCB', 'ST.Martin-Elite']\n",
    "result.loc[result['Sheet Name'] == 'KCE', ['Main DB']] = ['KCDEU']\n",
    "result.loc[result['Sheet Name'] == 'KCI-Elite-Non India', ['Main DB','Sub DB']] = ['KCI', 'Elite-Non India']\n",
    "result.loc[result['Sheet Name'] == 'KCI-India', ['Main DB','Sub DB']] = ['KCI', 'India']\n",
    "result.loc[result['Sheet Name'] == 'KCI-NH-India', ['Main DB','Sub DB']] = ['KCI', 'NH-India']\n",
    "result.loc[result['Sheet Name'] == 'KCI-NH-Non India', ['Main DB','Sub DB']] = ['KCI', 'NH-Non India']\n",
    "result.loc[result['Sheet Name'] == 'KCI-Non India', ['Main DB','Sub DB']] = ['KCI', 'Non India']\n",
    "result.loc[result['Sheet Name'] == 'KCID-ID', ['Main DB','Sub DB']] = ['KCID', 'ID']\n",
    "result.loc[result['Sheet Name'] == 'KCID-ENG', ['Main DB','Sub DB']] = ['KCID', 'ENG']"
   ]
  },
  {
   "cell_type": "code",
   "execution_count": 30,
   "metadata": {},
   "outputs": [],
   "source": [
    "current_date = datetime.date.today()\n",
    "\n",
    "formatted_date = current_date.strftime(\"%d-%m-%Y\")\n",
    "result['Date DB'] = formatted_date\n",
    "\n",
    "result['Tags'] = 'Members'"
   ]
  },
  {
   "cell_type": "code",
   "execution_count": 31,
   "metadata": {},
   "outputs": [],
   "source": [
    "# if data dated is string\n",
    "# using error=cource to prevent N/A value errors\n",
    "result['DoB'] = pd.to_datetime(result['DoB'], format='mixed', errors='coerce')\n",
    "result['DoB'] = result['DoB'].dt.strftime(\"%d %b %Y\")\n",
    "\n",
    "result['WeddingDate'] = pd.to_datetime(result['WeddingDate'], format='mixed', errors='coerce')\n",
    "result['WeddingDate'] = result['WeddingDate'].dt.strftime(\"%d %b %Y\")"
   ]
  },
  {
   "cell_type": "code",
   "execution_count": 32,
   "metadata": {},
   "outputs": [
    {
     "data": {
      "text/plain": [
       "0        23 Aug 1978\n",
       "1        03 Jan 1973\n",
       "2        10 Jan 1971\n",
       "3        03 Nov 1971\n",
       "4        09 Mar 1972\n",
       "            ...     \n",
       "79267    14 Sep 1996\n",
       "79268    23 Mar 1967\n",
       "79269    29 Mar 1987\n",
       "79270            NaN\n",
       "79271            NaN\n",
       "Name: DoB, Length: 79272, dtype: object"
      ]
     },
     "execution_count": 32,
     "metadata": {},
     "output_type": "execute_result"
    }
   ],
   "source": [
    "result['DoB']"
   ]
  },
  {
   "cell_type": "code",
   "execution_count": 33,
   "metadata": {},
   "outputs": [],
   "source": [
    "# result.columns\n",
    "# result.columns = ['number', 'ContactID', 'FirstName', 'LastName', 'AddressLine1',\n",
    "#        'AddressLine2', 'Town', 'City', 'Country', 'Post Code', 'Email',\n",
    "#        'Phones', 'Owner', 'Primary', 'Family', 'Nationality', 'DoB',\n",
    "#        'WeddingDate', 'Account Type', 'Account Status', 'Servicing Office', \n",
    "#        'Keywords', 'PanCardNo', 'OdysseyNo', 'segment',\n",
    "#        'Account Currency', 'Main DB', 'Sub DB', 'Date DB', 'Tags']"
   ]
  },
  {
   "cell_type": "code",
   "execution_count": 34,
   "metadata": {},
   "outputs": [],
   "source": [
    "result.rename(columns={\n",
    "    'segment': 'Member Segment',\n",
    "}, inplace=True)"
   ]
  },
  {
   "cell_type": "code",
   "execution_count": 35,
   "metadata": {},
   "outputs": [],
   "source": [
    "result.fillna('', inplace=True)"
   ]
  },
  {
   "cell_type": "code",
   "execution_count": 36,
   "metadata": {},
   "outputs": [
    {
     "name": "stderr",
     "output_type": "stream",
     "text": [
      "c:\\Users\\fajar\\Documents\\Python\\Task Offline\\member_app\\../zoho_data_app\\main_module.py:90: FutureWarning: A value is trying to be set on a copy of a DataFrame or Series through chained assignment using an inplace method.\n",
      "The behavior will change in pandas 3.0. This inplace method will never work because the intermediate object on which we are setting values always behaves as a copy.\n",
      "\n",
      "For example, when doing 'df[col].method(value, inplace=True)', try using 'df.method({col: value}, inplace=True)' or df[col] = df[col].method(value) instead, to perform the operation inplace on the original object.\n",
      "\n",
      "\n",
      "  df[df_columns].replace(' ','', regex=True, inplace=True)\n",
      "c:\\Users\\fajar\\Documents\\Python\\Task Offline\\member_app\\../zoho_data_app\\main_module.py:193: FutureWarning: A value is trying to be set on a copy of a DataFrame or Series through chained assignment using an inplace method.\n",
      "The behavior will change in pandas 3.0. This inplace method will never work because the intermediate object on which we are setting values always behaves as a copy.\n",
      "\n",
      "For example, when doing 'df[col].method(value, inplace=True)', try using 'df.method({col: value}, inplace=True)' or df[col] = df[col].method(value) instead, to perform the operation inplace on the original object.\n",
      "\n",
      "\n",
      "  df[df_columns].replace('mailto:|-primary|-pri|-Mrs|(noemailtobesent)','', regex=True, inplace=True)\n",
      "c:\\Users\\fajar\\Documents\\Python\\Task Offline\\member_app\\../zoho_data_app\\main_module.py:195: SettingWithCopyWarning: \n",
      "A value is trying to be set on a copy of a slice from a DataFrame\n",
      "\n",
      "See the caveats in the documentation: https://pandas.pydata.org/pandas-docs/stable/user_guide/indexing.html#returning-a-view-versus-a-copy\n",
      "  df[df_columns].loc[~df[df_columns].str.contains('@', df_columns, na=False)] = ''\n"
     ]
    }
   ],
   "source": [
    "result['Email Old'] = result['Email']\n",
    "\n",
    "m.clean_space(result, 'Email')\n",
    "m.email_correction(result, 'Email')\n",
    "\n",
    "result['Email Correction'] = 'No'\n",
    "result.loc[result['Email Old']!=result['Email'], 'Email Correction'] = 'Yes'"
   ]
  },
  {
   "cell_type": "code",
   "execution_count": 37,
   "metadata": {},
   "outputs": [],
   "source": [
    "result = result.replace(r'\\n', '', regex=True)"
   ]
  },
  {
   "cell_type": "code",
   "execution_count": 38,
   "metadata": {},
   "outputs": [
    {
     "data": {
      "text/html": [
       "<div>\n",
       "<style scoped>\n",
       "    .dataframe tbody tr th:only-of-type {\n",
       "        vertical-align: middle;\n",
       "    }\n",
       "\n",
       "    .dataframe tbody tr th {\n",
       "        vertical-align: top;\n",
       "    }\n",
       "\n",
       "    .dataframe thead th {\n",
       "        text-align: right;\n",
       "    }\n",
       "</style>\n",
       "<table border=\"1\" class=\"dataframe\">\n",
       "  <thead>\n",
       "    <tr style=\"text-align: right;\">\n",
       "      <th></th>\n",
       "      <th>Email</th>\n",
       "      <th>Main DB</th>\n",
       "    </tr>\n",
       "  </thead>\n",
       "  <tbody>\n",
       "    <tr>\n",
       "      <th>35913</th>\n",
       "      <td>ronakmoni2018@gmail.com,ronakproperties1990@gm...</td>\n",
       "      <td>KCI</td>\n",
       "    </tr>\n",
       "    <tr>\n",
       "      <th>55723</th>\n",
       "      <td>gerryperes@gmail.com,melsunil@hotmail.com</td>\n",
       "      <td>KCI</td>\n",
       "    </tr>\n",
       "    <tr>\n",
       "      <th>64854</th>\n",
       "      <td>nandini.mys89@gmail.com,snehaiyer.20@gmail.com...</td>\n",
       "      <td>KCI</td>\n",
       "    </tr>\n",
       "    <tr>\n",
       "      <th>67787</th>\n",
       "      <td>raghuwanshi.suditi@gmail.com,avisinghr2312@gma...</td>\n",
       "      <td>KCI</td>\n",
       "    </tr>\n",
       "    <tr>\n",
       "      <th>75408</th>\n",
       "      <td>sichugh@gmail.com,</td>\n",
       "      <td>KCI</td>\n",
       "    </tr>\n",
       "  </tbody>\n",
       "</table>\n",
       "</div>"
      ],
      "text/plain": [
       "                                                   Email Main DB\n",
       "35913  ronakmoni2018@gmail.com,ronakproperties1990@gm...     KCI\n",
       "55723          gerryperes@gmail.com,melsunil@hotmail.com     KCI\n",
       "64854  nandini.mys89@gmail.com,snehaiyer.20@gmail.com...     KCI\n",
       "67787  raghuwanshi.suditi@gmail.com,avisinghr2312@gma...     KCI\n",
       "75408                                 sichugh@gmail.com,     KCI"
      ]
     },
     "execution_count": 38,
     "metadata": {},
     "output_type": "execute_result"
    }
   ],
   "source": [
    "result[['Email','Main DB']].loc[result['Email'].str.contains(',', na=False)]"
   ]
  },
  {
   "cell_type": "code",
   "execution_count": 39,
   "metadata": {},
   "outputs": [
    {
     "data": {
      "text/plain": [
       "Index(['number', 'ContactID', 'FirstName', 'LastName', 'AddressLine1',\n",
       "       'AddressLine2', 'Town', 'City', 'Country', 'Post Code', 'Email',\n",
       "       'Phones', 'Owner', 'Primary', 'Family', 'Nationality', 'DoB',\n",
       "       'WeddingDate', 'Keywords', 'PanCardNo', 'Account Type',\n",
       "       'Account Status', 'OdysseyNo', 'Servicing Office', 'Account Currency',\n",
       "       'Sheet Name', 'Main DB', 'Sub DB', 'Date DB', 'Tags', 'Email Old',\n",
       "       'Email Correction'],\n",
       "      dtype='object')"
      ]
     },
     "execution_count": 39,
     "metadata": {},
     "output_type": "execute_result"
    }
   ],
   "source": [
    "result.columns"
   ]
  },
  {
   "cell_type": "code",
   "execution_count": 40,
   "metadata": {},
   "outputs": [],
   "source": [
    "result = result.reindex(columns=['number', 'ContactID', 'FirstName', 'LastName', 'AddressLine1',\n",
    "       'AddressLine2', 'Town', 'City', 'Country', 'Post Code', 'Email Old','Email',\n",
    "       'Email Correction','Phones', 'Owner', 'Primary', 'Family', 'Nationality', 'DoB',\n",
    "       'WeddingDate', 'Account Type', 'Account Status', 'Servicing Office',\n",
    "       'Sheet Name', 'Keywords', 'PanCardNo', 'OdysseyNo', 'Member Segment',\n",
    "       'Account Currency', 'Main DB', 'Sub DB', 'Date DB', 'Tags'])"
   ]
  },
  {
   "cell_type": "code",
   "execution_count": 41,
   "metadata": {},
   "outputs": [],
   "source": [
    "result.rename(columns={\n",
    "    'Town': 'State'\n",
    "    # Add other renames as needed...\n",
    "}, inplace=True)"
   ]
  },
  {
   "cell_type": "code",
   "execution_count": 43,
   "metadata": {},
   "outputs": [],
   "source": [
    "result.to_excel(file_loc+'\\compiled-member.xlsx', index=False)\n",
    "# result.to_excel(file_loc+'\\compiled-member-test.xlsx', index=False)"
   ]
  },
  {
   "cell_type": "code",
   "execution_count": 44,
   "metadata": {},
   "outputs": [],
   "source": [
    "result = result.reindex(columns=['number', 'ContactID', 'FirstName', 'LastName', 'State', 'City', 'Country', 'Post Code','Email',\n",
    "       'Email Correction','Phones', 'Owner', 'Primary', 'Family', 'Nationality', 'DoB',\n",
    "       'WeddingDate', 'Account Type', 'Account Status', 'Servicing Office', 'Keywords', 'PanCardNo', 'OdysseyNo', 'Member Segment',\n",
    "       'Account Currency', 'Main DB', 'Sub DB', 'Date DB', 'Tags'])"
   ]
  },
  {
   "cell_type": "code",
   "execution_count": 45,
   "metadata": {},
   "outputs": [],
   "source": [
    "result.to_csv(file_loc+'\\compiled-member.csv', index=False)\n",
    "# result.to_csv(file_loc+'\\compiled-member-test.csv', index=False)"
   ]
  },
  {
   "cell_type": "code",
   "execution_count": 46,
   "metadata": {},
   "outputs": [],
   "source": [
    "# result.loc[result['Email'] == 'elliotstyche@hotmail.co.uk'].to_csv(r'C:\\Users\\fajar\\Documents\\Python\\Data\\test-upload.csv', index=False)"
   ]
  }
 ],
 "metadata": {
  "kernelspec": {
   "display_name": "venv10",
   "language": "python",
   "name": "python3"
  },
  "language_info": {
   "codemirror_mode": {
    "name": "ipython",
    "version": 3
   },
   "file_extension": ".py",
   "mimetype": "text/x-python",
   "name": "python",
   "nbconvert_exporter": "python",
   "pygments_lexer": "ipython3",
   "version": "3.10.7"
  },
  "orig_nbformat": 4
 },
 "nbformat": 4,
 "nbformat_minor": 2
}
