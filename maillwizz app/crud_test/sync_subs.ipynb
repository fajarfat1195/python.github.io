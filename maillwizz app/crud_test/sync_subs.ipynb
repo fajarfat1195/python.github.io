{
 "cells": [
  {
   "cell_type": "code",
   "execution_count": 10,
   "metadata": {},
   "outputs": [
    {
     "name": "stdout",
     "output_type": "stream",
     "text": [
      "The autoreload extension is already loaded. To reload it, use:\n",
      "  %reload_ext autoreload\n"
     ]
    }
   ],
   "source": [
    "import pandas as pd\n",
    "import numpy as np\n",
    "import subscribers_module as sub\n",
    "\n",
    "import sys\n",
    "sys.path.append('../../zoho_data_app/')\n",
    "\n",
    "# importing\n",
    "import main_module as m\n",
    "\n",
    "%load_ext autoreload\n",
    "%autoreload 2"
   ]
  },
  {
   "cell_type": "code",
   "execution_count": 11,
   "metadata": {},
   "outputs": [],
   "source": [
    "list = sub.load_lists_id() # load list id\n",
    "\n",
    "#load data mailwizz\n",
    "\n",
    "maillwizz_cols = ['subscriber_uid',\t\n",
    "'EMAIL',\n",
    "'FNAME',\t\n",
    "'LNAME',\t\n",
    "'ALAMAT',\t\n",
    "'STATUS']\n",
    "\n",
    "zoho_df_cols = ['Email',\n",
    "'First name',\t\n",
    "'Last name',\t\n",
    "'Address',\t\n",
    "'Status']\n"
   ]
  },
  {
   "cell_type": "code",
   "execution_count": 12,
   "metadata": {},
   "outputs": [
    {
     "data": {
      "text/html": [
       "<div>\n",
       "<style scoped>\n",
       "    .dataframe tbody tr th:only-of-type {\n",
       "        vertical-align: middle;\n",
       "    }\n",
       "\n",
       "    .dataframe tbody tr th {\n",
       "        vertical-align: top;\n",
       "    }\n",
       "\n",
       "    .dataframe thead th {\n",
       "        text-align: right;\n",
       "    }\n",
       "</style>\n",
       "<table border=\"1\" class=\"dataframe\">\n",
       "  <thead>\n",
       "    <tr style=\"text-align: right;\">\n",
       "      <th></th>\n",
       "      <th>subscriber_uid</th>\n",
       "      <th>EMAIL</th>\n",
       "      <th>FNAME</th>\n",
       "      <th>LNAME</th>\n",
       "      <th>ALAMAT</th>\n",
       "      <th>STATUS</th>\n",
       "    </tr>\n",
       "  </thead>\n",
       "  <tbody>\n",
       "    <tr>\n",
       "      <th>0</th>\n",
       "      <td>kz492769e9753</td>\n",
       "      <td>toni6@gmail.com</td>\n",
       "      <td>Goku</td>\n",
       "      <td>Saiyan</td>\n",
       "      <td>Solo</td>\n",
       "      <td>Maried</td>\n",
       "    </tr>\n",
       "    <tr>\n",
       "      <th>1</th>\n",
       "      <td>gt985nps3k2d5</td>\n",
       "      <td>toni5@gmail.com</td>\n",
       "      <td>Yoimiya</td>\n",
       "      <td>Berthold</td>\n",
       "      <td>Gorontalo</td>\n",
       "      <td>Maried</td>\n",
       "    </tr>\n",
       "    <tr>\n",
       "      <th>2</th>\n",
       "      <td>zs591efhjm0fd</td>\n",
       "      <td>toni4@gmail.com</td>\n",
       "      <td>Boruto</td>\n",
       "      <td>Hercules</td>\n",
       "      <td>Medan</td>\n",
       "      <td>Single</td>\n",
       "    </tr>\n",
       "    <tr>\n",
       "      <th>3</th>\n",
       "      <td>zd239c94r41b9</td>\n",
       "      <td>toni3@gmail.com</td>\n",
       "      <td>Nahida</td>\n",
       "      <td>Stark</td>\n",
       "      <td>Jogja</td>\n",
       "      <td>Single</td>\n",
       "    </tr>\n",
       "    <tr>\n",
       "      <th>4</th>\n",
       "      <td>ve506lssv74e3</td>\n",
       "      <td>toni1@gmail.com</td>\n",
       "      <td>Toni</td>\n",
       "      <td>Ackerman</td>\n",
       "      <td>Denpasar</td>\n",
       "      <td>Single</td>\n",
       "    </tr>\n",
       "  </tbody>\n",
       "</table>\n",
       "</div>"
      ],
      "text/plain": [
       "  subscriber_uid            EMAIL    FNAME     LNAME     ALAMAT  STATUS\n",
       "0  kz492769e9753  toni6@gmail.com     Goku    Saiyan       Solo  Maried\n",
       "1  gt985nps3k2d5  toni5@gmail.com  Yoimiya  Berthold  Gorontalo  Maried\n",
       "2  zs591efhjm0fd  toni4@gmail.com   Boruto  Hercules      Medan  Single\n",
       "3  zd239c94r41b9  toni3@gmail.com   Nahida     Stark      Jogja  Single\n",
       "4  ve506lssv74e3  toni1@gmail.com     Toni  Ackerman   Denpasar  Single"
      ]
     },
     "execution_count": 12,
     "metadata": {},
     "output_type": "execute_result"
    }
   ],
   "source": [
    "load_maillwizz_df = sub.load_subs(list['Tiket Konser'])\n",
    "load_maillwizz_df = sub.reindex_cols(load_maillwizz_df, maillwizz_cols)\n",
    "load_maillwizz_df"
   ]
  },
  {
   "cell_type": "code",
   "execution_count": 13,
   "metadata": {},
   "outputs": [
    {
     "data": {
      "text/html": [
       "<div>\n",
       "<style scoped>\n",
       "    .dataframe tbody tr th:only-of-type {\n",
       "        vertical-align: middle;\n",
       "    }\n",
       "\n",
       "    .dataframe tbody tr th {\n",
       "        vertical-align: top;\n",
       "    }\n",
       "\n",
       "    .dataframe thead th {\n",
       "        text-align: right;\n",
       "    }\n",
       "</style>\n",
       "<table border=\"1\" class=\"dataframe\">\n",
       "  <thead>\n",
       "    <tr style=\"text-align: right;\">\n",
       "      <th></th>\n",
       "      <th>Email</th>\n",
       "      <th>First name</th>\n",
       "      <th>Last name</th>\n",
       "      <th>Address</th>\n",
       "      <th>Status</th>\n",
       "    </tr>\n",
       "  </thead>\n",
       "  <tbody>\n",
       "    <tr>\n",
       "      <th>0</th>\n",
       "      <td>toni1@gmail.com</td>\n",
       "      <td>Toni</td>\n",
       "      <td>Ackerman</td>\n",
       "      <td>Denpasar</td>\n",
       "      <td>Single</td>\n",
       "    </tr>\n",
       "    <tr>\n",
       "      <th>1</th>\n",
       "      <td>toni3@gmail.com</td>\n",
       "      <td>Nahida</td>\n",
       "      <td>Stark</td>\n",
       "      <td>Jogja</td>\n",
       "      <td>Single</td>\n",
       "    </tr>\n",
       "    <tr>\n",
       "      <th>2</th>\n",
       "      <td>toni4@gmail.com</td>\n",
       "      <td>Boruto</td>\n",
       "      <td>Hercules</td>\n",
       "      <td>Medan</td>\n",
       "      <td>Single</td>\n",
       "    </tr>\n",
       "    <tr>\n",
       "      <th>3</th>\n",
       "      <td>toni5@gmail.com</td>\n",
       "      <td>Yoimiya</td>\n",
       "      <td>Berthold</td>\n",
       "      <td>Gorontalo</td>\n",
       "      <td>Maried</td>\n",
       "    </tr>\n",
       "    <tr>\n",
       "      <th>4</th>\n",
       "      <td>toni6@gmail.com</td>\n",
       "      <td>Goku</td>\n",
       "      <td>Saiyan</td>\n",
       "      <td>Solo</td>\n",
       "      <td>Maried</td>\n",
       "    </tr>\n",
       "  </tbody>\n",
       "</table>\n",
       "</div>"
      ],
      "text/plain": [
       "             Email First name Last name    Address  Status\n",
       "0  toni1@gmail.com       Toni  Ackerman   Denpasar  Single\n",
       "1  toni3@gmail.com     Nahida     Stark      Jogja  Single\n",
       "2  toni4@gmail.com     Boruto  Hercules      Medan  Single\n",
       "3  toni5@gmail.com    Yoimiya  Berthold  Gorontalo  Maried\n",
       "4  toni6@gmail.com       Goku    Saiyan       Solo  Maried"
      ]
     },
     "execution_count": 13,
     "metadata": {},
     "output_type": "execute_result"
    }
   ],
   "source": [
    "zoho_df_dict = {'Email':['toni1@gmail.com', 'toni3@gmail.com', 'toni4@gmail.com', 'toni5@gmail.com', 'toni6@gmail.com'], \n",
    "            'First name':['Toni', 'Nahida', 'Boruto', 'Yoimiya', 'Goku'],\n",
    "            'Last name':['Ackerman', 'Stark', 'Hercules', 'Berthold', 'Saiyan'],\n",
    "            'Address':['Denpasar', 'Jogja', 'Medan', 'Gorontalo', 'Solo'],\n",
    "            'Status':['Single', 'Single', 'Single', 'Maried', 'Maried']\n",
    "        }\n",
    "zoho_df= pd.DataFrame.from_dict(zoho_df_dict)\n",
    "zoho_df = sub.reindex_cols(zoho_df, zoho_df_cols)\n",
    "zoho_df"
   ]
  },
  {
   "cell_type": "code",
   "execution_count": 14,
   "metadata": {},
   "outputs": [],
   "source": [
    "input_new_subs_zoho = sub.input_new_subs_from_zoho(zoho_df, 'Email', load_maillwizz_df, 'EMAIL')\n",
    "deleted_mailwizz_df = sub.delete_maillwizz_not_exist_zoho(load_maillwizz_df, 'EMAIL', zoho_df, 'Email')"
   ]
  },
  {
   "cell_type": "code",
   "execution_count": 15,
   "metadata": {},
   "outputs": [
    {
     "data": {
      "text/html": [
       "<div>\n",
       "<style scoped>\n",
       "    .dataframe tbody tr th:only-of-type {\n",
       "        vertical-align: middle;\n",
       "    }\n",
       "\n",
       "    .dataframe tbody tr th {\n",
       "        vertical-align: top;\n",
       "    }\n",
       "\n",
       "    .dataframe thead th {\n",
       "        text-align: right;\n",
       "    }\n",
       "</style>\n",
       "<table border=\"1\" class=\"dataframe\">\n",
       "  <thead>\n",
       "    <tr style=\"text-align: right;\">\n",
       "      <th></th>\n",
       "      <th>subscriber_uid</th>\n",
       "      <th>EMAIL</th>\n",
       "      <th>ALAMAT</th>\n",
       "      <th>STATUS</th>\n",
       "      <th>FNAME</th>\n",
       "      <th>LNAME</th>\n",
       "      <th>status</th>\n",
       "      <th>source</th>\n",
       "      <th>ip_address</th>\n",
       "      <th>date_added</th>\n",
       "      <th>Email</th>\n",
       "      <th>First name</th>\n",
       "      <th>Last name</th>\n",
       "      <th>Address</th>\n",
       "      <th>Status</th>\n",
       "    </tr>\n",
       "  </thead>\n",
       "  <tbody>\n",
       "  </tbody>\n",
       "</table>\n",
       "</div>"
      ],
      "text/plain": [
       "Empty DataFrame\n",
       "Columns: [subscriber_uid, EMAIL, ALAMAT, STATUS, FNAME, LNAME, status, source, ip_address, date_added, Email, First name, Last name, Address, Status]\n",
       "Index: []"
      ]
     },
     "execution_count": 15,
     "metadata": {},
     "output_type": "execute_result"
    }
   ],
   "source": [
    "load_maillwizz_df = sub.load_subs(list['Tiket Konser'])\n",
    "\n",
    "diff_field_email = sub.sync_maillwizz_zoho_field(zoho_df, 'Email', load_maillwizz_df, 'EMAIL')\n",
    "diff_field_email.loc[\n",
    "    (diff_field_email['FNAME'] != diff_field_email['First name']) |\n",
    "    (diff_field_email['LNAME'] != diff_field_email['Last name']) |\n",
    "    (diff_field_email['ALAMAT'] != diff_field_email['Address']) |\n",
    "    (diff_field_email['STATUS'] != diff_field_email['Status'])\n",
    "    ]"
   ]
  },
  {
   "cell_type": "code",
   "execution_count": 16,
   "metadata": {},
   "outputs": [
    {
     "data": {
      "text/html": [
       "<div>\n",
       "<style scoped>\n",
       "    .dataframe tbody tr th:only-of-type {\n",
       "        vertical-align: middle;\n",
       "    }\n",
       "\n",
       "    .dataframe tbody tr th {\n",
       "        vertical-align: top;\n",
       "    }\n",
       "\n",
       "    .dataframe thead th {\n",
       "        text-align: right;\n",
       "    }\n",
       "</style>\n",
       "<table border=\"1\" class=\"dataframe\">\n",
       "  <thead>\n",
       "    <tr style=\"text-align: right;\">\n",
       "      <th></th>\n",
       "      <th>subscriber_uid</th>\n",
       "      <th>EMAIL</th>\n",
       "      <th>ALAMAT</th>\n",
       "      <th>STATUS</th>\n",
       "      <th>FNAME</th>\n",
       "      <th>LNAME</th>\n",
       "      <th>status</th>\n",
       "      <th>source</th>\n",
       "      <th>ip_address</th>\n",
       "      <th>date_added</th>\n",
       "      <th>Email</th>\n",
       "      <th>First name</th>\n",
       "      <th>Last name</th>\n",
       "      <th>Address</th>\n",
       "      <th>Status</th>\n",
       "    </tr>\n",
       "  </thead>\n",
       "  <tbody>\n",
       "  </tbody>\n",
       "</table>\n",
       "</div>"
      ],
      "text/plain": [
       "Empty DataFrame\n",
       "Columns: [subscriber_uid, EMAIL, ALAMAT, STATUS, FNAME, LNAME, status, source, ip_address, date_added, Email, First name, Last name, Address, Status]\n",
       "Index: []"
      ]
     },
     "execution_count": 16,
     "metadata": {},
     "output_type": "execute_result"
    }
   ],
   "source": [
    "updated_subs = diff_field_email.loc[\n",
    "    (diff_field_email['FNAME'] != diff_field_email['First name']) |\n",
    "    (diff_field_email['LNAME'] != diff_field_email['Last name']) |\n",
    "    (diff_field_email['ALAMAT'] != diff_field_email['Address']) |\n",
    "    (diff_field_email['STATUS'] != diff_field_email['Status'])\n",
    "    ].copy()\n",
    "\n",
    "updated_subs['ALAMAT'] = updated_subs['Address']\n",
    "updated_subs['STATUS'] = updated_subs['Status']\n",
    "updated_subs['FNAME'] = updated_subs['First name']\n",
    "updated_subs['LNAME'] = updated_subs['Last name']\n",
    "\n",
    "updated_subs.reset_index(drop=True, inplace=True)\n",
    "\n",
    "updated_subs\n"
   ]
  },
  {
   "cell_type": "code",
   "execution_count": 8,
   "metadata": {},
   "outputs": [
    {
     "data": {
      "text/plain": [
       "'success update'"
      ]
     },
     "execution_count": 8,
     "metadata": {},
     "output_type": "execute_result"
    }
   ],
   "source": [
    "updated_subs = sub.reindex_cols(updated_subs, maillwizz_cols)\n",
    "updated_subs\n",
    "\n",
    "# bulk update subs\n",
    "sub.update_data_subs(list['Tiket Konser'], updated_subs)"
   ]
  },
  {
   "cell_type": "code",
   "execution_count": 236,
   "metadata": {},
   "outputs": [],
   "source": [
    "#load_maillwizz_df.loc[load_maillwizz_df['EMAIL'].str.contains('toni')]"
   ]
  }
 ],
 "metadata": {
  "kernelspec": {
   "display_name": "Python 3.10.7 64-bit",
   "language": "python",
   "name": "python3"
  },
  "language_info": {
   "codemirror_mode": {
    "name": "ipython",
    "version": 3
   },
   "file_extension": ".py",
   "mimetype": "text/x-python",
   "name": "python",
   "nbconvert_exporter": "python",
   "pygments_lexer": "ipython3",
   "version": "3.10.7"
  },
  "orig_nbformat": 4,
  "vscode": {
   "interpreter": {
    "hash": "26de051ba29f2982a8de78e945f0abaf191376122a1563185a90213a26c5da77"
   }
  }
 },
 "nbformat": 4,
 "nbformat_minor": 2
}
