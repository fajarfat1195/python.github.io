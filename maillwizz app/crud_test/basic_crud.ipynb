{
 "cells": [
  {
   "cell_type": "code",
   "execution_count": 1,
   "metadata": {},
   "outputs": [],
   "source": [
    "import pandas as pd\n",
    "import numpy as np\n",
    "import subscribers_module as sub\n",
    "\n",
    "import sys\n",
    "sys.path.append('../../zoho_data_app/')\n",
    "\n",
    "# importing\n",
    "import main_module as m\n",
    "\n",
    "%load_ext autoreload\n",
    "%autoreload 2"
   ]
  },
  {
   "cell_type": "code",
   "execution_count": 2,
   "metadata": {},
   "outputs": [],
   "source": [
    "list = sub.load_lists_id() # load list id\n",
    "\n",
    "maillwizz_cols = ['subscriber_uid',\t\n",
    "'EMAIL',\n",
    "'FNAME',\t\n",
    "'LNAME',\t\n",
    "'ALAMAT',\t\n",
    "'STATUS']\n",
    "\n",
    "new_df_cols = ['EMAIL',\n",
    "'FNAME',\t\n",
    "'LNAME',\t\n",
    "'ALAMAT',\t\n",
    "'STATUS']"
   ]
  },
  {
   "cell_type": "code",
   "execution_count": 3,
   "metadata": {},
   "outputs": [
    {
     "data": {
      "text/html": [
       "<div>\n",
       "<style scoped>\n",
       "    .dataframe tbody tr th:only-of-type {\n",
       "        vertical-align: middle;\n",
       "    }\n",
       "\n",
       "    .dataframe tbody tr th {\n",
       "        vertical-align: top;\n",
       "    }\n",
       "\n",
       "    .dataframe thead th {\n",
       "        text-align: right;\n",
       "    }\n",
       "</style>\n",
       "<table border=\"1\" class=\"dataframe\">\n",
       "  <thead>\n",
       "    <tr style=\"text-align: right;\">\n",
       "      <th></th>\n",
       "      <th>subscriber_uid</th>\n",
       "      <th>EMAIL</th>\n",
       "      <th>FNAME</th>\n",
       "      <th>LNAME</th>\n",
       "      <th>ALAMAT</th>\n",
       "      <th>STATUS</th>\n",
       "    </tr>\n",
       "  </thead>\n",
       "  <tbody>\n",
       "    <tr>\n",
       "      <th>0</th>\n",
       "      <td>pz858j69olcf4</td>\n",
       "      <td>toni6@gmail.com</td>\n",
       "      <td>Goku</td>\n",
       "      <td>Saiyan</td>\n",
       "      <td>Solo</td>\n",
       "      <td>Maried</td>\n",
       "    </tr>\n",
       "    <tr>\n",
       "      <th>1</th>\n",
       "      <td>lz605ypsjmed0</td>\n",
       "      <td>toni5@gmail.com</td>\n",
       "      <td>Yoimiya</td>\n",
       "      <td>Berthold</td>\n",
       "      <td>Gorontalo</td>\n",
       "      <td>Maried</td>\n",
       "    </tr>\n",
       "    <tr>\n",
       "      <th>2</th>\n",
       "      <td>kp102fpfbkfd3</td>\n",
       "      <td>toni4@gmail.com</td>\n",
       "      <td>Boruto</td>\n",
       "      <td>Hercules</td>\n",
       "      <td>Medan</td>\n",
       "      <td>Single</td>\n",
       "    </tr>\n",
       "    <tr>\n",
       "      <th>3</th>\n",
       "      <td>ln379qpxfsf6a</td>\n",
       "      <td>toni3@gmail.com</td>\n",
       "      <td>Nahida</td>\n",
       "      <td>Stark</td>\n",
       "      <td>Jogja</td>\n",
       "      <td>Single</td>\n",
       "    </tr>\n",
       "    <tr>\n",
       "      <th>4</th>\n",
       "      <td>yo989hrsa6e49</td>\n",
       "      <td>toni1@gmail.com</td>\n",
       "      <td>Toni</td>\n",
       "      <td>Ackerman</td>\n",
       "      <td>Denpasar</td>\n",
       "      <td>Single</td>\n",
       "    </tr>\n",
       "  </tbody>\n",
       "</table>\n",
       "</div>"
      ],
      "text/plain": [
       "  subscriber_uid            EMAIL    FNAME     LNAME     ALAMAT  STATUS\n",
       "0  pz858j69olcf4  toni6@gmail.com     Goku    Saiyan       Solo  Maried\n",
       "1  lz605ypsjmed0  toni5@gmail.com  Yoimiya  Berthold  Gorontalo  Maried\n",
       "2  kp102fpfbkfd3  toni4@gmail.com   Boruto  Hercules      Medan  Single\n",
       "3  ln379qpxfsf6a  toni3@gmail.com   Nahida     Stark      Jogja  Single\n",
       "4  yo989hrsa6e49  toni1@gmail.com     Toni  Ackerman   Denpasar  Single"
      ]
     },
     "execution_count": 3,
     "metadata": {},
     "output_type": "execute_result"
    }
   ],
   "source": [
    "load_maillwizz_df = sub.load_subs(list['Tiket Konser'])\n",
    "load_maillwizz_df = sub.reindex_cols(load_maillwizz_df, maillwizz_cols)\n",
    "load_maillwizz_df"
   ]
  },
  {
   "cell_type": "code",
   "execution_count": 4,
   "metadata": {},
   "outputs": [
    {
     "data": {
      "text/html": [
       "<div>\n",
       "<style scoped>\n",
       "    .dataframe tbody tr th:only-of-type {\n",
       "        vertical-align: middle;\n",
       "    }\n",
       "\n",
       "    .dataframe tbody tr th {\n",
       "        vertical-align: top;\n",
       "    }\n",
       "\n",
       "    .dataframe thead th {\n",
       "        text-align: right;\n",
       "    }\n",
       "</style>\n",
       "<table border=\"1\" class=\"dataframe\">\n",
       "  <thead>\n",
       "    <tr style=\"text-align: right;\">\n",
       "      <th></th>\n",
       "      <th>EMAIL</th>\n",
       "      <th>FNAME</th>\n",
       "      <th>LNAME</th>\n",
       "      <th>ALAMAT</th>\n",
       "      <th>STATUS</th>\n",
       "    </tr>\n",
       "  </thead>\n",
       "  <tbody>\n",
       "    <tr>\n",
       "      <th>0</th>\n",
       "      <td>toni1@gmail.com</td>\n",
       "      <td>Toni</td>\n",
       "      <td>Sunyotok</td>\n",
       "      <td>Denpasar</td>\n",
       "      <td>Single</td>\n",
       "    </tr>\n",
       "    <tr>\n",
       "      <th>1</th>\n",
       "      <td>toni2@gmail.com</td>\n",
       "      <td>Raiden</td>\n",
       "      <td>Sitorus</td>\n",
       "      <td>Badung</td>\n",
       "      <td>Single</td>\n",
       "    </tr>\n",
       "    <tr>\n",
       "      <th>2</th>\n",
       "      <td>toni3@gmail.com</td>\n",
       "      <td>Nahida</td>\n",
       "      <td>Stark</td>\n",
       "      <td>Jogja</td>\n",
       "      <td>Maried</td>\n",
       "    </tr>\n",
       "    <tr>\n",
       "      <th>3</th>\n",
       "      <td>toni4@gmail.com</td>\n",
       "      <td>Yelan</td>\n",
       "      <td>Hercules</td>\n",
       "      <td>Surabaya</td>\n",
       "      <td>Maried</td>\n",
       "    </tr>\n",
       "  </tbody>\n",
       "</table>\n",
       "</div>"
      ],
      "text/plain": [
       "             EMAIL   FNAME     LNAME    ALAMAT  STATUS\n",
       "0  toni1@gmail.com    Toni  Sunyotok  Denpasar  Single\n",
       "1  toni2@gmail.com  Raiden   Sitorus    Badung  Single\n",
       "2  toni3@gmail.com  Nahida     Stark     Jogja  Maried\n",
       "3  toni4@gmail.com   Yelan  Hercules  Surabaya  Maried"
      ]
     },
     "execution_count": 4,
     "metadata": {},
     "output_type": "execute_result"
    }
   ],
   "source": [
    "df_dict = {'EMAIL':['toni1@gmail.com', 'toni2@gmail.com', 'toni3@gmail.com', 'toni4@gmail.com'], \n",
    "            'FNAME':['Toni', 'Raiden', 'Nahida', 'Yelan'],\n",
    "            'LNAME':['Sunyotok', 'Sitorus', 'Stark', 'Hercules'],\n",
    "            'ALAMAT':['Denpasar', 'Badung', 'Jogja', 'Surabaya'],\n",
    "            'STATUS':['Single', 'Single', 'Maried', 'Maried']\n",
    "        }\n",
    "\n",
    "new_df = pd.DataFrame.from_dict(df_dict)\n",
    "new_df = sub.reindex_cols(new_df, new_df_cols)\n",
    "new_df"
   ]
  },
  {
   "cell_type": "code",
   "execution_count": 6,
   "metadata": {},
   "outputs": [
    {
     "name": "stdout",
     "output_type": "stream",
     "text": [
      "success insert\n"
     ]
    }
   ],
   "source": [
    "# convert to json\n",
    "new_df_json = sub.convert_array_to_json(new_df)\n",
    "\n",
    "# bulk insert subs\n",
    "result_insert_subs = sub.bulk_insert_data_subs(list['Tiket Konser'], new_df_json)\n",
    "\n",
    "print(result_insert_subs)"
   ]
  },
  {
   "cell_type": "code",
   "execution_count": 7,
   "metadata": {},
   "outputs": [
    {
     "data": {
      "text/plain": [
       "'success update'"
      ]
     },
     "execution_count": 7,
     "metadata": {},
     "output_type": "execute_result"
    }
   ],
   "source": [
    "# bulk update subs\n",
    "sub.update_data_subs(list['Tiket Konser'], load_maillwizz_df)"
   ]
  },
  {
   "cell_type": "code",
   "execution_count": 5,
   "metadata": {},
   "outputs": [
    {
     "data": {
      "text/plain": [
       "'success delete'"
      ]
     },
     "execution_count": 5,
     "metadata": {},
     "output_type": "execute_result"
    }
   ],
   "source": [
    "# bulk delete subs\n",
    "sub.delete_data_subs_id(list['Tiket Konser'], load_maillwizz_df)"
   ]
  },
  {
   "cell_type": "code",
   "execution_count": 95,
   "metadata": {},
   "outputs": [
    {
     "data": {
      "text/html": [
       "<div>\n",
       "<style scoped>\n",
       "    .dataframe tbody tr th:only-of-type {\n",
       "        vertical-align: middle;\n",
       "    }\n",
       "\n",
       "    .dataframe tbody tr th {\n",
       "        vertical-align: top;\n",
       "    }\n",
       "\n",
       "    .dataframe thead th {\n",
       "        text-align: right;\n",
       "    }\n",
       "</style>\n",
       "<table border=\"1\" class=\"dataframe\">\n",
       "  <thead>\n",
       "    <tr style=\"text-align: right;\">\n",
       "      <th></th>\n",
       "      <th>subscriber_uid</th>\n",
       "      <th>EMAIL</th>\n",
       "      <th>FNAME</th>\n",
       "      <th>LNAME</th>\n",
       "      <th>ALAMAT</th>\n",
       "      <th>STATUS</th>\n",
       "    </tr>\n",
       "  </thead>\n",
       "  <tbody>\n",
       "    <tr>\n",
       "      <th>2</th>\n",
       "      <td>ak9420l85be00</td>\n",
       "      <td>toni4@gmail.com</td>\n",
       "      <td>Boruto</td>\n",
       "      <td>Hercules</td>\n",
       "      <td>Medan</td>\n",
       "      <td>Single</td>\n",
       "    </tr>\n",
       "  </tbody>\n",
       "</table>\n",
       "</div>"
      ],
      "text/plain": [
       "  subscriber_uid            EMAIL   FNAME     LNAME ALAMAT  STATUS\n",
       "2  ak9420l85be00  toni4@gmail.com  Boruto  Hercules  Medan  Single"
      ]
     },
     "execution_count": 95,
     "metadata": {},
     "output_type": "execute_result"
    }
   ],
   "source": [
    "load_maillwizz_df.loc[load_maillwizz_df['EMAIL'] == 'toni4@gmail.com']"
   ]
  }
 ],
 "metadata": {
  "kernelspec": {
   "display_name": "Python 3.10.7 64-bit",
   "language": "python",
   "name": "python3"
  },
  "language_info": {
   "codemirror_mode": {
    "name": "ipython",
    "version": 3
   },
   "file_extension": ".py",
   "mimetype": "text/x-python",
   "name": "python",
   "nbconvert_exporter": "python",
   "pygments_lexer": "ipython3",
   "version": "3.10.7"
  },
  "orig_nbformat": 4,
  "vscode": {
   "interpreter": {
    "hash": "26de051ba29f2982a8de78e945f0abaf191376122a1563185a90213a26c5da77"
   }
  }
 },
 "nbformat": 4,
 "nbformat_minor": 2
}
