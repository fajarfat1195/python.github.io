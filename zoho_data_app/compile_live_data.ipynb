{
 "cells": [
  {
   "cell_type": "code",
   "execution_count": 3,
   "metadata": {},
   "outputs": [
    {
     "name": "stdout",
     "output_type": "stream",
     "text": [
      "The autoreload extension is already loaded. To reload it, use:\n",
      "  %reload_ext autoreload\n"
     ]
    },
    {
     "data": {
      "text/plain": [
       "0               Karma Resorts\n",
       "1               Karma Resorts\n",
       "2               Karma Resorts\n",
       "3               Karma Resorts\n",
       "4               Karma Resorts\n",
       "                 ...         \n",
       "500010          Karma Resorts\n",
       "500011          Karma Resorts\n",
       "500012          Karma Resorts\n",
       "500013    Timeshare Marketing\n",
       "500014          Karma Resorts\n",
       "Name: Lead Brand, Length: 500015, dtype: string"
      ]
     },
     "execution_count": 3,
     "metadata": {},
     "output_type": "execute_result"
    }
   ],
   "source": [
    "import main_module as m\n",
    "import zoho_filter_module as fil\n",
    "import pandas as pd\n",
    "import re\n",
    "import numpy as np\n",
    "\n",
    "%load_ext autoreload\n",
    "%autoreload 2\n",
    "\n",
    "dir_path_live = r'C:\\Users\\fajar.fatoni\\Documents\\Python\\Data\\Zoho_Backup'\n",
    "file_name = '\\Leads_'\n",
    "\n",
    "cols = ['Record Id',\t\n",
    "'Created Time',\n",
    "'Created Date',\t\n",
    "'First Name',\t\n",
    "'Last Name',\t\n",
    "'Email',\t\n",
    "'Phone',\t\n",
    "'Mobile',\t\n",
    "'Birthdate',\t\n",
    "'Year of Birth',\n",
    "'Street',\t\n",
    "'Street2',\t\n",
    "'City',\t\n",
    "'State',\t\n",
    "'Country',\t\n",
    "'Nationality',\n",
    "'Booking Status', \n",
    "'BookRef',\n",
    "'Departure Date',\t\n",
    "'Arrival Date',\t\n",
    "'Card Type',\t\n",
    "'Marital Status',\t\n",
    "'Lead Brand',\t\n",
    "'Lead Sub-Brand',\t\n",
    "'Lead Source',\t\n",
    "'Lead Locations',\t\n",
    "'Lead Source Description',\t\n",
    "'Lead Regions',\n",
    "'Lead Status',\n",
    "'Email Opt Out',\t\n",
    "'Opt In',\n",
    "'GDPR Compliant',\n",
    "'Website',\n",
    "'Comments',\n",
    "'Do you live in Bali?']\n",
    "\n",
    "df_live = m.load_data_multiple(dir_path_live, file_name, cols)\n",
    "count_data_awal = df_live.shape[0]\n",
    "df_live = df_live.reindex(columns=cols)\n",
    "df_live.shape[0]\n",
    "\n",
    "df_live['Created Time'] = pd.to_datetime(df_live['Created Time'], format='%Y-%m-%d %H:%M:%S')\n",
    "df_live['Arrival Date'] = pd.to_datetime(df_live['Arrival Date'], format='%Y-%m-%d')\n",
    "df_live['Departure Date'] = pd.to_datetime(df_live['Departure Date'], format='%Y-%m-%d')\n",
    "# fungsi errors cource untuk menhindari error jika value data date null atau kosong\n",
    "# df['Birthdate'] = pd.to_datetime(df['Birthdate'], format='%Y-%m-%d', errors='coerce')\n",
    "df_live.dtypes\n",
    "df_live['Lead Brand']"
   ]
  },
  {
   "cell_type": "code",
   "execution_count": 4,
   "metadata": {},
   "outputs": [
    {
     "name": "stderr",
     "output_type": "stream",
     "text": [
      "C:\\Users\\fajar.fatoni\\AppData\\Local\\Temp\\ipykernel_8508\\3762353474.py:9: FutureWarning: DataFrame.applymap has been deprecated. Use DataFrame.map instead.\n",
      "  df_live = df_live.applymap(clean_string)\n"
     ]
    }
   ],
   "source": [
    "# Function to clean strings by removing illegal characters\n",
    "def clean_string(s):\n",
    "   if isinstance(s, str):  # Check if the value is a string\n",
    "        # Remove characters that are not letters (including all languages)\n",
    "        return re.sub(r'[^a-zA-Z0-9\\u00C0-\\u017F\\u0400-\\u04FF\\u0600-\\u06FF\\u3040-\\u30FF\\u4E00-\\u9FFF]+', ' ', s)\n",
    "   return s  # Return the value as is if it's not a string\n",
    "\n",
    "# Clean the DataFrame by applying the clean_string function to each element\n",
    "df_live = df_live.applymap(clean_string)\n",
    "\n",
    "df_live.to_excel(r'C:\\Users\\fajar.fatoni\\Documents\\Python\\Data\\Master Data Backup\\CRM\\All\\22 Mar\\All Data.xlsx', index=False)"
   ]
  }
 ],
 "metadata": {
  "kernelspec": {
   "display_name": "Python 3",
   "language": "python",
   "name": "python3"
  },
  "language_info": {
   "codemirror_mode": {
    "name": "ipython",
    "version": 3
   },
   "file_extension": ".py",
   "mimetype": "text/x-python",
   "name": "python",
   "nbconvert_exporter": "python",
   "pygments_lexer": "ipython3",
   "version": "3.10.0"
  }
 },
 "nbformat": 4,
 "nbformat_minor": 2
}
