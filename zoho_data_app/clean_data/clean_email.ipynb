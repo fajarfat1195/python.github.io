{
 "cells": [
  {
   "cell_type": "code",
   "execution_count": 1,
   "metadata": {},
   "outputs": [],
   "source": [
    "import sys\n",
    "\n",
    "sys.path.append('../')\n",
    "\n",
    "import main_module as m\n",
    "import pandas as pd\n",
    "import re\n",
    "\n",
    "%load_ext autoreload\n",
    "%autoreload 2\n",
    "\n",
    "col_email = 'EMAIL'"
   ]
  },
  {
   "cell_type": "code",
   "execution_count": 2,
   "metadata": {},
   "outputs": [],
   "source": [
    "df = pd.read_csv(r'C:\\Users\\fajar.fatoni\\Documents\\Python\\Data\\MC Bali - W1Jul25 - USD 3 July Mailing List - for upload - suspression.csv')\n",
    "# df = pd.read_excel(r'C:\\Users\\fajar.fatoni\\Documents\\Python\\Data\\MC India - W1Jul25 - Invoice Out - Suspression.xlsx')\n",
    "df.fillna('empty', inplace=True)\n",
    "\n",
    "# Change email name to old email\n",
    "df.rename(columns={col_email:'Old Email'}, inplace=True)\n",
    "df['Old Email'] = df['Old Email'].str.lower()\n",
    "df['New Email'] = df['Old Email']\n"
   ]
  },
  {
   "attachments": {},
   "cell_type": "markdown",
   "metadata": {},
   "source": [
    "# ====================== Awal Filter Umum ====================== "
   ]
  },
  {
   "cell_type": "code",
   "execution_count": 3,
   "metadata": {},
   "outputs": [
    {
     "name": "stderr",
     "output_type": "stream",
     "text": [
      "c:\\Users\\fajar.fatoni\\Documents\\Python\\Task Offline\\zoho_data_app\\clean_data\\..\\main_module.py:260: FutureWarning: A value is trying to be set on a copy of a DataFrame or Series through chained assignment using an inplace method.\n",
      "The behavior will change in pandas 3.0. This inplace method will never work because the intermediate object on which we are setting values always behaves as a copy.\n",
      "\n",
      "For example, when doing 'df[col].method(value, inplace=True)', try using 'df.method({col: value}, inplace=True)' or df[col] = df[col].method(value) instead, to perform the operation inplace on the original object.\n",
      "\n",
      "\n",
      "  df[df_columns].replace('^mailto:|-primary$|-pri$|-Mrs$|(noemailtobesent)$','', regex=True, inplace=True)\n",
      "c:\\Users\\fajar.fatoni\\Documents\\Python\\Task Offline\\zoho_data_app\\clean_data\\..\\main_module.py:288: FutureWarning: A value is trying to be set on a copy of a DataFrame or Series through chained assignment using an inplace method.\n",
      "The behavior will change in pandas 3.0. This inplace method will never work because the intermediate object on which we are setting values always behaves as a copy.\n",
      "\n",
      "For example, when doing 'df[col].method(value, inplace=True)', try using 'df.method({col: value}, inplace=True)' or df[col] = df[col].method(value) instead, to perform the operation inplace on the original object.\n",
      "\n",
      "\n",
      "  df[df_columns].replace('|'.join(list_correction_mail), '@mail.', regex=True, inplace=True)\n",
      "c:\\Users\\fajar.fatoni\\Documents\\Python\\Task Offline\\zoho_data_app\\clean_data\\..\\main_module.py:289: FutureWarning: A value is trying to be set on a copy of a DataFrame or Series through chained assignment using an inplace method.\n",
      "The behavior will change in pandas 3.0. This inplace method will never work because the intermediate object on which we are setting values always behaves as a copy.\n",
      "\n",
      "For example, when doing 'df[col].method(value, inplace=True)', try using 'df.method({col: value}, inplace=True)' or df[col] = df[col].method(value) instead, to perform the operation inplace on the original object.\n",
      "\n",
      "\n",
      "  df[df_columns].replace('|'.join(list_correction_gmail), '@gmail.', regex=True, inplace=True)\n",
      "c:\\Users\\fajar.fatoni\\Documents\\Python\\Task Offline\\zoho_data_app\\clean_data\\..\\main_module.py:290: FutureWarning: A value is trying to be set on a copy of a DataFrame or Series through chained assignment using an inplace method.\n",
      "The behavior will change in pandas 3.0. This inplace method will never work because the intermediate object on which we are setting values always behaves as a copy.\n",
      "\n",
      "For example, when doing 'df[col].method(value, inplace=True)', try using 'df.method({col: value}, inplace=True)' or df[col] = df[col].method(value) instead, to perform the operation inplace on the original object.\n",
      "\n",
      "\n",
      "  df[df_columns].replace('|'.join(list_correction_gmail_com), '@gmail.com', regex=True, inplace=True)\n",
      "c:\\Users\\fajar.fatoni\\Documents\\Python\\Task Offline\\zoho_data_app\\clean_data\\..\\main_module.py:291: FutureWarning: A value is trying to be set on a copy of a DataFrame or Series through chained assignment using an inplace method.\n",
      "The behavior will change in pandas 3.0. This inplace method will never work because the intermediate object on which we are setting values always behaves as a copy.\n",
      "\n",
      "For example, when doing 'df[col].method(value, inplace=True)', try using 'df.method({col: value}, inplace=True)' or df[col] = df[col].method(value) instead, to perform the operation inplace on the original object.\n",
      "\n",
      "\n",
      "  df[df_columns].replace('|'.join(list_correction_hotmail), '@hotmail.', regex=True, inplace=True)\n",
      "c:\\Users\\fajar.fatoni\\Documents\\Python\\Task Offline\\zoho_data_app\\clean_data\\..\\main_module.py:292: FutureWarning: A value is trying to be set on a copy of a DataFrame or Series through chained assignment using an inplace method.\n",
      "The behavior will change in pandas 3.0. This inplace method will never work because the intermediate object on which we are setting values always behaves as a copy.\n",
      "\n",
      "For example, when doing 'df[col].method(value, inplace=True)', try using 'df.method({col: value}, inplace=True)' or df[col] = df[col].method(value) instead, to perform the operation inplace on the original object.\n",
      "\n",
      "\n",
      "  df[df_columns].replace('|'.join(list_correction_hotmail_com), '@hotmail.com', regex=True, inplace=True)\n",
      "c:\\Users\\fajar.fatoni\\Documents\\Python\\Task Offline\\zoho_data_app\\clean_data\\..\\main_module.py:293: FutureWarning: A value is trying to be set on a copy of a DataFrame or Series through chained assignment using an inplace method.\n",
      "The behavior will change in pandas 3.0. This inplace method will never work because the intermediate object on which we are setting values always behaves as a copy.\n",
      "\n",
      "For example, when doing 'df[col].method(value, inplace=True)', try using 'df.method({col: value}, inplace=True)' or df[col] = df[col].method(value) instead, to perform the operation inplace on the original object.\n",
      "\n",
      "\n",
      "  df[df_columns].replace('|'.join(list_correction_yahoo_com), '@yahoo.com', regex=True, inplace=True)\n",
      "c:\\Users\\fajar.fatoni\\Documents\\Python\\Task Offline\\zoho_data_app\\clean_data\\..\\main_module.py:294: FutureWarning: A value is trying to be set on a copy of a DataFrame or Series through chained assignment using an inplace method.\n",
      "The behavior will change in pandas 3.0. This inplace method will never work because the intermediate object on which we are setting values always behaves as a copy.\n",
      "\n",
      "For example, when doing 'df[col].method(value, inplace=True)', try using 'df.method({col: value}, inplace=True)' or df[col] = df[col].method(value) instead, to perform the operation inplace on the original object.\n",
      "\n",
      "\n",
      "  df[df_columns].replace('|'.join(list_correction_yahoo), '@yahoo.', regex=True, inplace=True)\n",
      "c:\\Users\\fajar.fatoni\\Documents\\Python\\Task Offline\\zoho_data_app\\clean_data\\..\\main_module.py:295: FutureWarning: A value is trying to be set on a copy of a DataFrame or Series through chained assignment using an inplace method.\n",
      "The behavior will change in pandas 3.0. This inplace method will never work because the intermediate object on which we are setting values always behaves as a copy.\n",
      "\n",
      "For example, when doing 'df[col].method(value, inplace=True)', try using 'df.method({col: value}, inplace=True)' or df[col] = df[col].method(value) instead, to perform the operation inplace on the original object.\n",
      "\n",
      "\n",
      "  df[df_columns].replace('|'.join(list_correction_yahoo_in), '@yahoo.co.in', regex=True, inplace=True)\n",
      "c:\\Users\\fajar.fatoni\\Documents\\Python\\Task Offline\\zoho_data_app\\clean_data\\..\\main_module.py:310: SettingWithCopyWarning: \n",
      "A value is trying to be set on a copy of a slice from a DataFrame\n",
      "\n",
      "See the caveats in the documentation: https://pandas.pydata.org/pandas-docs/stable/user_guide/indexing.html#returning-a-view-versus-a-copy\n",
      "  df[df_columns].loc[~df[df_columns].str.contains('@', df_columns, na=False)] = 'empty'\n"
     ]
    }
   ],
   "source": [
    "m.email_correction(df, 'New Email')"
   ]
  },
  {
   "cell_type": "code",
   "execution_count": 4,
   "metadata": {},
   "outputs": [],
   "source": [
    "df['Email Correction'] = False\n",
    "df.loc[df['New Email'] != df['Old Email'],'Email Correction']=True"
   ]
  },
  {
   "cell_type": "code",
   "execution_count": 5,
   "metadata": {},
   "outputs": [
    {
     "name": "stdout",
     "output_type": "stream",
     "text": [
      "                              FNAME                               LNAME  \\\n",
      "0  Mrs Rosa Gijsbertha Van Der Waag  Mr Leonardus Cornelis Van Der Waag   \n",
      "1           Mr Lim Geok Pin Norbert         Mdm. Deong Chew Ming Esther   \n",
      "2                      Lim Tia Song                       Chan Mei Peng   \n",
      "3               Mr Sergii Khursenko                 Mrs Alina Khursenko   \n",
      "4                       Thomas Ford                        Denise Tyson   \n",
      "\n",
      "                                            FULLNAME   NUMBER  \\\n",
      "0  Mrs Rosa Gijsbertha Van Der Waag and Mr Leonar...    10175   \n",
      "1  Mr Lim Geok Pin Norbert and Mdm. Deong Chew Mi...    10321   \n",
      "2                Lim Tia Song and Chan Mei Peng&#44;    10369   \n",
      "3   Mr Sergii Khursenko and Mrs Alina Khursenko&#44;   104708   \n",
      "4                  Thomas Ford and Denise Tyson&#44;  1050708   \n",
      "\n",
      "                   Old Email                  New Email  Email Correction  \\\n",
      "0  kanga_roos@active8.net.au  kanga_roos@active8.net.au             False   \n",
      "1        norbert_lim@msn.com        norbert_lim@msn.com             False   \n",
      "2        lim_pat@hotmail.com        lim_pat@hotmail.com             False   \n",
      "3     hursenko2011@yandex.ua     hursenko2011@yandex.ua             False   \n",
      "4       da.tyson@hotmail.com       da.tyson@hotmail.com             False   \n",
      "\n",
      "     Country  MC Collector                                  Tags  \n",
      "0  Australia  Agung Semara   Members, MC Bali - W1Jul25 - USD AU  \n",
      "1  Singapore  Agung Semara  Members, MC Bali - W1Jul25 - USD ROW  \n",
      "2  Singapore  Agung Semara  Members, MC Bali - W1Jul25 - USD ROW  \n",
      "3    Ukraine  Ratih Kumala  Members, MC Bali - W1Jul25 - USD ROW  \n",
      "4  Australia  Ratih Kumala   Members, MC Bali - W1Jul25 - USD AU  \n"
     ]
    }
   ],
   "source": [
    "# Get a list of all existing columns\n",
    "all_columns = df.columns.tolist()\n",
    "\n",
    "# Define the columns you want to move and their desired position\n",
    "columns_to_move = ['New Email', 'Email Correction']\n",
    "target_column = 'Old Email'\n",
    "\n",
    "# Remove the columns to move from their current position\n",
    "for col in columns_to_move:\n",
    "    if col in all_columns: # Check if column exists before removing\n",
    "        all_columns.remove(col)\n",
    "\n",
    "# Find the index of the target_column\n",
    "try:\n",
    "    insert_index = all_columns.index(target_column) + 1 # +1 to place them *after* 'Old Email'\n",
    "except ValueError:\n",
    "    # If 'Old Email' is not found, you might want to handle this differently,\n",
    "    # e.g., append to the end or raise an error.\n",
    "    # For now, let's just append them to the end if 'Old Email' isn't found.\n",
    "    insert_index = len(all_columns)\n",
    "\n",
    "# Insert the columns to move at the desired position\n",
    "for i, col in enumerate(columns_to_move):\n",
    "    all_columns.insert(insert_index + i, col)\n",
    "\n",
    "# Reindex the DataFrame with the new column order\n",
    "df = df[all_columns]\n",
    "\n",
    "# Display the first few rows to verify the new column order\n",
    "print(df.head())"
   ]
  },
  {
   "cell_type": "code",
   "execution_count": 6,
   "metadata": {},
   "outputs": [],
   "source": [
    "df.replace('empty', '',inplace=True)\n",
    "df.to_csv(r'C:\\Users\\fajar.fatoni\\Documents\\Python\\Data\\MC Bali - W1Jul25 - USD 3 July Mailing List - for upload - suspression - Clean Email.csv', index=False)"
   ]
  }
 ],
 "metadata": {
  "kernelspec": {
   "display_name": "Python 3",
   "language": "python",
   "name": "python3"
  },
  "language_info": {
   "codemirror_mode": {
    "name": "ipython",
    "version": 3
   },
   "file_extension": ".py",
   "mimetype": "text/x-python",
   "name": "python",
   "nbconvert_exporter": "python",
   "pygments_lexer": "ipython3",
   "version": "3.10.0"
  },
  "orig_nbformat": 4
 },
 "nbformat": 4,
 "nbformat_minor": 2
}
