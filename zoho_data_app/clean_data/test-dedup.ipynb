{
 "cells": [
  {
   "cell_type": "code",
   "execution_count": 10,
   "metadata": {},
   "outputs": [
    {
     "name": "stdout",
     "output_type": "stream",
     "text": [
      "The autoreload extension is already loaded. To reload it, use:\n",
      "  %reload_ext autoreload\n"
     ]
    }
   ],
   "source": [
    "import pandas as pd\n",
    "\n",
    "\n",
    "%load_ext autoreload\n",
    "%autoreload 2\n"
   ]
  },
  {
   "cell_type": "code",
   "execution_count": 11,
   "metadata": {},
   "outputs": [
    {
     "data": {
      "text/html": [
       "<div>\n",
       "<style scoped>\n",
       "    .dataframe tbody tr th:only-of-type {\n",
       "        vertical-align: middle;\n",
       "    }\n",
       "\n",
       "    .dataframe tbody tr th {\n",
       "        vertical-align: top;\n",
       "    }\n",
       "\n",
       "    .dataframe thead th {\n",
       "        text-align: right;\n",
       "    }\n",
       "</style>\n",
       "<table border=\"1\" class=\"dataframe\">\n",
       "  <thead>\n",
       "    <tr style=\"text-align: right;\">\n",
       "      <th></th>\n",
       "      <th>Email</th>\n",
       "      <th>Phone</th>\n",
       "      <th>Mobile</th>\n",
       "    </tr>\n",
       "  </thead>\n",
       "  <tbody>\n",
       "    <tr>\n",
       "      <th>0</th>\n",
       "      <td>a@gmail.com</td>\n",
       "      <td>12</td>\n",
       "      <td>empty</td>\n",
       "    </tr>\n",
       "    <tr>\n",
       "      <th>1</th>\n",
       "      <td>jaya@yahoo.com</td>\n",
       "      <td>5564879</td>\n",
       "      <td>empty</td>\n",
       "    </tr>\n",
       "    <tr>\n",
       "      <th>2</th>\n",
       "      <td>brick@rocketmail.com</td>\n",
       "      <td>15616561</td>\n",
       "      <td>empty</td>\n",
       "    </tr>\n",
       "    <tr>\n",
       "      <th>3</th>\n",
       "      <td>rolin@yahoo.com</td>\n",
       "      <td>9884913</td>\n",
       "      <td>empty</td>\n",
       "    </tr>\n",
       "  </tbody>\n",
       "</table>\n",
       "</div>"
      ],
      "text/plain": [
       "                  Email     Phone Mobile\n",
       "0           a@gmail.com        12  empty\n",
       "1        jaya@yahoo.com   5564879  empty\n",
       "2  brick@rocketmail.com  15616561  empty\n",
       "3       rolin@yahoo.com   9884913  empty"
      ]
     },
     "execution_count": 11,
     "metadata": {},
     "output_type": "execute_result"
    }
   ],
   "source": [
    "path = r'C:\\Users\\fajar\\Documents\\Python\\Data\\Zoho CRM\\test.xlsx'\n",
    "zoho_df = pd.read_excel(path, sheet_name='Sheet1')\n",
    "\n",
    "zoho_df.reset_index(drop=True, inplace=True)\n",
    "count_filter_awal = zoho_df.shape[0]\n",
    "\n",
    "# mengisi kolom <NA> dengan value string 'empty' supaya mudah mengecek data member dan booking dengan isin\n",
    "zoho_df.fillna('empty', inplace=True)\n",
    "zoho_df"
   ]
  },
  {
   "cell_type": "code",
   "execution_count": 12,
   "metadata": {},
   "outputs": [
    {
     "data": {
      "text/html": [
       "<div>\n",
       "<style scoped>\n",
       "    .dataframe tbody tr th:only-of-type {\n",
       "        vertical-align: middle;\n",
       "    }\n",
       "\n",
       "    .dataframe tbody tr th {\n",
       "        vertical-align: top;\n",
       "    }\n",
       "\n",
       "    .dataframe thead th {\n",
       "        text-align: right;\n",
       "    }\n",
       "</style>\n",
       "<table border=\"1\" class=\"dataframe\">\n",
       "  <thead>\n",
       "    <tr style=\"text-align: right;\">\n",
       "      <th></th>\n",
       "      <th>Email</th>\n",
       "      <th>Phone</th>\n",
       "      <th>Mobile</th>\n",
       "    </tr>\n",
       "  </thead>\n",
       "  <tbody>\n",
       "    <tr>\n",
       "      <th>0</th>\n",
       "      <td>diandra@gmail.com</td>\n",
       "      <td>88984</td>\n",
       "      <td>NaN</td>\n",
       "    </tr>\n",
       "    <tr>\n",
       "      <th>1</th>\n",
       "      <td>bobo@gmail.com</td>\n",
       "      <td>123333</td>\n",
       "      <td>NaN</td>\n",
       "    </tr>\n",
       "    <tr>\n",
       "      <th>2</th>\n",
       "      <td>lulu@porteegoods.com</td>\n",
       "      <td>94654</td>\n",
       "      <td>NaN</td>\n",
       "    </tr>\n",
       "    <tr>\n",
       "      <th>3</th>\n",
       "      <td>dulanan@yahoo.com</td>\n",
       "      <td>5564879</td>\n",
       "      <td>NaN</td>\n",
       "    </tr>\n",
       "    <tr>\n",
       "      <th>4</th>\n",
       "      <td>brick@rocketmail.com</td>\n",
       "      <td>15616561</td>\n",
       "      <td>NaN</td>\n",
       "    </tr>\n",
       "  </tbody>\n",
       "</table>\n",
       "</div>"
      ],
      "text/plain": [
       "                  Email     Phone  Mobile\n",
       "0     diandra@gmail.com     88984     NaN\n",
       "1        bobo@gmail.com    123333     NaN\n",
       "2  lulu@porteegoods.com     94654     NaN\n",
       "3     dulanan@yahoo.com   5564879     NaN\n",
       "4  brick@rocketmail.com  15616561     NaN"
      ]
     },
     "execution_count": 12,
     "metadata": {},
     "output_type": "execute_result"
    }
   ],
   "source": [
    "path = r'C:\\Users\\fajar\\Documents\\Python\\Data\\Zoho CRM\\test.xlsx'\n",
    "df_lsq = pd.read_excel(path, sheet_name='Sheet2')\n",
    "df_lsq"
   ]
  },
  {
   "attachments": {},
   "cell_type": "markdown",
   "metadata": {},
   "source": [
    "# ====================== Awal Filter Umum ====================== "
   ]
  },
  {
   "cell_type": "code",
   "execution_count": 13,
   "metadata": {},
   "outputs": [],
   "source": [
    "zoho_df.loc[zoho_df['Phone'].isin(df_lsq['Phone']), 'Same Value Find'] = 'LSQ-Phone'\n",
    "zoho_df.loc[zoho_df['Phone'].isin(df_lsq['Mobile']), 'Same Value Find'] = 'LSQ-Mobile'\n",
    "zoho_df.loc[zoho_df['Mobile'].isin(df_lsq['Phone']), 'Same Value Find'] = 'LSQ-Phone' \n",
    "zoho_df.loc[zoho_df['Mobile'].isin(df_lsq['Mobile']), 'Same Value Find'] = 'LSQ-Mobile'\n",
    "zoho_df.loc[zoho_df['Email'].isin(df_lsq['Email']), 'Same Value Find'] = 'LSQ-Email'\n",
    "\n",
    "zoho_df.replace('empty', '', inplace=True)\n",
    "zoho_df.to_csv(r'C:\\Users\\fajar\\Documents\\Python\\Data\\Zoho CRM\\test-dedup.csv', index=False)\n",
    "# zoho_df.to_excel(r'C:\\Users\\fajar\\Documents\\Python\\Data\\booking-member-dedup.xlsx', index=False)\n",
    "\n",
    "#zoho_df.loc[zoho_df['Same Value Find'] == 'Booking-Phone1'] "
   ]
  }
 ],
 "metadata": {
  "kernelspec": {
   "display_name": "Python 3.10.7 64-bit",
   "language": "python",
   "name": "python3"
  },
  "language_info": {
   "codemirror_mode": {
    "name": "ipython",
    "version": 3
   },
   "file_extension": ".py",
   "mimetype": "text/x-python",
   "name": "python",
   "nbconvert_exporter": "python",
   "pygments_lexer": "ipython3",
   "version": "3.10.7"
  },
  "orig_nbformat": 4,
  "vscode": {
   "interpreter": {
    "hash": "26de051ba29f2982a8de78e945f0abaf191376122a1563185a90213a26c5da77"
   }
  }
 },
 "nbformat": 4,
 "nbformat_minor": 2
}
