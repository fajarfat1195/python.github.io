{
 "cells": [
  {
   "cell_type": "code",
   "execution_count": 146,
   "metadata": {},
   "outputs": [
    {
     "name": "stdout",
     "output_type": "stream",
     "text": [
      "The autoreload extension is already loaded. To reload it, use:\n",
      "  %reload_ext autoreload\n"
     ]
    }
   ],
   "source": [
    "import sys\n",
    "sys.path.append('../')\n",
    "\n",
    "import main_module as m\n",
    "import zoho_filter_module as fil\n",
    "import pandas as pd\n",
    "import re\n",
    "import numpy as np\n",
    "\n",
    "%load_ext autoreload\n",
    "%autoreload 2\n",
    "\n",
    "dir_path = r'C:\\Users\\fajar\\Documents\\Python\\Data\\Zoho_Backup'\n",
    "file_name = '\\Leads_'\n",
    "\n",
    "cols = ['Record Id',\t\n",
    "'Created Time',\n",
    "'Created Date',\t\n",
    "'First Name',\t\n",
    "'Last Name',\t\n",
    "'Email']"
   ]
  },
  {
   "cell_type": "code",
   "execution_count": 147,
   "metadata": {},
   "outputs": [
    {
     "data": {
      "text/html": [
       "<div>\n",
       "<style scoped>\n",
       "    .dataframe tbody tr th:only-of-type {\n",
       "        vertical-align: middle;\n",
       "    }\n",
       "\n",
       "    .dataframe tbody tr th {\n",
       "        vertical-align: top;\n",
       "    }\n",
       "\n",
       "    .dataframe thead th {\n",
       "        text-align: right;\n",
       "    }\n",
       "</style>\n",
       "<table border=\"1\" class=\"dataframe\">\n",
       "  <thead>\n",
       "    <tr style=\"text-align: right;\">\n",
       "      <th></th>\n",
       "      <th>Record Id</th>\n",
       "      <th>Created Time</th>\n",
       "      <th>Created Date</th>\n",
       "      <th>First Name</th>\n",
       "      <th>Last Name</th>\n",
       "      <th>Email</th>\n",
       "    </tr>\n",
       "  </thead>\n",
       "  <tbody>\n",
       "    <tr>\n",
       "      <th>493159</th>\n",
       "      <td>zcrm_3584690000520957790</td>\n",
       "      <td>2025-01-13 18:36:37</td>\n",
       "      <td>2025-01-13</td>\n",
       "      <td>&lt;NA&gt;</td>\n",
       "      <td>Samantha Williams</td>\n",
       "      <td>samantha67williams@gmail.com</td>\n",
       "    </tr>\n",
       "    <tr>\n",
       "      <th>493245</th>\n",
       "      <td>zcrm_3584690000521016109</td>\n",
       "      <td>2025-01-13 18:29:28</td>\n",
       "      <td>&lt;NA&gt;</td>\n",
       "      <td>neeraj</td>\n",
       "      <td>prasad</td>\n",
       "      <td>gomtipus@gmail.com</td>\n",
       "    </tr>\n",
       "    <tr>\n",
       "      <th>492873</th>\n",
       "      <td>zcrm_3584690000520916710</td>\n",
       "      <td>2025-01-13 18:28:44</td>\n",
       "      <td>&lt;NA&gt;</td>\n",
       "      <td>Bhavin</td>\n",
       "      <td>P</td>\n",
       "      <td>bvn2307@gmail.com</td>\n",
       "    </tr>\n",
       "    <tr>\n",
       "      <th>492958</th>\n",
       "      <td>zcrm_3584690000520932873</td>\n",
       "      <td>2025-01-13 18:26:14</td>\n",
       "      <td>&lt;NA&gt;</td>\n",
       "      <td>Maha</td>\n",
       "      <td>Hijazi</td>\n",
       "      <td>mahairz@hotmail.com</td>\n",
       "    </tr>\n",
       "    <tr>\n",
       "      <th>493244</th>\n",
       "      <td>zcrm_3584690000521016067</td>\n",
       "      <td>2025-01-13 18:12:02</td>\n",
       "      <td>&lt;NA&gt;</td>\n",
       "      <td>Toni</td>\n",
       "      <td>Truda</td>\n",
       "      <td>toni.truda@gmail.com</td>\n",
       "    </tr>\n",
       "    <tr>\n",
       "      <th>...</th>\n",
       "      <td>...</td>\n",
       "      <td>...</td>\n",
       "      <td>...</td>\n",
       "      <td>...</td>\n",
       "      <td>...</td>\n",
       "      <td>...</td>\n",
       "    </tr>\n",
       "    <tr>\n",
       "      <th>5</th>\n",
       "      <td>zcrm_3584690000000450110</td>\n",
       "      <td>2019-01-08 16:38:18</td>\n",
       "      <td>&lt;NA&gt;</td>\n",
       "      <td>Maeve</td>\n",
       "      <td>Maher</td>\n",
       "      <td>maeve.maher@gmail.com</td>\n",
       "    </tr>\n",
       "    <tr>\n",
       "      <th>4</th>\n",
       "      <td>zcrm_3584690000000450109</td>\n",
       "      <td>2019-01-08 16:38:18</td>\n",
       "      <td>&lt;NA&gt;</td>\n",
       "      <td>Ana Maria</td>\n",
       "      <td>Weileder</td>\n",
       "      <td>m.weileder@sonnenlink.de</td>\n",
       "    </tr>\n",
       "    <tr>\n",
       "      <th>3</th>\n",
       "      <td>zcrm_3584690000000450106</td>\n",
       "      <td>2019-01-08 16:38:18</td>\n",
       "      <td>&lt;NA&gt;</td>\n",
       "      <td>Lisa</td>\n",
       "      <td>Ferkovich</td>\n",
       "      <td>lisajo2009@yahoo.com</td>\n",
       "    </tr>\n",
       "    <tr>\n",
       "      <th>2</th>\n",
       "      <td>zcrm_3584690000000450087</td>\n",
       "      <td>2019-01-08 16:38:18</td>\n",
       "      <td>&lt;NA&gt;</td>\n",
       "      <td>Siobhan</td>\n",
       "      <td>Gallagher</td>\n",
       "      <td>gallaghersiobhan@eircom.net</td>\n",
       "    </tr>\n",
       "    <tr>\n",
       "      <th>0</th>\n",
       "      <td>zcrm_3584690000000404602</td>\n",
       "      <td>2019-01-08 11:07:28</td>\n",
       "      <td>2021-07-21</td>\n",
       "      <td>Frederic</td>\n",
       "      <td>Bonin</td>\n",
       "      <td>fredericbonin79@gmail.com</td>\n",
       "    </tr>\n",
       "  </tbody>\n",
       "</table>\n",
       "<p>493249 rows × 6 columns</p>\n",
       "</div>"
      ],
      "text/plain": [
       "                       Record Id        Created Time Created Date First Name  \\\n",
       "493159  zcrm_3584690000520957790 2025-01-13 18:36:37   2025-01-13       <NA>   \n",
       "493245  zcrm_3584690000521016109 2025-01-13 18:29:28         <NA>     neeraj   \n",
       "492873  zcrm_3584690000520916710 2025-01-13 18:28:44         <NA>     Bhavin   \n",
       "492958  zcrm_3584690000520932873 2025-01-13 18:26:14         <NA>       Maha   \n",
       "493244  zcrm_3584690000521016067 2025-01-13 18:12:02         <NA>       Toni   \n",
       "...                          ...                 ...          ...        ...   \n",
       "5       zcrm_3584690000000450110 2019-01-08 16:38:18         <NA>      Maeve   \n",
       "4       zcrm_3584690000000450109 2019-01-08 16:38:18         <NA>  Ana Maria   \n",
       "3       zcrm_3584690000000450106 2019-01-08 16:38:18         <NA>       Lisa   \n",
       "2       zcrm_3584690000000450087 2019-01-08 16:38:18         <NA>    Siobhan   \n",
       "0       zcrm_3584690000000404602 2019-01-08 11:07:28   2021-07-21   Frederic   \n",
       "\n",
       "                Last Name                         Email  \n",
       "493159  Samantha Williams  samantha67williams@gmail.com  \n",
       "493245             prasad            gomtipus@gmail.com  \n",
       "492873                  P             bvn2307@gmail.com  \n",
       "492958             Hijazi           mahairz@hotmail.com  \n",
       "493244              Truda          toni.truda@gmail.com  \n",
       "...                   ...                           ...  \n",
       "5                   Maher         maeve.maher@gmail.com  \n",
       "4                Weileder      m.weileder@sonnenlink.de  \n",
       "3               Ferkovich          lisajo2009@yahoo.com  \n",
       "2               Gallagher   gallaghersiobhan@eircom.net  \n",
       "0                   Bonin     fredericbonin79@gmail.com  \n",
       "\n",
       "[493249 rows x 6 columns]"
      ]
     },
     "execution_count": 147,
     "metadata": {},
     "output_type": "execute_result"
    }
   ],
   "source": [
    "df = m.load_data_multiple(dir_path, file_name, cols)\n",
    "count_data_awal = df.shape[0]\n",
    "df = df.reindex(columns=cols)\n",
    "df.shape[0]\n",
    "\n",
    "df['Created Time'] = pd.to_datetime(df['Created Time'], format='%Y-%m-%d %H:%M:%S')\n",
    "# fungsi errors cource untuk menhindari error jika value data date null atau kosong\n",
    "# df['Birthdate'] = pd.to_datetime(df['Birthdate'], format='%Y-%m-%d', errors='coerce')\n",
    "df.sort_values('Created Time', ascending=False, inplace=True)\n",
    "df.dtypes\n",
    "df"
   ]
  },
  {
   "cell_type": "code",
   "execution_count": 148,
   "metadata": {},
   "outputs": [
    {
     "name": "stderr",
     "output_type": "stream",
     "text": [
      "c:\\Users\\fajar\\Documents\\Python\\Task Offline\\zoho_data_app\\clean_data\\..\\main_module.py:273: SettingWithCopyWarning: \n",
      "A value is trying to be set on a copy of a slice from a DataFrame\n",
      "\n",
      "See the caveats in the documentation: https://pandas.pydata.org/pandas-docs/stable/user_guide/indexing.html#returning-a-view-versus-a-copy\n",
      "  #for index, row in df_test.iterrows():\n"
     ]
    }
   ],
   "source": [
    "df['Email Old'] = df['Email'].str.lower()\n",
    "df.fillna('', inplace=True)\n",
    "m.clean_space(df, 'Email')\n",
    "m.clean_double_char(df, 'Email')\n",
    "m.email_correction(df, 'Email')\n",
    "\n",
    "df['Email Correction'] = 'No'\n",
    "df.loc[df['Email Old']!=df['Email'],'Email Correction'] = 'Yes'\n",
    "df_email_cor = df.loc[df['Email Correction'] == 'Yes'].copy()"
   ]
  },
  {
   "cell_type": "code",
   "execution_count": 149,
   "metadata": {},
   "outputs": [
    {
     "name": "stderr",
     "output_type": "stream",
     "text": [
      "c:\\Users\\fajar\\Documents\\Python\\Task Offline\\zoho_data_app\\clean_data\\..\\main_module.py:273: SettingWithCopyWarning: \n",
      "A value is trying to be set on a copy of a slice from a DataFrame\n",
      "\n",
      "See the caveats in the documentation: https://pandas.pydata.org/pandas-docs/stable/user_guide/indexing.html#returning-a-view-versus-a-copy\n",
      "  #for index, row in df_test.iterrows():\n"
     ]
    },
    {
     "data": {
      "text/html": [
       "<div>\n",
       "<style scoped>\n",
       "    .dataframe tbody tr th:only-of-type {\n",
       "        vertical-align: middle;\n",
       "    }\n",
       "\n",
       "    .dataframe tbody tr th {\n",
       "        vertical-align: top;\n",
       "    }\n",
       "\n",
       "    .dataframe thead th {\n",
       "        text-align: right;\n",
       "    }\n",
       "</style>\n",
       "<table border=\"1\" class=\"dataframe\">\n",
       "  <thead>\n",
       "    <tr style=\"text-align: right;\">\n",
       "      <th></th>\n",
       "      <th>Record Id</th>\n",
       "      <th>Created Time</th>\n",
       "      <th>Created Date</th>\n",
       "      <th>First Name</th>\n",
       "      <th>Last Name</th>\n",
       "      <th>Email</th>\n",
       "      <th>Email Old</th>\n",
       "      <th>Email Correction</th>\n",
       "    </tr>\n",
       "  </thead>\n",
       "  <tbody>\n",
       "  </tbody>\n",
       "</table>\n",
       "</div>"
      ],
      "text/plain": [
       "Empty DataFrame\n",
       "Columns: [Record Id, Created Time, Created Date, First Name, Last Name, Email, Email Old, Email Correction]\n",
       "Index: []"
      ]
     },
     "execution_count": 149,
     "metadata": {},
     "output_type": "execute_result"
    }
   ],
   "source": [
    "m.email_correction(df, 'Email')\n",
    "df[df['Email'] == 'GOURAV.RANA@506YAHOO.COM']"
   ]
  },
  {
   "attachments": {},
   "cell_type": "markdown",
   "metadata": {},
   "source": [
    "# ====================== Awal Filter Umum ====================== "
   ]
  },
  {
   "cell_type": "code",
   "execution_count": 150,
   "metadata": {},
   "outputs": [],
   "source": [
    "df_email_cor = df_email_cor.reindex(columns=['Record Id', 'Created Time', 'Created Date', 'First Name', 'Last Name', 'Email Old', 'Email', 'Email Correction'])"
   ]
  },
  {
   "cell_type": "code",
   "execution_count": 151,
   "metadata": {},
   "outputs": [],
   "source": [
    "df_email_cor.to_csv(r'C:\\Users\\fajar\\Documents\\Python\\Data\\email_correction.csv', index=False)"
   ]
  }
 ],
 "metadata": {
  "kernelspec": {
   "display_name": "Python 3",
   "language": "python",
   "name": "python3"
  },
  "language_info": {
   "codemirror_mode": {
    "name": "ipython",
    "version": 3
   },
   "file_extension": ".py",
   "mimetype": "text/x-python",
   "name": "python",
   "nbconvert_exporter": "python",
   "pygments_lexer": "ipython3",
   "version": "3.10.7"
  },
  "orig_nbformat": 4
 },
 "nbformat": 4,
 "nbformat_minor": 2
}
