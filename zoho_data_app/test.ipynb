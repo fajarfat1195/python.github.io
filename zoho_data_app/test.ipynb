{
 "cells": [
  {
   "cell_type": "code",
   "execution_count": 4,
   "metadata": {},
   "outputs": [
    {
     "name": "stdout",
     "output_type": "stream",
     "text": [
      "[{'uid': '3629b8f2cc569', 'email': '000008@163.com', 'status': 'subscribed', 'FIRST_NAME': 'Shaowan,', 'LAST_NAME': 'Zhuo', 'PHONE': '86013751144448    ', 'CITY': '', 'STATE': '', 'COUNTRY': 'China', 'NATIONALITY': '', 'LEAD_BRAND': 'Karma Resorts', 'LEAD_SUB_BRAND': 'Other', 'LEAD_SOURCES': 'Past Guests', 'LEAD_SOURCE_DESCRIPTION': 'Karma Kandara', 'LEAD_REGIONS': 'Other', 'LEAD_LOCATIONS': 'Karma Kandara'}, {'uid': 'e7c1db70baedb', 'email': '007.satya@gmail.com', 'status': 'subscribed', 'FIRST_NAME': 'Satya', 'LAST_NAME': 'Prakash', 'PHONE': '918792170667    ', 'CITY': 'banglore', 'STATE': '', 'COUNTRY': 'India', 'NATIONALITY': 'Indian', 'LEAD_BRAND': '', 'LEAD_SUB_BRAND': '', 'LEAD_SOURCES': '', 'LEAD_SOURCE_DESCRIPTION': '', 'LEAD_REGIONS': '', 'LEAD_LOCATIONS': 'Karma Royal Palms'}, {'uid': '113d8fa2daa74', 'email': '007dhananjaykumbhar@gmail.com', 'status': 'subscribed', 'FIRST_NAME': 'MR. DHANANJAY SHAMRAO', 'LAST_NAME': 'KUMBHAR', 'PHONE': '91985111    ', 'CITY': 'SATARA', 'STATE': 'MAHARASHTRA', 'COUNTRY': 'India', 'NATIONALITY': '', 'LEAD_BRAND': 'Karma Resorts', 'LEAD_SUB_BRAND': 'Other', 'LEAD_SOURCES': 'Past Guests', 'LEAD_SOURCE_DESCRIPTION': 'Viewpoint', 'LEAD_REGIONS': '', 'LEAD_LOCATIONS': 'Karma Munnar, Kerala'}, {'uid': '2a7d75fab5f16', 'email': '007lalee@gmail.com', 'status': 'subscribed', 'FIRST_NAME': 'Cnshbavfgxzd', 'LAST_NAME': 'Szbcdvxgfhna', 'PHONE': '', 'CITY': '', 'STATE': '', 'COUNTRY': '', 'NATIONALITY': '', 'LEAD_BRAND': 'Karma Resorts', 'LEAD_SUB_BRAND': 'Other', 'LEAD_SOURCES': 'Past Guests', 'LEAD_SOURCE_DESCRIPTION': '', 'LEAD_REGIONS': '', 'LEAD_LOCATIONS': 'Karma Group'}, {'uid': 'd0612f14c57d6', 'email': '00shiv@gmail.com', 'status': 'subscribed', 'FIRST_NAME': 'Shivkumar', 'LAST_NAME': 'Chandrasekaran', 'PHONE': '18054482962    ', 'CITY': 'Santa Barbara', 'STATE': '', 'COUNTRY': 'USA', 'NATIONALITY': 'Indian', 'LEAD_BRAND': '', 'LEAD_SUB_BRAND': '', 'LEAD_SOURCES': '', 'LEAD_SOURCE_DESCRIPTION': '', 'LEAD_REGIONS': '', 'LEAD_LOCATIONS': 'Karma Martam Retreat'}, {'uid': '50a17a8992fbe', 'email': '01292264677@talktalk.net', 'status': 'subscribed', 'FIRST_NAME': '', 'LAST_NAME': '', 'PHONE': '', 'CITY': '', 'STATE': '', 'COUNTRY': '', 'NATIONALITY': '', 'LEAD_BRAND': 'Karma Resorts', 'LEAD_SUB_BRAND': 'Other', 'LEAD_SOURCES': 'Past Guests', 'LEAD_SOURCE_DESCRIPTION': '', 'LEAD_REGIONS': '', 'LEAD_LOCATIONS': 'Karma Lake Of Menteith'}, {'uid': 'f8ea3f7aa2ec3', 'email': '012npn@gmail.com', 'status': 'subscribed', 'FIRST_NAME': 'Naveen', 'LAST_NAME': 'P', 'PHONE': '917259649540    ', 'CITY': 'BANGALORE', 'STATE': '', 'COUNTRY': 'India', 'NATIONALITY': 'Indian', 'LEAD_BRAND': '', 'LEAD_SUB_BRAND': '', 'LEAD_SOURCES': '', 'LEAD_SOURCE_DESCRIPTION': '', 'LEAD_REGIONS': '', 'LEAD_LOCATIONS': 'Karma Royal Palms'}, {'uid': 'c805d270df89d', 'email': '06.mayank@gmail.com', 'status': 'subscribed', 'FIRST_NAME': 'Mayank', 'LAST_NAME': 'Shukla', 'PHONE': '919109954542    ', 'CITY': 'MUMBAI', 'STATE': '', 'COUNTRY': 'India', 'NATIONALITY': 'Indian', 'LEAD_BRAND': '', 'LEAD_SUB_BRAND': '', 'LEAD_SOURCES': '', 'LEAD_SOURCE_DESCRIPTION': '', 'LEAD_REGIONS': '', 'LEAD_LOCATIONS': 'Karma Royal Haathi Mahal'}, {'uid': '485524a7b9a3c', 'email': '06shaan@gmail.com', 'status': 'subscribed', 'FIRST_NAME': 'Shatrughan', 'LAST_NAME': '-', 'PHONE': '919513802639    ', 'CITY': 'BHOPAL', 'STATE': '', 'COUNTRY': 'India', 'NATIONALITY': 'Indian', 'LEAD_BRAND': '', 'LEAD_SUB_BRAND': '', 'LEAD_SOURCES': '', 'LEAD_SOURCE_DESCRIPTION': '', 'LEAD_REGIONS': '', 'LEAD_LOCATIONS': 'Karma Royal Palms'}, {'uid': 'ee70816acb6f0', 'email': '07deepanshu@gmail.com', 'status': 'subscribed', 'FIRST_NAME': 'Deepanshu', 'LAST_NAME': 'Agrawal', 'PHONE': '919999389481    ', 'CITY': 'New Delhi', 'STATE': 'New Delhi', 'COUNTRY': 'India', 'NATIONALITY': '', 'LEAD_BRAND': 'Karma Resorts', 'LEAD_SUB_BRAND': 'Other', 'LEAD_SOURCES': 'Past Guests', 'LEAD_SOURCE_DESCRIPTION': 'Viewpoint', 'LEAD_REGIONS': '', 'LEAD_LOCATIONS': 'Karma Sitabani, Corbett'}, {'uid': '30c7d619cd211', 'email': '08533i@gmail.com', 'status': 'subscribed', 'FIRST_NAME': 'Jigneshkumar D', 'LAST_NAME': 'Shobhasana', 'PHONE': '918866417297    ', 'CITY': 'AHAMEDABAD', 'STATE': '', 'COUNTRY': 'India', 'NATIONALITY': 'Indian', 'LEAD_BRAND': '', 'LEAD_SUB_BRAND': '', 'LEAD_SOURCES': '', 'LEAD_SOURCE_DESCRIPTION': '', 'LEAD_REGIONS': '', 'LEAD_LOCATIONS': 'Karma Golden Camp, Jaisalmer'}, {'uid': 'e49a4b2ecb256', 'email': '09710@naver.com', 'status': 'subscribed', 'FIRST_NAME': 'Lee', 'LAST_NAME': 'Si Ho', 'PHONE': '1022206430    ', 'CITY': '', 'STATE': '', 'COUNTRY': 'South Korea', 'NATIONALITY': '', 'LEAD_BRAND': 'Karma Resorts', 'LEAD_SUB_BRAND': 'Other', 'LEAD_SOURCES': 'Past Guests', 'LEAD_SOURCE_DESCRIPTION': '', 'LEAD_REGIONS': 'Other', 'LEAD_LOCATIONS': 'Karma Kandara'}, {'uid': '1131a0d5d0506', 'email': '100242269@qq.com', 'status': 'subscribed', 'FIRST_NAME': 'Shaolin', 'LAST_NAME': 'Lai', 'PHONE': '86013823588492    ', 'CITY': '', 'STATE': '', 'COUNTRY': 'China', 'NATIONALITY': '', 'LEAD_BRAND': 'Karma Resorts', 'LEAD_SUB_BRAND': 'Other', 'LEAD_SOURCES': 'Past Guests', 'LEAD_SOURCE_DESCRIPTION': 'Karma Kandara', 'LEAD_REGIONS': 'Other', 'LEAD_LOCATIONS': 'Karma Kandara'}, {'uid': 'c9642272bdbc2', 'email': '100244616@qq.com', 'status': 'subscribed', 'FIRST_NAME': 'Yongmei', 'LAST_NAME': 'Huang', 'PHONE': '86017606177277    ', 'CITY': 'Wu Xi', 'STATE': '', 'COUNTRY': 'China', 'NATIONALITY': '', 'LEAD_BRAND': 'Karma Resorts', 'LEAD_SUB_BRAND': 'Other', 'LEAD_SOURCES': 'Past Guests', 'LEAD_SOURCE_DESCRIPTION': 'Karma Kandara', 'LEAD_REGIONS': 'Other', 'LEAD_LOCATIONS': 'Karma Kandara'}, {'uid': 'cac074d3c5bc0', 'email': '100252655@qq.com', 'status': 'subscribed', 'FIRST_NAME': 'Bohao', 'LAST_NAME': 'Zhang', 'PHONE': '8618310998123    ', 'CITY': '', 'STATE': '', 'COUNTRY': 'China', 'NATIONALITY': '', 'LEAD_BRAND': 'Karma Resorts', 'LEAD_SUB_BRAND': 'Other', 'LEAD_SOURCES': 'Past Guests', 'LEAD_SOURCE_DESCRIPTION': '', 'LEAD_REGIONS': 'Other', 'LEAD_LOCATIONS': 'Karma Kandara'}, {'uid': '42dfe66410ec8', 'email': '1004551216@qq.com', 'status': 'subscribed', 'FIRST_NAME': 'Wang', 'LAST_NAME': 'Hao', 'PHONE': '81219338522    ', 'CITY': '', 'STATE': 'Jakarta', 'COUNTRY': 'China', 'NATIONALITY': 'Chinese', 'LEAD_BRAND': 'Karma Resorts', 'LEAD_SUB_BRAND': 'Other', 'LEAD_SOURCES': 'Past Guests', 'LEAD_SOURCE_DESCRIPTION': '', 'LEAD_REGIONS': '', 'LEAD_LOCATIONS': 'Karma Kandara'}, {'uid': 'b755fb6c0c3aa', 'email': '1005536438@qq.com', 'status': 'subscribed', 'FIRST_NAME': 'Zhiao', 'LAST_NAME': 'Fei', 'PHONE': '86013552426881    ', 'CITY': 'Beijing', 'STATE': '', 'COUNTRY': 'China', 'NATIONALITY': '', 'LEAD_BRAND': 'Karma Resorts', 'LEAD_SUB_BRAND': 'Other', 'LEAD_SOURCES': 'Past Guests', 'LEAD_SOURCE_DESCRIPTION': 'Karma Kandara', 'LEAD_REGIONS': 'Other', 'LEAD_LOCATIONS': 'Karma Kandara'}, {'uid': '255309c389e4f', 'email': '100820809@qq.com', 'status': 'subscribed', 'FIRST_NAME': 'Lu', 'LAST_NAME': 'Qiang', 'PHONE': '86189111280809    ', 'CITY': 'BEIJING', 'STATE': '', 'COUNTRY': 'China', 'NATIONALITY': '', 'LEAD_BRAND': 'Karma Resorts', 'LEAD_SUB_BRAND': 'Other', 'LEAD_SOURCES': 'Past Guests', 'LEAD_SOURCE_DESCRIPTION': 'Karma Kandara', 'LEAD_REGIONS': 'Other', 'LEAD_LOCATIONS': 'Karma Kandara'}, {'uid': '413f2c50e6ca2', 'email': '1015387595@qq.com', 'status': 'subscribed', 'FIRST_NAME': 'Xiaodong', 'LAST_NAME': 'Xu', 'PHONE': '6286013915629370    ', 'CITY': 'Ungasan', 'STATE': '', 'COUNTRY': 'Indonesia', 'NATIONALITY': '', 'LEAD_BRAND': 'Karma Resorts', 'LEAD_SUB_BRAND': 'Other', 'LEAD_SOURCES': 'Past Guests', 'LEAD_SOURCE_DESCRIPTION': 'Karma Kandara', 'LEAD_REGIONS': 'SEAP', 'LEAD_LOCATIONS': 'Karma Kandara'}, {'uid': '6eec2f9a080f3', 'email': '1015589635@qq.com', 'status': 'subscribed', 'FIRST_NAME': 'Qianmiao', 'LAST_NAME': 'Luo', 'PHONE': '860082147296404    ', 'CITY': 'Zhejiang', 'STATE': '', 'COUNTRY': 'China', 'NATIONALITY': '', 'LEAD_BRAND': 'Karma Resorts', 'LEAD_SUB_BRAND': 'Other', 'LEAD_SOURCES': 'Past Guests', 'LEAD_SOURCE_DESCRIPTION': 'Karma Kandara', 'LEAD_REGIONS': 'Other', 'LEAD_LOCATIONS': 'Karma Kandara'}]\n"
     ]
    }
   ],
   "source": [
    "import requests\n",
    "\n",
    "api_token = \"3HgP0r8Q9N5g27bvhSa70nP0xkGSirTno9tnerl1CukoNgoPubzB0RXfe3pC\"\n",
    "\n",
    "url = \"https://acelle.experiencekarmaclub.com/api/v1/subscribers\"\n",
    "params = {\n",
    "    \"api_token\": api_token,\n",
    "    \"list_uid\": \"66977242ee2fb\",\n",
    "    \"per_page\": 20,\n",
    "    \"page\": 1\n",
    "}\n",
    "\n",
    "response = requests.get(url, params=params)\n",
    "\n",
    "print(response.json())"
   ]
  }
 ],
 "metadata": {
  "kernelspec": {
   "display_name": "Python 3",
   "language": "python",
   "name": "python3"
  },
  "language_info": {
   "codemirror_mode": {
    "name": "ipython",
    "version": 3
   },
   "file_extension": ".py",
   "mimetype": "text/x-python",
   "name": "python",
   "nbconvert_exporter": "python",
   "pygments_lexer": "ipython3",
   "version": "3.10.7"
  }
 },
 "nbformat": 4,
 "nbformat_minor": 2
}
