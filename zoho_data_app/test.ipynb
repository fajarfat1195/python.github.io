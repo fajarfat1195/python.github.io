{
 "cells": [
  {
   "cell_type": "code",
   "execution_count": 6,
   "metadata": {},
   "outputs": [
    {
     "name": "stdout",
     "output_type": "stream",
     "text": [
      "   id     name  no_id   age\n",
      "0   1    Alice    1.0  25.0\n",
      "1   2      Bob    2.0  30.0\n",
      "2   3  Charlie    3.0  35.0\n",
      "3   4    David    NaN   NaN\n"
     ]
    }
   ],
   "source": [
    "import pandas as pd\n",
    "\n",
    "# create two sample DataFrames\n",
    "left = pd.DataFrame({'id': [1, 2, 3, 4], 'name': ['Alice', 'Bob', 'Charlie', 'David']})\n",
    "right = pd.DataFrame({'no_id': [1, 2, 3], 'age': [25, 30, 35]})\n",
    "\n",
    "# perform a left join on the 'id' column\n",
    "merged = pd.merge(left, right, left_on='id', right_on='no_id', how='left')\n",
    "\n",
    "print(merged)"
   ]
  }
 ],
 "metadata": {
  "kernelspec": {
   "display_name": "Python 3",
   "language": "python",
   "name": "python3"
  },
  "language_info": {
   "codemirror_mode": {
    "name": "ipython",
    "version": 3
   },
   "file_extension": ".py",
   "mimetype": "text/x-python",
   "name": "python",
   "nbconvert_exporter": "python",
   "pygments_lexer": "ipython3",
   "version": "3.10.7"
  }
 },
 "nbformat": 4,
 "nbformat_minor": 2
}
