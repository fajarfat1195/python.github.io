{
 "cells": [
  {
   "cell_type": "code",
   "execution_count": 18,
   "metadata": {},
   "outputs": [
    {
     "name": "stdout",
     "output_type": "stream",
     "text": [
      "The autoreload extension is already loaded. To reload it, use:\n",
      "  %reload_ext autoreload\n"
     ]
    }
   ],
   "source": [
    "\n",
    "\n",
    "import pandas as pd\n",
    "import re\n",
    "import numpy as np\n",
    "\n",
    "import sys\n",
    "sys.path.append('../../zoho_data_app/')\n",
    "import main_module as m\n",
    "import zoho_filter_module as fil\n",
    "\n",
    "%load_ext autoreload\n",
    "%autoreload 2\n"
   ]
  },
  {
   "cell_type": "code",
   "execution_count": 19,
   "metadata": {},
   "outputs": [],
   "source": [
    "path = r'G:\\.shortcut-targets-by-id\\0B_d3smBjzo04eXpvS1NXTWF2RVE\\_BOOKING\\Booking By Year\\FlyBuy Booking Data (BGAU & BGID & KE).xlsx'\n",
    "df_booking = pd.read_excel(path, dtype='string', sheet_name='BOOKING_BGAU_BGID_KE')\n",
    "\n",
    "path = r'G:\\.shortcut-targets-by-id\\0B_d3smBjzo04UUNBME5GOVhoMjA\\_ODYSSEY\\Phone Members.xlsx'\n",
    "df_phone = pd.read_excel(path, dtype='string', sheet_name='Sheet1')\n",
    "\n",
    "path = r'G:\\.shortcut-targets-by-id\\0B_d3smBjzo04UUNBME5GOVhoMjA\\_ODYSSEY\\Email Members.xlsx'\n",
    "df_email = pd.read_excel(path, dtype='string', sheet_name='Sheet1')\n"
   ]
  },
  {
   "cell_type": "code",
   "execution_count": 20,
   "metadata": {},
   "outputs": [],
   "source": [
    "path = r'C:\\Users\\fajar\\Documents\\Python\\Data\\Data TM for India Team - Qualified, No Members No Booking - 15 Sep 2022.xlsx'\n",
    "df_indonesia = pd.read_excel(path, dtype='string', sheet_name='Q-Indonesia')\n",
    "df_western = pd.read_excel(path, dtype='string', sheet_name='Q-Western')\n",
    "\n",
    "df_indonesia.fillna('empty', inplace=True)\n",
    "df_western.fillna('empty', inplace=True)"
   ]
  },
  {
   "cell_type": "code",
   "execution_count": 21,
   "metadata": {},
   "outputs": [],
   "source": [
    "count_q_indonesia = df_indonesia.shape[0]\n",
    "count_q_western = df_western.shape[0]"
   ]
  },
  {
   "cell_type": "code",
   "execution_count": 22,
   "metadata": {},
   "outputs": [
    {
     "data": {
      "text/plain": [
       "0                harvey@liblink.co.za\n",
       "1                 _benezi@hotmail.com\n",
       "2                     0000987@mail.ru\n",
       "3                   0007psc@gmail.com\n",
       "4                  001paras@gmail.com\n",
       "                     ...             \n",
       "287601        nibhibansal22@gmail.com\n",
       "287602         tanyafmbreen@gmail.com\n",
       "287603       sutharkartik21@gmail.com\n",
       "287604            nandkbird@gmail.com\n",
       "287605    shreya2012acharya@gmail.com\n",
       "Name: Email, Length: 287606, dtype: string"
      ]
     },
     "execution_count": 22,
     "metadata": {},
     "output_type": "execute_result"
    }
   ],
   "source": [
    "# data phone, mobile dam email member yang ada di master data (wash member)\n",
    "\n",
    "m.clean_number(df_indonesia, 'Phone')\n",
    "\n",
    "df_indonesia['Email'] = m.lowercase(df_indonesia, 'Email')\n",
    "m.clean_space(df_indonesia, 'Email')\n",
    "\n",
    "m.clean_number(df_western, 'Phone')\n",
    "\n",
    "df_western['Email'] = m.lowercase(df_western, 'Email')\n",
    "m.clean_space(df_western, 'Email')\n",
    "\n",
    "m.clean_number(df_booking, 'Phone1')\n",
    "m.clean_number(df_booking, 'Mobile')\n",
    "df_booking['Email'] = m.lowercase(df_booking, 'Email')\n",
    "m.clean_space(df_booking, 'Email')\n",
    "\n",
    "m.clean_number(df_phone, 'Mobile')\n",
    "\n",
    "df_email['Email'] = m.lowercase(df_email, 'Email')\n",
    "m.clean_space(df_email, 'Email')"
   ]
  },
  {
   "cell_type": "code",
   "execution_count": 23,
   "metadata": {},
   "outputs": [],
   "source": [
    "# find_member_booking = df_indonesia.copy()\n",
    "\n",
    "# find_member_booking.loc[find_member_booking['Phone'].isin(df_booking['Phone1']), 'Same Value Find'] = 'Booking-Phone1'\n",
    "# find_member_booking.loc[find_member_booking['Phone'].isin(df_booking['Mobile']), 'Same Value Find'] = 'Booking-Mobile'\n",
    "# find_member_booking.loc[find_member_booking['Email'].isin(df_booking['Email']), 'Same Value Find'] = 'Booking-Email'\n",
    "\n",
    "# find_member_booking.loc[find_member_booking['Phone'].isin(df_phone['Mobile']), 'Same Value Find'] = 'Member-Mobile' \n",
    "\n",
    "# find_member_booking.loc[find_member_booking['Email'].isin(df_email['Email']), 'Same Value Find'] = 'Member-Email'\n",
    "\n",
    "# find_member_booking.drop(find_member_booking.loc[find_member_booking['Same Value Find'].isna()].index, inplace=True)\n",
    "\n",
    "# count_booking_dedup = find_member_booking.loc[find_member_booking['Same Value Find'].str.contains('Booking', flags=re.I, regex=True)].shape[0]\n",
    "# count_member_dedup = find_member_booking.loc[find_member_booking['Same Value Find'].str.contains('Member', flags=re.I, regex=True)].shape[0]\n",
    "\n",
    "# find_member_booking.to_csv(r'C:\\Users\\fajar\\Documents\\Python\\Data\\q_indonesia_Member_Booking.csv', index=False)\n",
    "\n",
    "# #find_member_booking.loc[find_member_booking['Same Value Find'] == 'Booking-Phone1'] "
   ]
  },
  {
   "cell_type": "code",
   "execution_count": 24,
   "metadata": {},
   "outputs": [
    {
     "data": {
      "text/plain": [
       "40"
      ]
     },
     "execution_count": 24,
     "metadata": {},
     "output_type": "execute_result"
    }
   ],
   "source": [
    "# data phone, mobile dam email member yang ada di master data \n",
    "count_wash_member_indonesia = df_indonesia.loc[\n",
    "    df_indonesia['Phone'].isin(df_booking['Phone1']) | \n",
    "    df_indonesia['Phone'].isin(df_booking['Mobile']) |\n",
    "    df_indonesia['Email'].isin(df_booking['Email'])| \n",
    "\n",
    "    df_indonesia['Phone'].isin(df_phone['Mobile']) | \n",
    "\n",
    "    df_indonesia['Email'].isin(df_email['Email'])\n",
    "\n",
    "].shape[0]\n",
    "\n",
    "df_indonesia.drop(df_indonesia.loc[\n",
    "    df_indonesia['Phone'].isin(df_booking['Phone1']) | \n",
    "    df_indonesia['Phone'].isin(df_booking['Mobile']) |\n",
    "    df_indonesia['Email'].isin(df_booking['Email'])| \n",
    "\n",
    "    df_indonesia['Phone'].isin(df_phone['Mobile']) | \n",
    "\n",
    "    df_indonesia['Email'].isin(df_email['Email'])\n",
    "\n",
    "    ].index, inplace=True)\n",
    "\n",
    "count_after_wash_member_indonesia = df_indonesia.shape[0]\n",
    "\n",
    "count_wash_member_indonesia"
   ]
  },
  {
   "cell_type": "code",
   "execution_count": 25,
   "metadata": {},
   "outputs": [],
   "source": [
    "# find_member_booking = df_western.copy()\n",
    "\n",
    "# find_member_booking.loc[find_member_booking['Phone'].isin(df_booking['Phone1']), 'Same Value Find'] = 'Booking-Phone1'\n",
    "# find_member_booking.loc[find_member_booking['Phone'].isin(df_booking['Mobile']), 'Same Value Find'] = 'Booking-Mobile'\n",
    "# find_member_booking.loc[find_member_booking['Email'].isin(df_booking['Email']), 'Same Value Find'] = 'Booking-Email'\n",
    "\n",
    "# find_member_booking.loc[find_member_booking['Phone'].isin(df_phone['Mobile']), 'Same Value Find'] = 'Member-Mobile' \n",
    "\n",
    "# find_member_booking.loc[find_member_booking['Email'].isin(df_email['Email']), 'Same Value Find'] = 'Member-Email'\n",
    "\n",
    "# find_member_booking.drop(find_member_booking.loc[find_member_booking['Same Value Find'].isna()].index, inplace=True)\n",
    "\n",
    "# count_booking_dedup = find_member_booking.loc[find_member_booking['Same Value Find'].str.contains('Booking', flags=re.I, regex=True)].shape[0]\n",
    "# count_member_dedup = find_member_booking.loc[find_member_booking['Same Value Find'].str.contains('Member', flags=re.I, regex=True)].shape[0]\n",
    "\n",
    "# find_member_booking.to_csv(r'C:\\Users\\fajar\\Documents\\Python\\Data\\q_western_Member_Booking.csv', index=False)\n",
    "\n",
    "# #find_member_booking.loc[find_member_booking['Same Value Find'] == 'Booking-Phone1'] "
   ]
  },
  {
   "cell_type": "code",
   "execution_count": 26,
   "metadata": {},
   "outputs": [
    {
     "data": {
      "text/plain": [
       "26"
      ]
     },
     "execution_count": 26,
     "metadata": {},
     "output_type": "execute_result"
    }
   ],
   "source": [
    "# data phone, mobile dam email member yang ada di master data \n",
    "count_wash_member_western = df_western.loc[\n",
    "    df_western['Phone'].isin(df_booking['Phone1']) | \n",
    "    df_western['Phone'].isin(df_booking['Mobile']) |\n",
    "    df_western['Email'].isin(df_booking['Email'])| \n",
    "\n",
    "    df_western['Phone'].isin(df_phone['Mobile']) | \n",
    "\n",
    "    df_western['Email'].isin(df_email['Email'])\n",
    "\n",
    "].shape[0]\n",
    "\n",
    "df_western.drop(df_western.loc[\n",
    "    df_western['Phone'].isin(df_booking['Phone1']) | \n",
    "    df_western['Phone'].isin(df_booking['Mobile']) |\n",
    "    df_western['Email'].isin(df_booking['Email'])| \n",
    "\n",
    "    df_western['Phone'].isin(df_phone['Mobile']) | \n",
    "\n",
    "    df_western['Email'].isin(df_email['Email'])\n",
    "\n",
    "    ].index, inplace=True)\n",
    "\n",
    "count_after_wash_member_western = df_western.shape[0]\n",
    "\n",
    "count_wash_member_western"
   ]
  },
  {
   "cell_type": "code",
   "execution_count": 27,
   "metadata": {},
   "outputs": [
    {
     "name": "stdout",
     "output_type": "stream",
     "text": [
      "Jumlah Data Indonesia : 14240\n",
      "Jumlah Wash Booking dan Member Indonesia : 40\n",
      "Jumlah Setelah Wash Member Indonesia : 14200\n",
      "Jumlah Data Western : 21717\n",
      "Jumlah Wash Booking dan Member Western : 26\n",
      "Jumlah Setelah Wash Member Western : 21691\n"
     ]
    }
   ],
   "source": [
    "print(\"Jumlah Data Indonesia : \"+str(count_q_indonesia))\n",
    "print(\"Jumlah Wash Booking dan Member Indonesia : \"+str(count_wash_member_indonesia))\n",
    "print(\"Jumlah Setelah Wash Member Indonesia : \"+str(count_after_wash_member_indonesia))\n",
    "print(\"Jumlah Data Western : \"+str(count_q_western))\n",
    "print(\"Jumlah Wash Booking dan Member Western : \"+str(count_wash_member_western))\n",
    "print(\"Jumlah Setelah Wash Member Western : \"+str(count_after_wash_member_western))"
   ]
  },
  {
   "cell_type": "code",
   "execution_count": 29,
   "metadata": {},
   "outputs": [],
   "source": [
    "df_indonesia.replace('empty', '', inplace=True)\n",
    "df_western.replace('empty', '', inplace=True)\n",
    "\n",
    "df_indonesia.to_excel(r'C:\\Users\\fajar\\Documents\\Python\\Data\\tm_india_q_indonesia.xlsx', index=False)\n",
    "df_western.to_excel(r'C:\\Users\\fajar\\Documents\\Python\\Data\\tm_india_q_western.xlsx', index=False)"
   ]
  },
  {
   "cell_type": "markdown",
   "metadata": {},
   "source": [
    "# ====================== Awal Filter Umum ====================== "
   ]
  }
 ],
 "metadata": {
  "kernelspec": {
   "display_name": "Python 3.10.7 64-bit",
   "language": "python",
   "name": "python3"
  },
  "language_info": {
   "codemirror_mode": {
    "name": "ipython",
    "version": 3
   },
   "file_extension": ".py",
   "mimetype": "text/x-python",
   "name": "python",
   "nbconvert_exporter": "python",
   "pygments_lexer": "ipython3",
   "version": "3.10.7"
  },
  "orig_nbformat": 4,
  "vscode": {
   "interpreter": {
    "hash": "26de051ba29f2982a8de78e945f0abaf191376122a1563185a90213a26c5da77"
   }
  }
 },
 "nbformat": 4,
 "nbformat_minor": 2
}
