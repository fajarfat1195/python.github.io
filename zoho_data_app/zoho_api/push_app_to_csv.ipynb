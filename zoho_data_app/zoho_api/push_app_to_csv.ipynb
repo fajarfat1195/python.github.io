{
 "cells": [
  {
   "cell_type": "code",
   "execution_count": null,
   "metadata": {},
   "outputs": [],
   "source": [
    "import pandas as pd\n",
    "\n",
    "import numpy as np\n",
    "from datetime import datetime\n",
    "import openpyxl\n",
    "\n",
    "import re\n",
    "\n",
    "# import sys\n",
    "# sys.path.append('../../zoho_data_app/')\n",
    "\n",
    "# # importing\n",
    "# import main_module as m\n",
    "\n",
    "%load_ext autoreload\n",
    "%autoreload 2"
   ]
  },
  {
   "cell_type": "code",
   "execution_count": null,
   "metadata": {},
   "outputs": [],
   "source": [
    "path = r'C:\\Users\\fajar\\Documents\\Python\\Data\\Zoho_Campaign\\push data\\push-pastguest.xlsx'\n",
    "df = pd.read_excel(path, dtype='string', sheet_name='Sheet0')"
   ]
  },
  {
   "cell_type": "code",
   "execution_count": null,
   "metadata": {},
   "outputs": [],
   "source": [
    "df.dropna(how='all', axis=1, inplace=True)\n",
    "df.columns"
   ]
  },
  {
   "cell_type": "code",
   "execution_count": null,
   "metadata": {},
   "outputs": [],
   "source": [
    "df['First Name'] = df['First Name'].str.title()\n",
    "df['Last Name'] = df['Last Name'].str.title()\n",
    "\n",
    "# df['Phone'] = df.apply(\n",
    "# lambda x: m.con_fraction(x['Phone']),\n",
    "#     axis=1,\n",
    "# )\n",
    "\n",
    "# df['Mobile'] = df.apply(\n",
    "#     lambda x: m.con_fraction(x['Mobile']),\n",
    "#     axis=1,\n",
    "# )\n",
    "\n",
    "df"
   ]
  },
  {
   "cell_type": "code",
   "execution_count": null,
   "metadata": {},
   "outputs": [],
   "source": [
    "con_date_time = pd.to_datetime(df['Created Time'])\n",
    "date_time = con_date_time.dt.strftime('%d/%m/%Y %r')\n",
    "\n",
    "con_date = pd.to_datetime(df['Created Date'])\n",
    "date = con_date.dt.strftime('%d/%m/%Y')\n",
    "\n",
    "con_dep_date = pd.to_datetime(df['Departure Date'])\n",
    "dep_date = con_dep_date.dt.strftime('%d/%m/%Y')\n",
    "\n",
    "con_arr_date = pd.to_datetime(df['Arrival Date'])\n",
    "arr_date = con_arr_date.dt.strftime('%d/%m/%Y')\n",
    "\n",
    "df['Created Time'] = date_time\n",
    "df['Created Date'] = date\n",
    "df['Departure Date'] = dep_date\n",
    "df['Arrival Date'] = arr_date\n",
    "\n",
    "df"
   ]
  },
  {
   "cell_type": "code",
   "execution_count": null,
   "metadata": {},
   "outputs": [],
   "source": [
    "df.to_csv(r'C:\\Users\\fajar\\Documents\\Python\\Data\\Zoho_Campaign\\push data\\push-past-guest.csv', index=False)"
   ]
  }
 ],
 "metadata": {
  "kernelspec": {
   "display_name": "Python 3.10.7 64-bit",
   "language": "python",
   "name": "python3"
  },
  "language_info": {
   "codemirror_mode": {
    "name": "ipython",
    "version": 3
   },
   "file_extension": ".py",
   "mimetype": "text/x-python",
   "name": "python",
   "nbconvert_exporter": "python",
   "pygments_lexer": "ipython3",
   "version": "3.10.7 (tags/v3.10.7:6cc6b13, Sep  5 2022, 14:08:36) [MSC v.1933 64 bit (AMD64)]"
  },
  "orig_nbformat": 4,
  "vscode": {
   "interpreter": {
    "hash": "26de051ba29f2982a8de78e945f0abaf191376122a1563185a90213a26c5da77"
   }
  }
 },
 "nbformat": 4,
 "nbformat_minor": 2
}
