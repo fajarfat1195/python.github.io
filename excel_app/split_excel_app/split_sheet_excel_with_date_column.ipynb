{
 "cells": [
  {
   "cell_type": "code",
   "execution_count": 11,
   "metadata": {},
   "outputs": [
    {
     "name": "stdout",
     "output_type": "stream",
     "text": [
      "The autoreload extension is already loaded. To reload it, use:\n",
      "  %reload_ext autoreload\n"
     ]
    }
   ],
   "source": [
    "import sys\n",
    "sys.path.append('../../zoho_data_app/')\n",
    "\n",
    "import main_module as m\n",
    "import zoho_filter_module as fil\n",
    "import pandas as pd\n",
    "import re\n",
    "import numpy as np\n",
    "import dateutil\n",
    "\n",
    "import random\n",
    "\n",
    "\n",
    "%load_ext autoreload\n",
    "%autoreload 2"
   ]
  },
  {
   "cell_type": "code",
   "execution_count": 12,
   "metadata": {},
   "outputs": [],
   "source": [
    "# location = r'C:\\Users\\fajar\\Documents\\Python\\Data\\\\'\n",
    "location = r'C:\\Users\\fajar\\Documents\\Python\\Data\\New folder\\\\'\n",
    "filename = 'KCB ID.xlsx'"
   ]
  },
  {
   "cell_type": "code",
   "execution_count": 13,
   "metadata": {},
   "outputs": [],
   "source": [
    "file_path = location+filename"
   ]
  },
  {
   "cell_type": "code",
   "execution_count": 14,
   "metadata": {},
   "outputs": [
    {
     "data": {
      "text/plain": [
       "['1', '2', 'Bali 1', 'Bali 2', 'Bali 3', 'Karnak 1']"
      ]
     },
     "execution_count": 14,
     "metadata": {},
     "output_type": "execute_result"
    }
   ],
   "source": [
    "# Load the Excel file\n",
    "xl = pd.ExcelFile(file_path)\n",
    "\n",
    "# Get the sheet names\n",
    "sheet_names = xl.sheet_names\n",
    "sheet_names"
   ]
  },
  {
   "cell_type": "code",
   "execution_count": 19,
   "metadata": {},
   "outputs": [],
   "source": [
    "for sheet in sheet_names:\n",
    "    # Load the Excel file\n",
    "    df = pd.read_excel(file_path, dtype='string', sheet_name=sheet)\n",
    "    df['check_in'] = df['check_in'].apply(dateutil.parser.parse)\n",
    "    df['check_in'] = df['check_in'].dt.strftime(\"%d/%m/%Y\")\n",
    "\n",
    "    df['check_out'] = df['check_out'].apply(dateutil.parser.parse)\n",
    "    df['check_out'] = df['check_out'].dt.strftime(\"%d/%m/%Y\")\n",
    "    # Add the sheet names to the list\n",
    "    # df.to_excel(location+sheet+'.excel', index=False)\n",
    "    df.to_csv(location+sheet+'.csv', index=False)"
   ]
  }
 ],
 "metadata": {
  "kernelspec": {
   "display_name": "Python 3.10.7 64-bit",
   "language": "python",
   "name": "python3"
  },
  "language_info": {
   "codemirror_mode": {
    "name": "ipython",
    "version": 3
   },
   "file_extension": ".py",
   "mimetype": "text/x-python",
   "name": "python",
   "nbconvert_exporter": "python",
   "pygments_lexer": "ipython3",
   "version": "3.10.7"
  },
  "orig_nbformat": 4,
  "vscode": {
   "interpreter": {
    "hash": "26de051ba29f2982a8de78e945f0abaf191376122a1563185a90213a26c5da77"
   }
  }
 },
 "nbformat": 4,
 "nbformat_minor": 2
}
