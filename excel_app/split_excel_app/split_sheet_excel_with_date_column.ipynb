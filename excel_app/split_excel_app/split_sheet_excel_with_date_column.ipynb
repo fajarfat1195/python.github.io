{
 "cells": [
  {
   "cell_type": "code",
   "execution_count": 2,
   "metadata": {},
   "outputs": [],
   "source": [
    "import sys\n",
    "sys.path.append('../../zoho_data_app/')\n",
    "\n",
    "import main_module as m\n",
    "import zoho_filter_module as fil\n",
    "import pandas as pd\n",
    "import re\n",
    "import numpy as np\n",
    "import dateutil\n",
    "\n",
    "import random\n",
    "\n",
    "\n",
    "%load_ext autoreload\n",
    "%autoreload 2"
   ]
  },
  {
   "cell_type": "code",
   "execution_count": 13,
   "metadata": {},
   "outputs": [],
   "source": [
    "# location = r'C:\\Users\\fajar\\Documents\\Python\\Data\\\\'\n",
    "location = r'C:\\Users\\fajar\\Documents\\Python\\Data\\New folder\\\\'\n",
    "filename = 'KCI.xlsx'"
   ]
  },
  {
   "cell_type": "code",
   "execution_count": 14,
   "metadata": {},
   "outputs": [],
   "source": [
    "file_path = location+filename"
   ]
  },
  {
   "cell_type": "code",
   "execution_count": 15,
   "metadata": {},
   "outputs": [
    {
     "data": {
      "text/plain": [
       "['1',\n",
       " '2',\n",
       " '3',\n",
       " '4',\n",
       " '5',\n",
       " '6',\n",
       " 'Bali 1',\n",
       " 'Bali 2',\n",
       " 'Bali 3',\n",
       " 'Bali 4',\n",
       " 'Fushi 1',\n",
       " 'Karnak 1']"
      ]
     },
     "execution_count": 15,
     "metadata": {},
     "output_type": "execute_result"
    }
   ],
   "source": [
    "# Load the Excel file\n",
    "xl = pd.ExcelFile(file_path)\n",
    "\n",
    "# Get the sheet names\n",
    "sheet_names = xl.sheet_names\n",
    "sheet_names"
   ]
  },
  {
   "cell_type": "code",
   "execution_count": 16,
   "metadata": {},
   "outputs": [],
   "source": [
    "for sheet in sheet_names:\n",
    "    # Load the Excel file\n",
    "    df = pd.read_excel(file_path, dtype='string', sheet_name=sheet)\n",
    "    df['check_in'] = df['check_in'].apply(dateutil.parser.parse)\n",
    "    df['check_in'] = df['check_in'].dt.strftime('%d %b %Y')\n",
    "\n",
    "    df['check_out'] = df['check_out'].apply(dateutil.parser.parse)\n",
    "    df['check_out'] = df['check_out'].dt.strftime('%d %b %Y')\n",
    "    # Add the sheet names to the list\n",
    "    # df.to_excel(location+sheet+'.excel', index=False)\n",
    "    df.to_csv(location+sheet+'.csv', index=False)"
   ]
  }
 ],
 "metadata": {
  "kernelspec": {
   "display_name": "Python 3.10.7 64-bit",
   "language": "python",
   "name": "python3"
  },
  "language_info": {
   "codemirror_mode": {
    "name": "ipython",
    "version": 3
   },
   "file_extension": ".py",
   "mimetype": "text/x-python",
   "name": "python",
   "nbconvert_exporter": "python",
   "pygments_lexer": "ipython3",
   "version": "3.10.7"
  },
  "orig_nbformat": 4,
  "vscode": {
   "interpreter": {
    "hash": "26de051ba29f2982a8de78e945f0abaf191376122a1563185a90213a26c5da77"
   }
  }
 },
 "nbformat": 4,
 "nbformat_minor": 2
}
