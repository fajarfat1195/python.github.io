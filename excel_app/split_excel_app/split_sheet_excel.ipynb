{
 "cells": [
  {
   "cell_type": "code",
   "execution_count": 1,
   "metadata": {},
   "outputs": [],
   "source": [
    "import sys\n",
    "sys.path.append('../../zoho_data_app/')\n",
    "\n",
    "import main_module as m\n",
    "import zoho_filter_module as fil\n",
    "import pandas as pd\n",
    "import re\n",
    "import numpy as np\n",
    "\n",
    "%load_ext autoreload\n",
    "%autoreload 2"
   ]
  },
  {
   "cell_type": "code",
   "execution_count": 2,
   "metadata": {},
   "outputs": [],
   "source": [
    "# location = r'C:\\Users\\fajar\\Documents\\Python\\Data\\\\'\n",
    "location = r'C:\\Users\\fajar\\Documents\\Python\\Data\\Split Mamak\\\\'\n",
    "filename = 'KCI KRR - W3Jul24 - Post Survey.xlsx'"
   ]
  },
  {
   "cell_type": "code",
   "execution_count": 3,
   "metadata": {},
   "outputs": [],
   "source": [
    "file_path = location+filename"
   ]
  },
  {
   "cell_type": "code",
   "execution_count": 4,
   "metadata": {},
   "outputs": [
    {
     "data": {
      "text/plain": [
       "['Sheet1',\n",
       " 'TS Only',\n",
       " 'TS Only 2',\n",
       " 'TS Only 3',\n",
       " 'TS - TA - GMB',\n",
       " 'TS - TA - GMB 2',\n",
       " 'TS - TA - GMB 3',\n",
       " 'TS - TA - GMB 4',\n",
       " 'TS - TA - GMB 5',\n",
       " 'TS - GMB']"
      ]
     },
     "execution_count": 4,
     "metadata": {},
     "output_type": "execute_result"
    }
   ],
   "source": [
    "# Load the Excel file\n",
    "xl = pd.ExcelFile(file_path)\n",
    "\n",
    "# Get the sheet names\n",
    "sheet_names = xl.sheet_names\n",
    "sheet_names"
   ]
  },
  {
   "cell_type": "code",
   "execution_count": 5,
   "metadata": {},
   "outputs": [],
   "source": [
    "for sheet in sheet_names:\n",
    "    # Load the Excel file\n",
    "    df = pd.read_excel(file_path, dtype='string', sheet_name=sheet)\n",
    "    \n",
    "    # Add the sheet names to the list\n",
    "    # df.to_excel(location+sheet+'.excel', index=False)\n",
    "    df.to_csv(location+sheet+'.csv', index=False)"
   ]
  }
 ],
 "metadata": {
  "kernelspec": {
   "display_name": "Python 3.10.7 64-bit",
   "language": "python",
   "name": "python3"
  },
  "language_info": {
   "codemirror_mode": {
    "name": "ipython",
    "version": 3
   },
   "file_extension": ".py",
   "mimetype": "text/x-python",
   "name": "python",
   "nbconvert_exporter": "python",
   "pygments_lexer": "ipython3",
   "version": "3.10.7"
  },
  "orig_nbformat": 4,
  "vscode": {
   "interpreter": {
    "hash": "26de051ba29f2982a8de78e945f0abaf191376122a1563185a90213a26c5da77"
   }
  }
 },
 "nbformat": 4,
 "nbformat_minor": 2
}
