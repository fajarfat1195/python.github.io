{
 "cells": [
  {
   "cell_type": "code",
   "execution_count": 17,
   "metadata": {},
   "outputs": [
    {
     "name": "stdout",
     "output_type": "stream",
     "text": [
      "The autoreload extension is already loaded. To reload it, use:\n",
      "  %reload_ext autoreload\n"
     ]
    }
   ],
   "source": [
    "import sys\n",
    "sys.path.append('../../zoho_data_app/')\n",
    "\n",
    "import main_module as m\n",
    "import zoho_filter_module as fil\n",
    "import pandas as pd\n",
    "import re\n",
    "import numpy as np\n",
    "\n",
    "%load_ext autoreload\n",
    "%autoreload 2"
   ]
  },
  {
   "cell_type": "code",
   "execution_count": 18,
   "metadata": {},
   "outputs": [],
   "source": [
    "# cols = ['Record Id',\n",
    "#         'Phone',\n",
    "#         'Mobile'\n",
    "#         ]\n",
    "\n",
    "path = r'C:\\Users\\fajar\\Documents\\Python\\Data\\pgleads.csv'\n",
    "df = pd.read_csv(path, dtype='string')\n"
   ]
  },
  {
   "cell_type": "code",
   "execution_count": 19,
   "metadata": {},
   "outputs": [
    {
     "data": {
      "text/plain": [
       "Contact Email     string\n",
       "First Name        string\n",
       "Last Name         string\n",
       "Phone             string\n",
       "City              string\n",
       "State             string\n",
       "Country           string\n",
       "Lead Locations    string\n",
       "Lead Brand        string\n",
       "Lead Sub-Brand    string\n",
       "Lead Sources      string\n",
       "Lead Regions      string\n",
       "Street            string\n",
       "dtype: object"
      ]
     },
     "execution_count": 19,
     "metadata": {},
     "output_type": "execute_result"
    }
   ],
   "source": [
    "df.dtypes"
   ]
  },
  {
   "cell_type": "code",
   "execution_count": 20,
   "metadata": {},
   "outputs": [],
   "source": [
    "location = r'C:\\Users\\fajar\\Documents\\Python\\Data'\n",
    "\n",
    "row_split = 5000\n",
    "file_name = 'pastguest'\n",
    "file_type = 'csv'\n",
    "\n",
    "m.split_file(df, row_split, file_name, file_type, location)"
   ]
  }
 ],
 "metadata": {
  "kernelspec": {
   "display_name": "Python 3.10.7 64-bit",
   "language": "python",
   "name": "python3"
  },
  "language_info": {
   "codemirror_mode": {
    "name": "ipython",
    "version": 3
   },
   "file_extension": ".py",
   "mimetype": "text/x-python",
   "name": "python",
   "nbconvert_exporter": "python",
   "pygments_lexer": "ipython3",
   "version": "3.10.7"
  },
  "orig_nbformat": 4,
  "vscode": {
   "interpreter": {
    "hash": "26de051ba29f2982a8de78e945f0abaf191376122a1563185a90213a26c5da77"
   }
  }
 },
 "nbformat": 4,
 "nbformat_minor": 2
}
