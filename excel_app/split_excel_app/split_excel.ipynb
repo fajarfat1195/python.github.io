{
 "cells": [
  {
   "cell_type": "code",
   "execution_count": 25,
   "metadata": {},
   "outputs": [
    {
     "name": "stdout",
     "output_type": "stream",
     "text": [
      "The autoreload extension is already loaded. To reload it, use:\n",
      "  %reload_ext autoreload\n"
     ]
    }
   ],
   "source": [
    "import sys\n",
    "sys.path.append('../../zoho_data_app/')\n",
    "\n",
    "import main_module as m\n",
    "import pandas as pd\n",
    "import re\n",
    "import numpy as np\n",
    "\n",
    "%load_ext autoreload\n",
    "%autoreload 2"
   ]
  },
  {
   "cell_type": "code",
   "execution_count": 26,
   "metadata": {},
   "outputs": [],
   "source": [
    "# cols = ['Record Id',\n",
    "#         'Phone',\n",
    "#         'Mobile'\n",
    "#         ]\n",
    "\n",
    "path = r'C:\\Users\\fajar.fatoni\\Documents\\Python\\Data\\Non-Primary India.csv'\n",
    "df = pd.read_csv(path, dtype='string')\n"
   ]
  },
  {
   "cell_type": "code",
   "execution_count": 27,
   "metadata": {},
   "outputs": [
    {
     "data": {
      "application/vnd.microsoft.datawrangler.viewer.v0+json": {
       "columns": [
        {
         "name": "index",
         "rawType": "object",
         "type": "string"
        },
        {
         "name": "0",
         "rawType": "object",
         "type": "unknown"
        }
       ],
       "ref": "fc1cbe6c-ae5f-40ee-b977-e364e9f1170e",
       "rows": [
        [
         "Account ID",
         "string"
        ],
        [
         "ContactID",
         "string"
        ],
        [
         "FirstName",
         "string"
        ],
        [
         "LastName",
         "string"
        ],
        [
         "AddressLine1",
         "string"
        ],
        [
         "AddressLine1 - NEW",
         "string"
        ],
        [
         "AddressLine2",
         "string"
        ],
        [
         "AddressLine2 - NEW",
         "string"
        ],
        [
         "Town/City",
         "string"
        ],
        [
         "Town/City - NEW",
         "string"
        ],
        [
         "State",
         "string"
        ],
        [
         "State - NEW",
         "string"
        ],
        [
         "Post Code",
         "string"
        ],
        [
         "Country",
         "string"
        ],
        [
         "Country - NEW",
         "string"
        ],
        [
         "Account Status",
         "string"
        ],
        [
         "PUSH",
         "string"
        ],
        [
         "PUSH STATUS",
         "string"
        ],
        [
         "PUSH DATE",
         "string"
        ],
        [
         "PUSH ERROR",
         "string"
        ]
       ],
       "shape": {
        "columns": 1,
        "rows": 20
       }
      },
      "text/plain": [
       "Account ID            string[python]\n",
       "ContactID             string[python]\n",
       "FirstName             string[python]\n",
       "LastName              string[python]\n",
       "AddressLine1          string[python]\n",
       "AddressLine1 - NEW    string[python]\n",
       "AddressLine2          string[python]\n",
       "AddressLine2 - NEW    string[python]\n",
       "Town/City             string[python]\n",
       "Town/City - NEW       string[python]\n",
       "State                 string[python]\n",
       "State - NEW           string[python]\n",
       "Post Code             string[python]\n",
       "Country               string[python]\n",
       "Country - NEW         string[python]\n",
       "Account Status        string[python]\n",
       "PUSH                  string[python]\n",
       "PUSH STATUS           string[python]\n",
       "PUSH DATE             string[python]\n",
       "PUSH ERROR            string[python]\n",
       "dtype: object"
      ]
     },
     "execution_count": 27,
     "metadata": {},
     "output_type": "execute_result"
    }
   ],
   "source": [
    "df.dtypes"
   ]
  },
  {
   "cell_type": "code",
   "execution_count": 28,
   "metadata": {},
   "outputs": [],
   "source": [
    "location = r'C:\\Users\\fajar.fatoni\\Documents\\Python\\Data'\n",
    "\n",
    "row_split = 80000\n",
    "file_name = 'non-primary-india'\n",
    "file_type = 'csv'\n",
    "\n",
    "m.split_file(df, row_split, file_name, file_type, location)"
   ]
  }
 ],
 "metadata": {
  "kernelspec": {
   "display_name": "Python 3",
   "language": "python",
   "name": "python3"
  },
  "language_info": {
   "codemirror_mode": {
    "name": "ipython",
    "version": 3
   },
   "file_extension": ".py",
   "mimetype": "text/x-python",
   "name": "python",
   "nbconvert_exporter": "python",
   "pygments_lexer": "ipython3",
   "version": "3.10.0"
  },
  "orig_nbformat": 4
 },
 "nbformat": 4,
 "nbformat_minor": 2
}
