{
 "cells": [
  {
   "cell_type": "code",
   "execution_count": 25,
   "metadata": {},
   "outputs": [
    {
     "name": "stdout",
     "output_type": "stream",
     "text": [
      "The autoreload extension is already loaded. To reload it, use:\n",
      "  %reload_ext autoreload\n"
     ]
    }
   ],
   "source": [
    "import pandas as pd\n",
    "\n",
    "# create dataframe\n",
    "df_marks = pd.DataFrame({'name': ['Somu', 'Kiku', 'Amol', 'Lini'],\n",
    "     'physics': [68, 74, 77, 78],\n",
    "     'chemistry': [84, 56, 73, 69],\n",
    "     'algebra': [78, 88, 82, 87]})\n",
    "\n",
    "df_marks_2 = pd.DataFrame({'name': ['Somu', 'Kiku', 'Amol', 'Lini', 'aa'],\n",
    "     'physics': [68, 74, 77, 78, 'aa'],\n",
    "     'chemistry': [84, 56, 73, 69, 'aa'],\n",
    "     'algebra': [78, 88, 82, 87, 'aa']})\n",
    "\n",
    "# create excel writer\n",
    "\n",
    "# path menyesuiakan, sesuiakan saja target folder atau target google drivenya\n",
    "path = r'C:\\Users\\fajar\\Documents\\Python\\Data\\test_excel_writer.xlsx'\n",
    "\n",
    "# jika file belum pernah ada\n",
    "with pd.ExcelWriter(path) as writer:\n",
    "    df_marks.to_excel(writer, sheet_name=\"Sheet1\", index=False)  \n",
    "\n",
    "# # jika ingin menambahkan sheets baru\n",
    "# with pd.ExcelWriter(path, mode=\"a\", engine=\"openpyxl\") as writer:\n",
    "#     df_marks_2.to_excel(writer, sheet_name=\"Sheet2\", index=False)  \n",
    "\n",
    "# # jika ingin replace sheet berdasarkan file yang sudah ada\n",
    "# with pd.ExcelWriter(path,\n",
    "#     mode=\"a\",\n",
    "#     engine=\"openpyxl\",\n",
    "#     if_sheet_exists=\"replace\") as writer:\n",
    "#     df_marks_2.to_excel(writer, sheet_name=\"Sheet1\", index=False)  "
   ]
  }
 ],
 "metadata": {
  "kernelspec": {
   "display_name": "Python 3.10.7 64-bit",
   "language": "python",
   "name": "python3"
  },
  "language_info": {
   "codemirror_mode": {
    "name": "ipython",
    "version": 3
   },
   "file_extension": ".py",
   "mimetype": "text/x-python",
   "name": "python",
   "nbconvert_exporter": "python",
   "pygments_lexer": "ipython3",
   "version": "3.10.7"
  },
  "orig_nbformat": 4,
  "vscode": {
   "interpreter": {
    "hash": "26de051ba29f2982a8de78e945f0abaf191376122a1563185a90213a26c5da77"
   }
  }
 },
 "nbformat": 4,
 "nbformat_minor": 2
}
