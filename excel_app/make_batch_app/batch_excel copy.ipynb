{
 "cells": [
  {
   "cell_type": "code",
   "execution_count": 27,
   "metadata": {},
   "outputs": [],
   "source": [
    "import sys\n",
    "sys.path.append('../../zoho_data_app/')\n",
    "\n",
    "import main_module as m\n",
    "import zoho_filter_module as fil\n",
    "import pandas as pd\n",
    "import re\n",
    "import numpy as np"
   ]
  },
  {
   "cell_type": "code",
   "execution_count": 28,
   "metadata": {},
   "outputs": [
    {
     "data": {
      "application/vnd.microsoft.datawrangler.viewer.v0+json": {
       "columns": [
        {
         "name": "index",
         "rawType": "int64",
         "type": "integer"
        },
        {
         "name": "Email",
         "rawType": "string",
         "type": "string"
        }
       ],
       "ref": "3190d83b-2a84-4d5a-ad07-1bd4bd6124fb",
       "rows": [
        [
         "0",
         "er.surajkumar@yahoo.com"
        ],
        [
         "1",
         "asdksy2000@gmail.com"
        ],
        [
         "2",
         "vishalau1988@gmail.com"
        ],
        [
         "3",
         "zink@bay-fh.de"
        ],
        [
         "4",
         "guys@e-mon.eu"
        ],
        [
         "5",
         "jeanie.gother@btinternet.com"
        ],
        [
         "6",
         "paulwinch101@gmail.com"
        ],
        [
         "7",
         "craig.whittet@googlemail.com"
        ],
        [
         "8",
         "rathore.nilesh1489@gmail.com"
        ],
        [
         "9",
         "dalip.kumar786@yahoo.com"
        ],
        [
         "10",
         "nilesh.sawane@yahoo.in"
        ],
        [
         "11",
         "chelsea.w@live.com.au"
        ],
        [
         "12",
         "christine.maier@gmx.de"
        ],
        [
         "13",
         "Melisusiyanti@gmail.com"
        ],
        [
         "14",
         "lauraburger612@web.de"
        ],
        [
         "15",
         "rmb2805@gmail.com"
        ],
        [
         "16",
         "timbull97@gmail.com"
        ],
        [
         "17",
         "ranjanndls@gmail.com"
        ],
        [
         "18",
         "kpachick@gmail.com"
        ],
        [
         "19",
         "deepaksahu.softer@gmail.com"
        ],
        [
         "20",
         "gregoire.lucie@hotmail.com"
        ],
        [
         "21",
         "john.wardle28@gmail.com"
        ],
        [
         "22",
         "fra.bayer@sap.com"
        ],
        [
         "23",
         "cashby1@bigpond.com"
        ],
        [
         "24",
         "pruthvi.patilp32@gmail.com"
        ],
        [
         "25",
         "rivathasyaa@gmail.com"
        ],
        [
         "26",
         "tinaq30@gmail.com"
        ],
        [
         "27",
         "kiranswwamy@gmail.com"
        ],
        [
         "28",
         "viviennemurdoch@hotmail.com"
        ],
        [
         "29",
         "396225252@qq.com"
        ],
        [
         "30",
         "smargel@yahoo.com"
        ],
        [
         "31",
         "carolineds@aol.com"
        ],
        [
         "32",
         "trevorward@gmail.com"
        ],
        [
         "33",
         "caithlin1944@gmail.com"
        ],
        [
         "34",
         "dixhyatt@gmail.com"
        ],
        [
         "35",
         "pbutzerin@yahoo.com"
        ],
        [
         "36",
         "sjaiswal61@gmail.com"
        ],
        [
         "37",
         "mthorat7171@rediffmail.com"
        ],
        [
         "38",
         "danielmalan@gmail.com"
        ],
        [
         "39",
         "tina.schiessl@web.de"
        ],
        [
         "40",
         "minesh89@gmail.com"
        ],
        [
         "41",
         "kirchgaessnerkatrin@gmx.de"
        ],
        [
         "42",
         "happy070397@yahoo.de"
        ],
        [
         "43",
         "bobby.dhaliwal@talk21.com"
        ],
        [
         "44",
         "casunilgarg1188@gmail.com"
        ],
        [
         "45",
         "rolandwendekamm@gmail.com"
        ],
        [
         "46",
         "bradders3@gmail.com"
        ],
        [
         "47",
         "sashi85@gmail.com"
        ],
        [
         "48",
         "mp30673@gmail.com"
        ],
        [
         "49",
         "aksinha14@gmail.com"
        ]
       ],
       "shape": {
        "columns": 1,
        "rows": 75574
       }
      },
      "text/html": [
       "<div>\n",
       "<style scoped>\n",
       "    .dataframe tbody tr th:only-of-type {\n",
       "        vertical-align: middle;\n",
       "    }\n",
       "\n",
       "    .dataframe tbody tr th {\n",
       "        vertical-align: top;\n",
       "    }\n",
       "\n",
       "    .dataframe thead th {\n",
       "        text-align: right;\n",
       "    }\n",
       "</style>\n",
       "<table border=\"1\" class=\"dataframe\">\n",
       "  <thead>\n",
       "    <tr style=\"text-align: right;\">\n",
       "      <th></th>\n",
       "      <th>Email</th>\n",
       "    </tr>\n",
       "  </thead>\n",
       "  <tbody>\n",
       "    <tr>\n",
       "      <th>0</th>\n",
       "      <td>er.surajkumar@yahoo.com</td>\n",
       "    </tr>\n",
       "    <tr>\n",
       "      <th>1</th>\n",
       "      <td>asdksy2000@gmail.com</td>\n",
       "    </tr>\n",
       "    <tr>\n",
       "      <th>2</th>\n",
       "      <td>vishalau1988@gmail.com</td>\n",
       "    </tr>\n",
       "    <tr>\n",
       "      <th>3</th>\n",
       "      <td>zink@bay-fh.de</td>\n",
       "    </tr>\n",
       "    <tr>\n",
       "      <th>4</th>\n",
       "      <td>guys@e-mon.eu</td>\n",
       "    </tr>\n",
       "    <tr>\n",
       "      <th>...</th>\n",
       "      <td>...</td>\n",
       "    </tr>\n",
       "    <tr>\n",
       "      <th>75569</th>\n",
       "      <td>jayashrigondik0123@gmail.com</td>\n",
       "    </tr>\n",
       "    <tr>\n",
       "      <th>75570</th>\n",
       "      <td>srinivaspusapati@gmail.com</td>\n",
       "    </tr>\n",
       "    <tr>\n",
       "      <th>75571</th>\n",
       "      <td>shekhsaara@yahoo.com</td>\n",
       "    </tr>\n",
       "    <tr>\n",
       "      <th>75572</th>\n",
       "      <td>rezapl01@gmail.com</td>\n",
       "    </tr>\n",
       "    <tr>\n",
       "      <th>75573</th>\n",
       "      <td>stsandor@gmail.com</td>\n",
       "    </tr>\n",
       "  </tbody>\n",
       "</table>\n",
       "<p>75574 rows × 1 columns</p>\n",
       "</div>"
      ],
      "text/plain": [
       "                              Email\n",
       "0           er.surajkumar@yahoo.com\n",
       "1              asdksy2000@gmail.com\n",
       "2            vishalau1988@gmail.com\n",
       "3                    zink@bay-fh.de\n",
       "4                     guys@e-mon.eu\n",
       "...                             ...\n",
       "75569  jayashrigondik0123@gmail.com\n",
       "75570    srinivaspusapati@gmail.com\n",
       "75571          shekhsaara@yahoo.com\n",
       "75572            rezapl01@gmail.com\n",
       "75573            stsandor@gmail.com\n",
       "\n",
       "[75574 rows x 1 columns]"
      ]
     },
     "execution_count": 28,
     "metadata": {},
     "output_type": "execute_result"
    }
   ],
   "source": [
    "filename = 'pg_split'\n",
    "filetype = '.csv'\n",
    "path = r'C:\\Users\\fajar.fatoni\\Documents\\Python\\Data\\\\'\n",
    "fileloc = path+filename+filetype\n",
    "df = pd.read_csv(fileloc, dtype='string')\n",
    "df\n"
   ]
  },
  {
   "cell_type": "code",
   "execution_count": 29,
   "metadata": {},
   "outputs": [
    {
     "data": {
      "application/vnd.microsoft.datawrangler.viewer.v0+json": {
       "columns": [
        {
         "name": "index",
         "rawType": "int64",
         "type": "integer"
        },
        {
         "name": "Email",
         "rawType": "string",
         "type": "string"
        },
        {
         "name": "Tag",
         "rawType": "object",
         "type": "string"
        }
       ],
       "ref": "7f547de6-8286-4674-a588-06a51e5c0bc3",
       "rows": [
        [
         "0",
         "er.surajkumar@yahoo.com",
         "Past Guest Tmp 1"
        ],
        [
         "1",
         "asdksy2000@gmail.com",
         "Past Guest Tmp 1"
        ],
        [
         "2",
         "vishalau1988@gmail.com",
         "Past Guest Tmp 1"
        ],
        [
         "3",
         "zink@bay-fh.de",
         "Past Guest Tmp 1"
        ],
        [
         "4",
         "guys@e-mon.eu",
         "Past Guest Tmp 1"
        ],
        [
         "5",
         "jeanie.gother@btinternet.com",
         "Past Guest Tmp 1"
        ],
        [
         "6",
         "paulwinch101@gmail.com",
         "Past Guest Tmp 1"
        ],
        [
         "7",
         "craig.whittet@googlemail.com",
         "Past Guest Tmp 1"
        ],
        [
         "8",
         "rathore.nilesh1489@gmail.com",
         "Past Guest Tmp 1"
        ],
        [
         "9",
         "dalip.kumar786@yahoo.com",
         "Past Guest Tmp 1"
        ],
        [
         "10",
         "nilesh.sawane@yahoo.in",
         "Past Guest Tmp 1"
        ],
        [
         "11",
         "chelsea.w@live.com.au",
         "Past Guest Tmp 1"
        ],
        [
         "12",
         "christine.maier@gmx.de",
         "Past Guest Tmp 1"
        ],
        [
         "13",
         "Melisusiyanti@gmail.com",
         "Past Guest Tmp 1"
        ],
        [
         "14",
         "lauraburger612@web.de",
         "Past Guest Tmp 1"
        ],
        [
         "15",
         "rmb2805@gmail.com",
         "Past Guest Tmp 1"
        ],
        [
         "16",
         "timbull97@gmail.com",
         "Past Guest Tmp 1"
        ],
        [
         "17",
         "ranjanndls@gmail.com",
         "Past Guest Tmp 1"
        ],
        [
         "18",
         "kpachick@gmail.com",
         "Past Guest Tmp 1"
        ],
        [
         "19",
         "deepaksahu.softer@gmail.com",
         "Past Guest Tmp 1"
        ],
        [
         "20",
         "gregoire.lucie@hotmail.com",
         "Past Guest Tmp 1"
        ],
        [
         "21",
         "john.wardle28@gmail.com",
         "Past Guest Tmp 1"
        ],
        [
         "22",
         "fra.bayer@sap.com",
         "Past Guest Tmp 1"
        ],
        [
         "23",
         "cashby1@bigpond.com",
         "Past Guest Tmp 1"
        ],
        [
         "24",
         "pruthvi.patilp32@gmail.com",
         "Past Guest Tmp 1"
        ],
        [
         "25",
         "rivathasyaa@gmail.com",
         "Past Guest Tmp 1"
        ],
        [
         "26",
         "tinaq30@gmail.com",
         "Past Guest Tmp 1"
        ],
        [
         "27",
         "kiranswwamy@gmail.com",
         "Past Guest Tmp 1"
        ],
        [
         "28",
         "viviennemurdoch@hotmail.com",
         "Past Guest Tmp 1"
        ],
        [
         "29",
         "396225252@qq.com",
         "Past Guest Tmp 1"
        ],
        [
         "30",
         "smargel@yahoo.com",
         "Past Guest Tmp 1"
        ],
        [
         "31",
         "carolineds@aol.com",
         "Past Guest Tmp 1"
        ],
        [
         "32",
         "trevorward@gmail.com",
         "Past Guest Tmp 1"
        ],
        [
         "33",
         "caithlin1944@gmail.com",
         "Past Guest Tmp 1"
        ],
        [
         "34",
         "dixhyatt@gmail.com",
         "Past Guest Tmp 1"
        ],
        [
         "35",
         "pbutzerin@yahoo.com",
         "Past Guest Tmp 1"
        ],
        [
         "36",
         "sjaiswal61@gmail.com",
         "Past Guest Tmp 1"
        ],
        [
         "37",
         "mthorat7171@rediffmail.com",
         "Past Guest Tmp 1"
        ],
        [
         "38",
         "danielmalan@gmail.com",
         "Past Guest Tmp 1"
        ],
        [
         "39",
         "tina.schiessl@web.de",
         "Past Guest Tmp 1"
        ],
        [
         "40",
         "minesh89@gmail.com",
         "Past Guest Tmp 1"
        ],
        [
         "41",
         "kirchgaessnerkatrin@gmx.de",
         "Past Guest Tmp 1"
        ],
        [
         "42",
         "happy070397@yahoo.de",
         "Past Guest Tmp 1"
        ],
        [
         "43",
         "bobby.dhaliwal@talk21.com",
         "Past Guest Tmp 1"
        ],
        [
         "44",
         "casunilgarg1188@gmail.com",
         "Past Guest Tmp 1"
        ],
        [
         "45",
         "rolandwendekamm@gmail.com",
         "Past Guest Tmp 1"
        ],
        [
         "46",
         "bradders3@gmail.com",
         "Past Guest Tmp 1"
        ],
        [
         "47",
         "sashi85@gmail.com",
         "Past Guest Tmp 1"
        ],
        [
         "48",
         "mp30673@gmail.com",
         "Past Guest Tmp 1"
        ],
        [
         "49",
         "aksinha14@gmail.com",
         "Past Guest Tmp 1"
        ]
       ],
       "shape": {
        "columns": 2,
        "rows": 75574
       }
      },
      "text/html": [
       "<div>\n",
       "<style scoped>\n",
       "    .dataframe tbody tr th:only-of-type {\n",
       "        vertical-align: middle;\n",
       "    }\n",
       "\n",
       "    .dataframe tbody tr th {\n",
       "        vertical-align: top;\n",
       "    }\n",
       "\n",
       "    .dataframe thead th {\n",
       "        text-align: right;\n",
       "    }\n",
       "</style>\n",
       "<table border=\"1\" class=\"dataframe\">\n",
       "  <thead>\n",
       "    <tr style=\"text-align: right;\">\n",
       "      <th></th>\n",
       "      <th>Email</th>\n",
       "      <th>Tag</th>\n",
       "    </tr>\n",
       "  </thead>\n",
       "  <tbody>\n",
       "    <tr>\n",
       "      <th>0</th>\n",
       "      <td>er.surajkumar@yahoo.com</td>\n",
       "      <td>Past Guest Tmp 1</td>\n",
       "    </tr>\n",
       "    <tr>\n",
       "      <th>1</th>\n",
       "      <td>asdksy2000@gmail.com</td>\n",
       "      <td>Past Guest Tmp 1</td>\n",
       "    </tr>\n",
       "    <tr>\n",
       "      <th>2</th>\n",
       "      <td>vishalau1988@gmail.com</td>\n",
       "      <td>Past Guest Tmp 1</td>\n",
       "    </tr>\n",
       "    <tr>\n",
       "      <th>3</th>\n",
       "      <td>zink@bay-fh.de</td>\n",
       "      <td>Past Guest Tmp 1</td>\n",
       "    </tr>\n",
       "    <tr>\n",
       "      <th>4</th>\n",
       "      <td>guys@e-mon.eu</td>\n",
       "      <td>Past Guest Tmp 1</td>\n",
       "    </tr>\n",
       "    <tr>\n",
       "      <th>...</th>\n",
       "      <td>...</td>\n",
       "      <td>...</td>\n",
       "    </tr>\n",
       "    <tr>\n",
       "      <th>75569</th>\n",
       "      <td>jayashrigondik0123@gmail.com</td>\n",
       "      <td>Past Guest Tmp 4</td>\n",
       "    </tr>\n",
       "    <tr>\n",
       "      <th>75570</th>\n",
       "      <td>srinivaspusapati@gmail.com</td>\n",
       "      <td>Past Guest Tmp 4</td>\n",
       "    </tr>\n",
       "    <tr>\n",
       "      <th>75571</th>\n",
       "      <td>shekhsaara@yahoo.com</td>\n",
       "      <td>Past Guest Tmp 4</td>\n",
       "    </tr>\n",
       "    <tr>\n",
       "      <th>75572</th>\n",
       "      <td>rezapl01@gmail.com</td>\n",
       "      <td>Past Guest Tmp 4</td>\n",
       "    </tr>\n",
       "    <tr>\n",
       "      <th>75573</th>\n",
       "      <td>stsandor@gmail.com</td>\n",
       "      <td>Past Guest Tmp 4</td>\n",
       "    </tr>\n",
       "  </tbody>\n",
       "</table>\n",
       "<p>75574 rows × 2 columns</p>\n",
       "</div>"
      ],
      "text/plain": [
       "                              Email               Tag\n",
       "0           er.surajkumar@yahoo.com  Past Guest Tmp 1\n",
       "1              asdksy2000@gmail.com  Past Guest Tmp 1\n",
       "2            vishalau1988@gmail.com  Past Guest Tmp 1\n",
       "3                    zink@bay-fh.de  Past Guest Tmp 1\n",
       "4                     guys@e-mon.eu  Past Guest Tmp 1\n",
       "...                             ...               ...\n",
       "75569  jayashrigondik0123@gmail.com  Past Guest Tmp 4\n",
       "75570    srinivaspusapati@gmail.com  Past Guest Tmp 4\n",
       "75571          shekhsaara@yahoo.com  Past Guest Tmp 4\n",
       "75572            rezapl01@gmail.com  Past Guest Tmp 4\n",
       "75573            stsandor@gmail.com  Past Guest Tmp 4\n",
       "\n",
       "[75574 rows x 2 columns]"
      ]
     },
     "execution_count": 29,
     "metadata": {},
     "output_type": "execute_result"
    }
   ],
   "source": [
    "# define batch column name\n",
    "df['Tag'] = ''\n",
    "\n",
    "batch_row = 20000\n",
    "batch_name = 'Past Guest Tmp '\n",
    "column_index = -1\n",
    "\n",
    "m.insert_batch_loop(df, batch_row, column_index, batch_name)\n",
    "\n",
    "df"
   ]
  },
  {
   "cell_type": "code",
   "execution_count": 30,
   "metadata": {},
   "outputs": [],
   "source": [
    "file_final = path+filename+'-Batched'+filetype\n",
    "df.to_csv(file_final, index=False)"
   ]
  }
 ],
 "metadata": {
  "kernelspec": {
   "display_name": "Python 3",
   "language": "python",
   "name": "python3"
  },
  "language_info": {
   "codemirror_mode": {
    "name": "ipython",
    "version": 3
   },
   "file_extension": ".py",
   "mimetype": "text/x-python",
   "name": "python",
   "nbconvert_exporter": "python",
   "pygments_lexer": "ipython3",
   "version": "3.10.0"
  },
  "orig_nbformat": 4
 },
 "nbformat": 4,
 "nbformat_minor": 2
}
