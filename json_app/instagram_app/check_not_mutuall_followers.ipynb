{
 "cells": [
  {
   "cell_type": "code",
   "execution_count": 10,
   "metadata": {},
   "outputs": [
    {
     "data": {
      "application/vnd.microsoft.datawrangler.viewer.v0+json": {
       "columns": [
        {
         "name": "index",
         "rawType": "int64",
         "type": "integer"
        },
        {
         "name": "href",
         "rawType": "object",
         "type": "string"
        },
        {
         "name": "value",
         "rawType": "object",
         "type": "string"
        },
        {
         "name": "timestamp",
         "rawType": "int64",
         "type": "integer"
        }
       ],
       "conversionMethod": "pd.DataFrame",
       "ref": "ace6695a-8d3a-4854-8902-34d06b864e71",
       "rows": [
        [
         "0",
         "https://www.instagram.com/ang.aum",
         "ang.aum",
         "1741329051"
        ],
        [
         "1",
         "https://www.instagram.com/pandealitrastika",
         "pandealitrastika",
         "1741327398"
        ],
        [
         "2",
         "https://www.instagram.com/maria_yulia97",
         "maria_yulia97",
         "1741326277"
        ],
        [
         "3",
         "https://www.instagram.com/ratiharyaningtyas",
         "ratiharyaningtyas",
         "1741321128"
        ],
        [
         "4",
         "https://www.instagram.com/xampp16",
         "xampp16",
         "1741317932"
        ],
        [
         "5",
         "https://www.instagram.com/kadekwirayanti",
         "kadekwirayanti",
         "1741317670"
        ],
        [
         "6",
         "https://www.instagram.com/nitasuari",
         "nitasuari",
         "1741317594"
        ],
        [
         "7",
         "https://www.instagram.com/gilstrongg",
         "gilstrongg",
         "1741315691"
        ],
        [
         "8",
         "https://www.instagram.com/vinasintiad",
         "vinasintiad",
         "1741314423"
        ],
        [
         "9",
         "https://www.instagram.com/akmal_ibnu",
         "akmal_ibnu",
         "1741314191"
        ],
        [
         "10",
         "https://www.instagram.com/yuriijulian17",
         "yuriijulian17",
         "1741311912"
        ],
        [
         "11",
         "https://www.instagram.com/dewirya__",
         "dewirya__",
         "1741311667"
        ],
        [
         "12",
         "https://www.instagram.com/nillawulandari_",
         "nillawulandari_",
         "1741308998"
        ],
        [
         "13",
         "https://www.instagram.com/bhgskr_",
         "bhgskr_",
         "1741306985"
        ],
        [
         "14",
         "https://www.instagram.com/triyogadibrata",
         "triyogadibrata",
         "1741305925"
        ],
        [
         "15",
         "https://www.instagram.com/deni.darmadi",
         "deni.darmadi",
         "1741305325"
        ],
        [
         "16",
         "https://www.instagram.com/yashanadi",
         "yashanadi",
         "1741304485"
        ],
        [
         "17",
         "https://www.instagram.com/niti.prahastini",
         "niti.prahastini",
         "1741304233"
        ],
        [
         "18",
         "https://www.instagram.com/seperti_wahyu",
         "seperti_wahyu",
         "1741302224"
        ],
        [
         "19",
         "https://www.instagram.com/yupit_yupit",
         "yupit_yupit",
         "1741299677"
        ],
        [
         "20",
         "https://www.instagram.com/dayuoca_",
         "dayuoca_",
         "1741299670"
        ],
        [
         "21",
         "https://www.instagram.com/irwancahyadi_",
         "irwancahyadi_",
         "1741297978"
        ],
        [
         "22",
         "https://www.instagram.com/tunjungsaripalguna",
         "tunjungsaripalguna",
         "1741297898"
        ],
        [
         "23",
         "https://www.instagram.com/mitapatmiwati",
         "mitapatmiwati",
         "1741294333"
        ],
        [
         "24",
         "https://www.instagram.com/pisang_keeju",
         "pisang_keeju",
         "1741290482"
        ],
        [
         "25",
         "https://www.instagram.com/yogiagastyaa",
         "yogiagastyaa",
         "1741287262"
        ],
        [
         "26",
         "https://www.instagram.com/rangga_aadc",
         "rangga_aadc",
         "1741286124"
        ],
        [
         "27",
         "https://www.instagram.com/msdirandra",
         "msdirandra",
         "1741285074"
        ],
        [
         "28",
         "https://www.instagram.com/nabilahayunani",
         "nabilahayunani",
         "1741281741"
        ],
        [
         "29",
         "https://www.instagram.com/luqman_iim",
         "luqman_iim",
         "1741281539"
        ],
        [
         "30",
         "https://www.instagram.com/wilbro_",
         "wilbro_",
         "1741280271"
        ],
        [
         "31",
         "https://www.instagram.com/gagafridayla",
         "gagafridayla",
         "1741276436"
        ],
        [
         "32",
         "https://www.instagram.com/hiroshi.wijaya",
         "hiroshi.wijaya",
         "1741276155"
        ],
        [
         "33",
         "https://www.instagram.com/chresna_",
         "chresna_",
         "1741275314"
        ],
        [
         "34",
         "https://www.instagram.com/intanella_r",
         "intanella_r",
         "1741275207"
        ],
        [
         "35",
         "https://www.instagram.com/egass_",
         "egass_",
         "1741275019"
        ],
        [
         "36",
         "https://www.instagram.com/pacslav_jr",
         "pacslav_jr",
         "1741273386"
        ],
        [
         "37",
         "https://www.instagram.com/ditaoctavina",
         "ditaoctavina",
         "1741270287"
        ],
        [
         "38",
         "https://www.instagram.com/ode_mas",
         "ode_mas",
         "1741269335"
        ],
        [
         "39",
         "https://www.instagram.com/gungharley",
         "gungharley",
         "1741267860"
        ],
        [
         "40",
         "https://www.instagram.com/dharmags",
         "dharmags",
         "1741267771"
        ],
        [
         "41",
         "https://www.instagram.com/kemaas",
         "kemaas",
         "1741267232"
        ],
        [
         "42",
         "https://www.instagram.com/winnyzi_",
         "winnyzi_",
         "1741265382"
        ],
        [
         "43",
         "https://www.instagram.com/io.bagusputra",
         "io.bagusputra",
         "1741264902"
        ],
        [
         "44",
         "https://www.instagram.com/kichivimalo",
         "kichivimalo",
         "1741264710"
        ],
        [
         "45",
         "https://www.instagram.com/ayyularas",
         "ayyularas",
         "1741263500"
        ],
        [
         "46",
         "https://www.instagram.com/ayutrisnadwwi",
         "ayutrisnadwwi",
         "1741262160"
        ],
        [
         "47",
         "https://www.instagram.com/sebastianchn_",
         "sebastianchn_",
         "1741261491"
        ],
        [
         "48",
         "https://www.instagram.com/ratiholanda",
         "ratiholanda",
         "1741259121"
        ],
        [
         "49",
         "https://www.instagram.com/ferlyrossa",
         "ferlyrossa",
         "1741258406"
        ]
       ],
       "shape": {
        "columns": 3,
        "rows": 302
       }
      },
      "text/html": [
       "<div>\n",
       "<style scoped>\n",
       "    .dataframe tbody tr th:only-of-type {\n",
       "        vertical-align: middle;\n",
       "    }\n",
       "\n",
       "    .dataframe tbody tr th {\n",
       "        vertical-align: top;\n",
       "    }\n",
       "\n",
       "    .dataframe thead th {\n",
       "        text-align: right;\n",
       "    }\n",
       "</style>\n",
       "<table border=\"1\" class=\"dataframe\">\n",
       "  <thead>\n",
       "    <tr style=\"text-align: right;\">\n",
       "      <th></th>\n",
       "      <th>href</th>\n",
       "      <th>value</th>\n",
       "      <th>timestamp</th>\n",
       "    </tr>\n",
       "  </thead>\n",
       "  <tbody>\n",
       "    <tr>\n",
       "      <th>0</th>\n",
       "      <td>https://www.instagram.com/ang.aum</td>\n",
       "      <td>ang.aum</td>\n",
       "      <td>1741329051</td>\n",
       "    </tr>\n",
       "    <tr>\n",
       "      <th>1</th>\n",
       "      <td>https://www.instagram.com/pandealitrastika</td>\n",
       "      <td>pandealitrastika</td>\n",
       "      <td>1741327398</td>\n",
       "    </tr>\n",
       "    <tr>\n",
       "      <th>2</th>\n",
       "      <td>https://www.instagram.com/maria_yulia97</td>\n",
       "      <td>maria_yulia97</td>\n",
       "      <td>1741326277</td>\n",
       "    </tr>\n",
       "    <tr>\n",
       "      <th>3</th>\n",
       "      <td>https://www.instagram.com/ratiharyaningtyas</td>\n",
       "      <td>ratiharyaningtyas</td>\n",
       "      <td>1741321128</td>\n",
       "    </tr>\n",
       "    <tr>\n",
       "      <th>4</th>\n",
       "      <td>https://www.instagram.com/xampp16</td>\n",
       "      <td>xampp16</td>\n",
       "      <td>1741317932</td>\n",
       "    </tr>\n",
       "    <tr>\n",
       "      <th>...</th>\n",
       "      <td>...</td>\n",
       "      <td>...</td>\n",
       "      <td>...</td>\n",
       "    </tr>\n",
       "    <tr>\n",
       "      <th>297</th>\n",
       "      <td>https://www.instagram.com/dennyd.putra</td>\n",
       "      <td>dennyd.putra</td>\n",
       "      <td>1740538098</td>\n",
       "    </tr>\n",
       "    <tr>\n",
       "      <th>298</th>\n",
       "      <td>https://www.instagram.com/gusdeni__</td>\n",
       "      <td>gusdeni__</td>\n",
       "      <td>1740538087</td>\n",
       "    </tr>\n",
       "    <tr>\n",
       "      <th>299</th>\n",
       "      <td>https://www.instagram.com/dimas7_</td>\n",
       "      <td>dimas7_</td>\n",
       "      <td>1740537986</td>\n",
       "    </tr>\n",
       "    <tr>\n",
       "      <th>300</th>\n",
       "      <td>https://www.instagram.com/tu.riskii</td>\n",
       "      <td>tu.riskii</td>\n",
       "      <td>1740537966</td>\n",
       "    </tr>\n",
       "    <tr>\n",
       "      <th>301</th>\n",
       "      <td>https://www.instagram.com/suryapdewata</td>\n",
       "      <td>suryapdewata</td>\n",
       "      <td>1740537953</td>\n",
       "    </tr>\n",
       "  </tbody>\n",
       "</table>\n",
       "<p>302 rows × 3 columns</p>\n",
       "</div>"
      ],
      "text/plain": [
       "                                            href              value  \\\n",
       "0              https://www.instagram.com/ang.aum            ang.aum   \n",
       "1     https://www.instagram.com/pandealitrastika   pandealitrastika   \n",
       "2        https://www.instagram.com/maria_yulia97      maria_yulia97   \n",
       "3    https://www.instagram.com/ratiharyaningtyas  ratiharyaningtyas   \n",
       "4              https://www.instagram.com/xampp16            xampp16   \n",
       "..                                           ...                ...   \n",
       "297       https://www.instagram.com/dennyd.putra       dennyd.putra   \n",
       "298          https://www.instagram.com/gusdeni__          gusdeni__   \n",
       "299            https://www.instagram.com/dimas7_            dimas7_   \n",
       "300          https://www.instagram.com/tu.riskii          tu.riskii   \n",
       "301       https://www.instagram.com/suryapdewata       suryapdewata   \n",
       "\n",
       "      timestamp  \n",
       "0    1741329051  \n",
       "1    1741327398  \n",
       "2    1741326277  \n",
       "3    1741321128  \n",
       "4    1741317932  \n",
       "..          ...  \n",
       "297  1740538098  \n",
       "298  1740538087  \n",
       "299  1740537986  \n",
       "300  1740537966  \n",
       "301  1740537953  \n",
       "\n",
       "[302 rows x 3 columns]"
      ]
     },
     "execution_count": 10,
     "metadata": {},
     "output_type": "execute_result"
    }
   ],
   "source": [
    "import pandas as pd\n",
    "import json\n",
    "import timeit\n",
    "\n",
    "# Specify the path to the JSON file\n",
    "following_path = 'following.json'\n",
    "# Read the JSON data from the file\n",
    "with open(following_path, 'r') as f1:\n",
    "    data_following = json.load(f1)\n",
    "# Extract the 'string_list_data' from the JSON data\n",
    "string_list_following = [item['string_list_data'][0] for item in data_following['relationships_following']]\n",
    "# Create a pandas DataFrame from the extracted data\n",
    "df_following = pd.DataFrame(string_list_following)\n",
    "\n",
    "\n",
    "# Specify the path to the JSON file\n",
    "followers_path = 'followers_new.json'\n",
    "# Read the JSON data from the file\n",
    "with open(followers_path, 'r') as f2:\n",
    "    data_followers = json.load(f2)\n",
    "string_list_followers = [item['string_list_data'][0] for item in data_followers]\n",
    "df_followers = pd.DataFrame(string_list_followers)\n",
    "\n",
    "df_followers"
   ]
  },
  {
   "cell_type": "code",
   "execution_count": 11,
   "metadata": {},
   "outputs": [],
   "source": [
    "df_following.loc[~df_following['value'].isin(df_followers['value'])].to_csv('not_followback.csv', index=False)"
   ]
  },
  {
   "cell_type": "code",
   "execution_count": 12,
   "metadata": {},
   "outputs": [
    {
     "name": "stdout",
     "output_type": "stream",
     "text": [
      "Time taken to execute the process: 0.044055 seconds\n"
     ]
    }
   ],
   "source": [
    "def example_process():\n",
    "    total = 0\n",
    "    for i in range(1, 1000000):\n",
    "        total += i\n",
    "    return total\n",
    "\n",
    "# Measure the time taken to execute the example_process function\n",
    "execution_time = timeit.timeit(example_process, number=1)\n",
    "\n",
    "print(f\"Time taken to execute the process: {execution_time:.6f} seconds\")"
   ]
  }
 ],
 "metadata": {
  "kernelspec": {
   "display_name": "venv10",
   "language": "python",
   "name": "python3"
  },
  "language_info": {
   "codemirror_mode": {
    "name": "ipython",
    "version": 3
   },
   "file_extension": ".py",
   "mimetype": "text/x-python",
   "name": "python",
   "nbconvert_exporter": "python",
   "pygments_lexer": "ipython3",
   "version": "3.10.0"
  }
 },
 "nbformat": 4,
 "nbformat_minor": 2
}
