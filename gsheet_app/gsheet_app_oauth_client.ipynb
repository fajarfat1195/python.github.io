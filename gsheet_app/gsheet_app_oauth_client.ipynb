{
 "cells": [
  {
   "cell_type": "code",
   "execution_count": null,
   "metadata": {},
   "outputs": [],
   "source": [
    "import gspread\n",
    "import pandas as pd\n",
    "from fractions import Fraction\n",
    "\n",
    "# Pastikan permision access di menu \"Share\" di rubah ke anyone with the link terlebih dahulu, agar bisa mengunakan cara OAuth\n",
    "# Jika Ingin lebih dibatasi menggunakan cara google service account lebih disarankan\n",
    "\n",
    "gc = gspread.oauth(\n",
    "    credentials_filename= r'C:\\Users\\fajar.fatoni\\Documents\\Python\\Data\\Google Credentials\\karma-oauth.json'\n",
    ")\n",
    "\n",
    "SHEET_ID = '1rI5-JKPi1FsQzfMjJWg4J1pXdsgfOxvosk8vMn-KiA8'\n",
    "SHEET_NAME = 'Sheet1'\n"
   ]
  },
  {
   "cell_type": "code",
   "execution_count": null,
   "metadata": {},
   "outputs": [],
   "source": [
    "def next_available_row(worksheet):\n",
    "    str_list = worksheet.col_values(1)\n",
    "    return str(len(str_list)+1)"
   ]
  },
  {
   "cell_type": "code",
   "execution_count": null,
   "metadata": {},
   "outputs": [],
   "source": [
    "# Open the spreadsheet\n",
    "spreadsheet_source = gc.open_by_key(SHEET_ID)\n",
    "\n",
    "# Get all sheet names\n",
    "sheet_names = [sheet.title for sheet in spreadsheet_source.worksheets()]\n",
    "sheet_names"
   ]
  },
  {
   "cell_type": "code",
   "execution_count": null,
   "metadata": {},
   "outputs": [],
   "source": [
    "# get data gsheet\n",
    "\n",
    "spreadsheet = gc.open_by_key(SHEET_ID)\n",
    "worksheet = spreadsheet.worksheet(SHEET_NAME)\n",
    "rows = worksheet.get_all_records()\n",
    "\n",
    "# print(rows[:5])\n",
    "\n",
    "# print('==============================')\n",
    "# df = pd.DataFrame(rows, dtype=\"string\")\n",
    "df = pd.DataFrame(rows)\n",
    "# df['Mobile Number'] = df['Mobile Number'].apply(Fraction)\n",
    "df"
   ]
  },
  {
   "cell_type": "code",
   "execution_count": null,
   "metadata": {},
   "outputs": [],
   "source": [
    "next_row = next_available_row(worksheet)\n",
    "next_row"
   ]
  },
  {
   "cell_type": "code",
   "execution_count": null,
   "metadata": {},
   "outputs": [],
   "source": [
    "first_column = 'A'\n",
    "last_column = 'B'\n",
    "\n",
    "next_row = int(next_row)\n",
    "# type(next_row)\n",
    "\n",
    "total_data = df.shape[0]\n",
    "last_update_range = next_row+total_data\n",
    "\n",
    "update_range = first_column+str(next_row)+':'+last_column+str(last_update_range)\n",
    "update_range"
   ]
  },
  {
   "cell_type": "code",
   "execution_count": null,
   "metadata": {},
   "outputs": [],
   "source": [
    "# # Update semua data setelah data terakhir\n",
    "# # Tidak menggunakan column to list karena hanya mengupdate data saja\n",
    "\n",
    "# worksheet.update(update_range, df_update.values.tolist())\n",
    "# Jika update 1 column saja pakai syntax dibawah\n",
    "# worksheet.update('A5:A7', [[value] for value in df_update.values.tolist()])"
   ]
  },
  {
   "cell_type": "code",
   "execution_count": null,
   "metadata": {},
   "outputs": [],
   "source": [
    "# Update menggunakan single row data\n",
    "worksheet.update('A2:C3', [['US', 'Wallstreet', 125000], ['US', 'Brooklyn', 44587]])"
   ]
  },
  {
   "cell_type": "code",
   "execution_count": null,
   "metadata": {},
   "outputs": [],
   "source": [
    "# Update keseluruhan data, delete data yang lama terlebih dahulu\n",
    "# clear all row before update\n",
    "# worksheet.clear()\n",
    "worksheet.update([df.columns.values.tolist()] + df.values.tolist())"
   ]
  }
 ],
 "metadata": {
  "kernelspec": {
   "display_name": "Python 3",
   "language": "python",
   "name": "python3"
  },
  "language_info": {
   "codemirror_mode": {
    "name": "ipython",
    "version": 3
   },
   "file_extension": ".py",
   "mimetype": "text/x-python",
   "name": "python",
   "nbconvert_exporter": "python",
   "pygments_lexer": "ipython3",
   "version": "3.10.7"
  },
  "orig_nbformat": 4,
  "vscode": {
   "interpreter": {
    "hash": "26de051ba29f2982a8de78e945f0abaf191376122a1563185a90213a26c5da77"
   }
  }
 },
 "nbformat": 4,
 "nbformat_minor": 2
}
