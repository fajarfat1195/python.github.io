{
 "cells": [
  {
   "cell_type": "code",
   "execution_count": 1,
   "metadata": {},
   "outputs": [],
   "source": [
    "import gspread\n",
    "import pandas as pd\n",
    "from fractions import Fraction\n",
    "\n",
    "# Pastikan permision access di menu \"Share\" di rubah ke anyone with the link terlebih dahulu, agar bisa mengunakan cara OAuth\n",
    "# Jika Ingin lebih dibatasi menggunakan cara google service account lebih disarankan\n",
    "\n",
    "gc = gspread.oauth(\n",
    "    credentials_filename= r'C:\\Users\\fajar\\Documents\\Python\\Data\\Google Credentials\\fajar-fatoni-OAuth.json'\n",
    ")\n",
    "\n",
    "SHEET_ID = '1QB-M6RnnNoD1dO9ulXE4lbs3Eb3W6Y6ydgU68n_hz0M'\n",
    "SHEET_NAME = 'Sheet1'\n"
   ]
  },
  {
   "cell_type": "code",
   "execution_count": 4,
   "metadata": {},
   "outputs": [],
   "source": [
    "def next_available_row(worksheet):\n",
    "    str_list = worksheet.col_values(1)\n",
    "    return str(len(str_list)+1)"
   ]
  },
  {
   "cell_type": "code",
   "execution_count": 5,
   "metadata": {},
   "outputs": [
    {
     "data": {
      "text/html": [
       "<div>\n",
       "<style scoped>\n",
       "    .dataframe tbody tr th:only-of-type {\n",
       "        vertical-align: middle;\n",
       "    }\n",
       "\n",
       "    .dataframe tbody tr th {\n",
       "        vertical-align: top;\n",
       "    }\n",
       "\n",
       "    .dataframe thead th {\n",
       "        text-align: right;\n",
       "    }\n",
       "</style>\n",
       "<table border=\"1\" class=\"dataframe\">\n",
       "  <thead>\n",
       "    <tr style=\"text-align: right;\">\n",
       "      <th></th>\n",
       "      <th>Provinsi</th>\n",
       "      <th>Kecamatan</th>\n",
       "      <th>Jumlah</th>\n",
       "      <th>Total</th>\n",
       "    </tr>\n",
       "  </thead>\n",
       "  <tbody>\n",
       "    <tr>\n",
       "      <th>0</th>\n",
       "      <td>US</td>\n",
       "      <td>Wallstreet</td>\n",
       "      <td>125000</td>\n",
       "      <td>250000</td>\n",
       "    </tr>\n",
       "    <tr>\n",
       "      <th>1</th>\n",
       "      <td>US</td>\n",
       "      <td>Brooklyn</td>\n",
       "      <td>44587</td>\n",
       "      <td>89174</td>\n",
       "    </tr>\n",
       "    <tr>\n",
       "      <th>2</th>\n",
       "      <td>Bali</td>\n",
       "      <td>Tabanan</td>\n",
       "      <td>50300</td>\n",
       "      <td>100600</td>\n",
       "    </tr>\n",
       "    <tr>\n",
       "      <th>3</th>\n",
       "      <td>Bali</td>\n",
       "      <td>Gianyar</td>\n",
       "      <td>10000</td>\n",
       "      <td>20000</td>\n",
       "    </tr>\n",
       "    <tr>\n",
       "      <th>4</th>\n",
       "      <td>Bali</td>\n",
       "      <td>Karangasem</td>\n",
       "      <td>530000</td>\n",
       "      <td>1060000</td>\n",
       "    </tr>\n",
       "    <tr>\n",
       "      <th>5</th>\n",
       "      <td></td>\n",
       "      <td>Surabaya</td>\n",
       "      <td>456465</td>\n",
       "      <td>912930</td>\n",
       "    </tr>\n",
       "    <tr>\n",
       "      <th>6</th>\n",
       "      <td>Jawa</td>\n",
       "      <td>Jogja</td>\n",
       "      <td>846</td>\n",
       "      <td>1692</td>\n",
       "    </tr>\n",
       "    <tr>\n",
       "      <th>7</th>\n",
       "      <td></td>\n",
       "      <td>Lamongan</td>\n",
       "      <td>64546</td>\n",
       "      <td>129092</td>\n",
       "    </tr>\n",
       "    <tr>\n",
       "      <th>8</th>\n",
       "      <td>Jawa</td>\n",
       "      <td>Gresik</td>\n",
       "      <td>654</td>\n",
       "      <td>1308</td>\n",
       "    </tr>\n",
       "    <tr>\n",
       "      <th>9</th>\n",
       "      <td>Jawa</td>\n",
       "      <td>Sidoarjo</td>\n",
       "      <td>645448</td>\n",
       "      <td>1290896</td>\n",
       "    </tr>\n",
       "    <tr>\n",
       "      <th>10</th>\n",
       "      <td>Jawa</td>\n",
       "      <td>Solo</td>\n",
       "      <td>789</td>\n",
       "      <td>1578</td>\n",
       "    </tr>\n",
       "    <tr>\n",
       "      <th>11</th>\n",
       "      <td>Jawa</td>\n",
       "      <td>Banyuwangi</td>\n",
       "      <td>49646</td>\n",
       "      <td>99292</td>\n",
       "    </tr>\n",
       "    <tr>\n",
       "      <th>12</th>\n",
       "      <td>Bali</td>\n",
       "      <td>Badung</td>\n",
       "      <td>4458</td>\n",
       "      <td>8916</td>\n",
       "    </tr>\n",
       "    <tr>\n",
       "      <th>13</th>\n",
       "      <td>Bali</td>\n",
       "      <td>Denpasar</td>\n",
       "      <td>7897</td>\n",
       "      <td>15794</td>\n",
       "    </tr>\n",
       "  </tbody>\n",
       "</table>\n",
       "</div>"
      ],
      "text/plain": [
       "   Provinsi   Kecamatan  Jumlah    Total\n",
       "0        US  Wallstreet  125000   250000\n",
       "1        US    Brooklyn   44587    89174\n",
       "2      Bali     Tabanan   50300   100600\n",
       "3      Bali     Gianyar   10000    20000\n",
       "4      Bali  Karangasem  530000  1060000\n",
       "5              Surabaya  456465   912930\n",
       "6      Jawa       Jogja     846     1692\n",
       "7              Lamongan   64546   129092\n",
       "8      Jawa      Gresik     654     1308\n",
       "9      Jawa    Sidoarjo  645448  1290896\n",
       "10     Jawa        Solo     789     1578\n",
       "11     Jawa  Banyuwangi   49646    99292\n",
       "12     Bali      Badung    4458     8916\n",
       "13     Bali    Denpasar    7897    15794"
      ]
     },
     "execution_count": 5,
     "metadata": {},
     "output_type": "execute_result"
    }
   ],
   "source": [
    "# get data gsheet\n",
    "\n",
    "spreadsheet = gc.open_by_key(SHEET_ID)\n",
    "worksheet = spreadsheet.worksheet(SHEET_NAME)\n",
    "rows = worksheet.get_all_records()\n",
    "\n",
    "# print(rows[:5])\n",
    "\n",
    "# print('==============================')\n",
    "# df = pd.DataFrame(rows, dtype=\"string\")\n",
    "df = pd.DataFrame(rows)\n",
    "# df['Mobile Number'] = df['Mobile Number'].apply(Fraction)\n",
    "df"
   ]
  },
  {
   "cell_type": "code",
   "execution_count": 4,
   "metadata": {},
   "outputs": [
    {
     "data": {
      "text/plain": [
       "'16'"
      ]
     },
     "execution_count": 4,
     "metadata": {},
     "output_type": "execute_result"
    }
   ],
   "source": [
    "next_row = next_available_row(worksheet)\n",
    "next_row"
   ]
  },
  {
   "cell_type": "code",
   "execution_count": null,
   "metadata": {},
   "outputs": [],
   "source": [
    "# # clear all row before update\n",
    "# worksheet.clear()"
   ]
  },
  {
   "cell_type": "code",
   "execution_count": 5,
   "metadata": {},
   "outputs": [
    {
     "ename": "APIError",
     "evalue": "{'code': 400, 'message': 'You are trying to edit a protected cell or object. Please contact the spreadsheet owner to remove protection if you need to edit.', 'status': 'INVALID_ARGUMENT'}",
     "output_type": "error",
     "traceback": [
      "\u001b[1;31m---------------------------------------------------------------------------\u001b[0m",
      "\u001b[1;31mAPIError\u001b[0m                                  Traceback (most recent call last)",
      "\u001b[1;32mc:\\Users\\fajar\\Documents\\Python\\Task Offline\\gsheet_app\\gsheet_app_oauth_client.ipynb Cell 5\u001b[0m in \u001b[0;36m2\n\u001b[0;32m      <a href='vscode-notebook-cell:/c%3A/Users/fajar/Documents/Python/Task%20Offline/gsheet_app/gsheet_app_oauth_client.ipynb#W4sZmlsZQ%3D%3D?line=0'>1</a>\u001b[0m \u001b[39m# Update Using\u001b[39;00m\n\u001b[1;32m----> <a href='vscode-notebook-cell:/c%3A/Users/fajar/Documents/Python/Task%20Offline/gsheet_app/gsheet_app_oauth_client.ipynb#W4sZmlsZQ%3D%3D?line=1'>2</a>\u001b[0m worksheet\u001b[39m.\u001b[39;49mupdate(\u001b[39m'\u001b[39;49m\u001b[39mA2:C3\u001b[39;49m\u001b[39m'\u001b[39;49m, [[\u001b[39m'\u001b[39;49m\u001b[39mUS\u001b[39;49m\u001b[39m'\u001b[39;49m, \u001b[39m'\u001b[39;49m\u001b[39mWallstreet\u001b[39;49m\u001b[39m'\u001b[39;49m, \u001b[39m125000\u001b[39;49m], [\u001b[39m'\u001b[39;49m\u001b[39mUS\u001b[39;49m\u001b[39m'\u001b[39;49m, \u001b[39m'\u001b[39;49m\u001b[39mBrooklyn\u001b[39;49m\u001b[39m'\u001b[39;49m, \u001b[39m44587\u001b[39;49m]])\n",
      "File \u001b[1;32m~\\AppData\\Roaming\\Python\\Python310\\site-packages\\gspread\\utils.py:702\u001b[0m, in \u001b[0;36maccepted_kwargs.<locals>.decorate.<locals>.wrapper\u001b[1;34m(*args, **kwargs)\u001b[0m\n\u001b[0;32m    699\u001b[0m \u001b[39mfor\u001b[39;00m k, v \u001b[39min\u001b[39;00m default_kwargs\u001b[39m.\u001b[39mitems():\n\u001b[0;32m    700\u001b[0m     kwargs\u001b[39m.\u001b[39msetdefault(k, v)\n\u001b[1;32m--> 702\u001b[0m \u001b[39mreturn\u001b[39;00m f(\u001b[39m*\u001b[39margs, \u001b[39m*\u001b[39m\u001b[39m*\u001b[39mkwargs)\n",
      "File \u001b[1;32m~\\AppData\\Roaming\\Python\\Python310\\site-packages\\gspread\\worksheet.py:1041\u001b[0m, in \u001b[0;36mWorksheet.update\u001b[1;34m(self, range_name, values, **kwargs)\u001b[0m\n\u001b[0;32m   1026\u001b[0m     kwargs[\u001b[39m\"\u001b[39m\u001b[39mvalue_input_option\u001b[39m\u001b[39m\"\u001b[39m] \u001b[39m=\u001b[39m (\n\u001b[0;32m   1027\u001b[0m         ValueInputOption\u001b[39m.\u001b[39mraw \u001b[39mif\u001b[39;00m kwargs[\u001b[39m\"\u001b[39m\u001b[39mraw\u001b[39m\u001b[39m\"\u001b[39m] \u001b[39melse\u001b[39;00m ValueInputOption\u001b[39m.\u001b[39muser_entered\n\u001b[0;32m   1028\u001b[0m     )\n\u001b[0;32m   1030\u001b[0m params \u001b[39m=\u001b[39m filter_dict_values(\n\u001b[0;32m   1031\u001b[0m     {\n\u001b[0;32m   1032\u001b[0m         \u001b[39m\"\u001b[39m\u001b[39mvalueInputOption\u001b[39m\u001b[39m\"\u001b[39m: kwargs[\u001b[39m\"\u001b[39m\u001b[39mvalue_input_option\u001b[39m\u001b[39m\"\u001b[39m],\n\u001b[1;32m   (...)\u001b[0m\n\u001b[0;32m   1038\u001b[0m     }\n\u001b[0;32m   1039\u001b[0m )\n\u001b[1;32m-> 1041\u001b[0m response \u001b[39m=\u001b[39m \u001b[39mself\u001b[39;49m\u001b[39m.\u001b[39;49mspreadsheet\u001b[39m.\u001b[39;49mvalues_update(\n\u001b[0;32m   1042\u001b[0m     range_name,\n\u001b[0;32m   1043\u001b[0m     params\u001b[39m=\u001b[39;49mparams,\n\u001b[0;32m   1044\u001b[0m     body\u001b[39m=\u001b[39;49mfilter_dict_values(\n\u001b[0;32m   1045\u001b[0m         {\u001b[39m\"\u001b[39;49m\u001b[39mvalues\u001b[39;49m\u001b[39m\"\u001b[39;49m: values, \u001b[39m\"\u001b[39;49m\u001b[39mmajorDimension\u001b[39;49m\u001b[39m\"\u001b[39;49m: kwargs[\u001b[39m\"\u001b[39;49m\u001b[39mmajor_dimension\u001b[39;49m\u001b[39m\"\u001b[39;49m]}\n\u001b[0;32m   1046\u001b[0m     ),\n\u001b[0;32m   1047\u001b[0m )\n\u001b[0;32m   1049\u001b[0m \u001b[39mreturn\u001b[39;00m response\n",
      "File \u001b[1;32m~\\AppData\\Roaming\\Python\\Python310\\site-packages\\gspread\\spreadsheet.py:226\u001b[0m, in \u001b[0;36mSpreadsheet.values_update\u001b[1;34m(self, range, params, body)\u001b[0m\n\u001b[0;32m    203\u001b[0m \u001b[39m\"\"\"Lower-level method that directly calls `spreadsheets/<ID>/values/<range>`_.\u001b[39;00m\n\u001b[0;32m    204\u001b[0m \n\u001b[0;32m    205\u001b[0m \u001b[39m:param str range: The `A1 notation <https://developers.google.com/sheets/api/guides/concepts#a1_notation>`_ of the values to update.\u001b[39;00m\n\u001b[1;32m   (...)\u001b[0m\n\u001b[0;32m    223\u001b[0m \u001b[39m.. versionadded:: 3.0\u001b[39;00m\n\u001b[0;32m    224\u001b[0m \u001b[39m\"\"\"\u001b[39;00m\n\u001b[0;32m    225\u001b[0m url \u001b[39m=\u001b[39m SPREADSHEET_VALUES_URL \u001b[39m%\u001b[39m (\u001b[39mself\u001b[39m\u001b[39m.\u001b[39mid, quote(\u001b[39mrange\u001b[39m))\n\u001b[1;32m--> 226\u001b[0m r \u001b[39m=\u001b[39m \u001b[39mself\u001b[39;49m\u001b[39m.\u001b[39;49mclient\u001b[39m.\u001b[39;49mrequest(\u001b[39m\"\u001b[39;49m\u001b[39mput\u001b[39;49m\u001b[39m\"\u001b[39;49m, url, params\u001b[39m=\u001b[39;49mparams, json\u001b[39m=\u001b[39;49mbody)\n\u001b[0;32m    227\u001b[0m \u001b[39mreturn\u001b[39;00m r\u001b[39m.\u001b[39mjson()\n",
      "File \u001b[1;32m~\\AppData\\Roaming\\Python\\Python310\\site-packages\\gspread\\client.py:92\u001b[0m, in \u001b[0;36mClient.request\u001b[1;34m(self, method, endpoint, params, data, json, files, headers)\u001b[0m\n\u001b[0;32m     90\u001b[0m     \u001b[39mreturn\u001b[39;00m response\n\u001b[0;32m     91\u001b[0m \u001b[39melse\u001b[39;00m:\n\u001b[1;32m---> 92\u001b[0m     \u001b[39mraise\u001b[39;00m APIError(response)\n",
      "\u001b[1;31mAPIError\u001b[0m: {'code': 400, 'message': 'You are trying to edit a protected cell or object. Please contact the spreadsheet owner to remove protection if you need to edit.', 'status': 'INVALID_ARGUMENT'}"
     ]
    }
   ],
   "source": [
    "# Update Using\n",
    "worksheet.update('A2:C3', [['US', 'Wallstreet', 125000], ['US', 'Brooklyn', 44587]])"
   ]
  },
  {
   "cell_type": "code",
   "execution_count": 55,
   "metadata": {},
   "outputs": [
    {
     "ename": "APIError",
     "evalue": "{'code': 400, 'message': 'You are trying to edit a protected cell or object. Please contact the spreadsheet owner to remove protection if you need to edit.', 'status': 'INVALID_ARGUMENT'}",
     "output_type": "error",
     "traceback": [
      "\u001b[1;31m---------------------------------------------------------------------------\u001b[0m",
      "\u001b[1;31mAPIError\u001b[0m                                  Traceback (most recent call last)",
      "Cell \u001b[1;32mIn [55], line 1\u001b[0m\n\u001b[1;32m----> 1\u001b[0m worksheet\u001b[39m.\u001b[39;49mupdate([df\u001b[39m.\u001b[39;49mcolumns\u001b[39m.\u001b[39;49mvalues\u001b[39m.\u001b[39;49mtolist()] \u001b[39m+\u001b[39;49m df\u001b[39m.\u001b[39;49mvalues\u001b[39m.\u001b[39;49mtolist())\n",
      "File \u001b[1;32m~\\AppData\\Roaming\\Python\\Python310\\site-packages\\gspread\\utils.py:702\u001b[0m, in \u001b[0;36maccepted_kwargs.<locals>.decorate.<locals>.wrapper\u001b[1;34m(*args, **kwargs)\u001b[0m\n\u001b[0;32m    699\u001b[0m \u001b[39mfor\u001b[39;00m k, v \u001b[39min\u001b[39;00m default_kwargs\u001b[39m.\u001b[39mitems():\n\u001b[0;32m    700\u001b[0m     kwargs\u001b[39m.\u001b[39msetdefault(k, v)\n\u001b[1;32m--> 702\u001b[0m \u001b[39mreturn\u001b[39;00m f(\u001b[39m*\u001b[39margs, \u001b[39m*\u001b[39m\u001b[39m*\u001b[39mkwargs)\n",
      "File \u001b[1;32m~\\AppData\\Roaming\\Python\\Python310\\site-packages\\gspread\\worksheet.py:1041\u001b[0m, in \u001b[0;36mWorksheet.update\u001b[1;34m(self, range_name, values, **kwargs)\u001b[0m\n\u001b[0;32m   1026\u001b[0m     kwargs[\u001b[39m\"\u001b[39m\u001b[39mvalue_input_option\u001b[39m\u001b[39m\"\u001b[39m] \u001b[39m=\u001b[39m (\n\u001b[0;32m   1027\u001b[0m         ValueInputOption\u001b[39m.\u001b[39mraw \u001b[39mif\u001b[39;00m kwargs[\u001b[39m\"\u001b[39m\u001b[39mraw\u001b[39m\u001b[39m\"\u001b[39m] \u001b[39melse\u001b[39;00m ValueInputOption\u001b[39m.\u001b[39muser_entered\n\u001b[0;32m   1028\u001b[0m     )\n\u001b[0;32m   1030\u001b[0m params \u001b[39m=\u001b[39m filter_dict_values(\n\u001b[0;32m   1031\u001b[0m     {\n\u001b[0;32m   1032\u001b[0m         \u001b[39m\"\u001b[39m\u001b[39mvalueInputOption\u001b[39m\u001b[39m\"\u001b[39m: kwargs[\u001b[39m\"\u001b[39m\u001b[39mvalue_input_option\u001b[39m\u001b[39m\"\u001b[39m],\n\u001b[1;32m   (...)\u001b[0m\n\u001b[0;32m   1038\u001b[0m     }\n\u001b[0;32m   1039\u001b[0m )\n\u001b[1;32m-> 1041\u001b[0m response \u001b[39m=\u001b[39m \u001b[39mself\u001b[39;49m\u001b[39m.\u001b[39;49mspreadsheet\u001b[39m.\u001b[39;49mvalues_update(\n\u001b[0;32m   1042\u001b[0m     range_name,\n\u001b[0;32m   1043\u001b[0m     params\u001b[39m=\u001b[39;49mparams,\n\u001b[0;32m   1044\u001b[0m     body\u001b[39m=\u001b[39;49mfilter_dict_values(\n\u001b[0;32m   1045\u001b[0m         {\u001b[39m\"\u001b[39;49m\u001b[39mvalues\u001b[39;49m\u001b[39m\"\u001b[39;49m: values, \u001b[39m\"\u001b[39;49m\u001b[39mmajorDimension\u001b[39;49m\u001b[39m\"\u001b[39;49m: kwargs[\u001b[39m\"\u001b[39;49m\u001b[39mmajor_dimension\u001b[39;49m\u001b[39m\"\u001b[39;49m]}\n\u001b[0;32m   1046\u001b[0m     ),\n\u001b[0;32m   1047\u001b[0m )\n\u001b[0;32m   1049\u001b[0m \u001b[39mreturn\u001b[39;00m response\n",
      "File \u001b[1;32m~\\AppData\\Roaming\\Python\\Python310\\site-packages\\gspread\\spreadsheet.py:226\u001b[0m, in \u001b[0;36mSpreadsheet.values_update\u001b[1;34m(self, range, params, body)\u001b[0m\n\u001b[0;32m    203\u001b[0m \u001b[39m\"\"\"Lower-level method that directly calls `spreadsheets/<ID>/values/<range>`_.\u001b[39;00m\n\u001b[0;32m    204\u001b[0m \n\u001b[0;32m    205\u001b[0m \u001b[39m:param str range: The `A1 notation <https://developers.google.com/sheets/api/guides/concepts#a1_notation>`_ of the values to update.\u001b[39;00m\n\u001b[1;32m   (...)\u001b[0m\n\u001b[0;32m    223\u001b[0m \u001b[39m.. versionadded:: 3.0\u001b[39;00m\n\u001b[0;32m    224\u001b[0m \u001b[39m\"\"\"\u001b[39;00m\n\u001b[0;32m    225\u001b[0m url \u001b[39m=\u001b[39m SPREADSHEET_VALUES_URL \u001b[39m%\u001b[39m (\u001b[39mself\u001b[39m\u001b[39m.\u001b[39mid, quote(\u001b[39mrange\u001b[39m))\n\u001b[1;32m--> 226\u001b[0m r \u001b[39m=\u001b[39m \u001b[39mself\u001b[39;49m\u001b[39m.\u001b[39;49mclient\u001b[39m.\u001b[39;49mrequest(\u001b[39m\"\u001b[39;49m\u001b[39mput\u001b[39;49m\u001b[39m\"\u001b[39;49m, url, params\u001b[39m=\u001b[39;49mparams, json\u001b[39m=\u001b[39;49mbody)\n\u001b[0;32m    227\u001b[0m \u001b[39mreturn\u001b[39;00m r\u001b[39m.\u001b[39mjson()\n",
      "File \u001b[1;32m~\\AppData\\Roaming\\Python\\Python310\\site-packages\\gspread\\client.py:92\u001b[0m, in \u001b[0;36mClient.request\u001b[1;34m(self, method, endpoint, params, data, json, files, headers)\u001b[0m\n\u001b[0;32m     90\u001b[0m     \u001b[39mreturn\u001b[39;00m response\n\u001b[0;32m     91\u001b[0m \u001b[39melse\u001b[39;00m:\n\u001b[1;32m---> 92\u001b[0m     \u001b[39mraise\u001b[39;00m APIError(response)\n",
      "\u001b[1;31mAPIError\u001b[0m: {'code': 400, 'message': 'You are trying to edit a protected cell or object. Please contact the spreadsheet owner to remove protection if you need to edit.', 'status': 'INVALID_ARGUMENT'}"
     ]
    }
   ],
   "source": [
    "worksheet.update([df.columns.values.tolist()] + df.values.tolist())"
   ]
  }
 ],
 "metadata": {
  "kernelspec": {
   "display_name": "Python 3",
   "language": "python",
   "name": "python3"
  },
  "language_info": {
   "codemirror_mode": {
    "name": "ipython",
    "version": 3
   },
   "file_extension": ".py",
   "mimetype": "text/x-python",
   "name": "python",
   "nbconvert_exporter": "python",
   "pygments_lexer": "ipython3",
   "version": "3.10.7"
  },
  "orig_nbformat": 4,
  "vscode": {
   "interpreter": {
    "hash": "26de051ba29f2982a8de78e945f0abaf191376122a1563185a90213a26c5da77"
   }
  }
 },
 "nbformat": 4,
 "nbformat_minor": 2
}
