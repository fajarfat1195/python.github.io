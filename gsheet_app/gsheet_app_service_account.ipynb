{
 "cells": [
  {
   "cell_type": "code",
   "execution_count": null,
   "metadata": {},
   "outputs": [],
   "source": [
    "import gspread\n",
    "from oauth2client.service_account import ServiceAccountCredentials\n",
    "import pandas as pd\n",
    "\n",
    "scope = ['https://spreadsheets.google.com/feeds',\n",
    "         'https://www.googleapis.com/auth/spreadsheets',\n",
    "         'https://www.googleapis.com/auth/drive.file',\n",
    "         'https://www.googleapis.com/auth/drive']\n",
    "\n",
    "# Pastikan permision access di menu \"Share\" di tambahakan email google service account\n",
    "# Jika ingin membatasi permission dengan lebih spesifik, cukup melakukan add email service account di sheetnya saja\n",
    "\n",
    "# Reading Credentails from ServiceAccount Keys file\n",
    "credentials = ServiceAccountCredentials.from_json_keyfile_name(r'C:\\Users\\fajar.fatoni\\Documents\\Python\\Data\\Google Credentials\\credentials.json'\n",
    "            , scope)\n",
    "\n",
    "SHEET_ID = '1QB-M6RnnNoD1dO9ulXE4lbs3Eb3W6Y6ydgU68n_hz0M'\n",
    "SHEET_NAME = 'Sheet1'\n"
   ]
  },
  {
   "cell_type": "code",
   "execution_count": 11,
   "metadata": {},
   "outputs": [],
   "source": [
    "def next_available_row(worksheet):\n",
    "    str_list = worksheet.col_values(1)\n",
    "    return str(len(str_list)+1)"
   ]
  },
  {
   "cell_type": "code",
   "execution_count": 12,
   "metadata": {},
   "outputs": [
    {
     "data": {
      "text/html": [
       "<div>\n",
       "<style scoped>\n",
       "    .dataframe tbody tr th:only-of-type {\n",
       "        vertical-align: middle;\n",
       "    }\n",
       "\n",
       "    .dataframe tbody tr th {\n",
       "        vertical-align: top;\n",
       "    }\n",
       "\n",
       "    .dataframe thead th {\n",
       "        text-align: right;\n",
       "    }\n",
       "</style>\n",
       "<table border=\"1\" class=\"dataframe\">\n",
       "  <thead>\n",
       "    <tr style=\"text-align: right;\">\n",
       "      <th></th>\n",
       "      <th>Provinsi</th>\n",
       "      <th>Kecamatan</th>\n",
       "      <th>Jumlah</th>\n",
       "      <th>Total</th>\n",
       "    </tr>\n",
       "  </thead>\n",
       "  <tbody>\n",
       "    <tr>\n",
       "      <th>0</th>\n",
       "      <td>US</td>\n",
       "      <td>Wallstreet</td>\n",
       "      <td>125000</td>\n",
       "      <td>250000</td>\n",
       "    </tr>\n",
       "    <tr>\n",
       "      <th>1</th>\n",
       "      <td>US</td>\n",
       "      <td>Brooklyn</td>\n",
       "      <td>44587</td>\n",
       "      <td>89174</td>\n",
       "    </tr>\n",
       "    <tr>\n",
       "      <th>2</th>\n",
       "      <td>Bali</td>\n",
       "      <td>Tabanan</td>\n",
       "      <td>50300</td>\n",
       "      <td>100600</td>\n",
       "    </tr>\n",
       "    <tr>\n",
       "      <th>3</th>\n",
       "      <td>Bali</td>\n",
       "      <td>Gianyar</td>\n",
       "      <td>10000</td>\n",
       "      <td>20000</td>\n",
       "    </tr>\n",
       "    <tr>\n",
       "      <th>4</th>\n",
       "      <td>Bali</td>\n",
       "      <td>Karangasem</td>\n",
       "      <td>530000</td>\n",
       "      <td>1060000</td>\n",
       "    </tr>\n",
       "    <tr>\n",
       "      <th>5</th>\n",
       "      <td></td>\n",
       "      <td>Surabaya</td>\n",
       "      <td>456465</td>\n",
       "      <td>912930</td>\n",
       "    </tr>\n",
       "    <tr>\n",
       "      <th>6</th>\n",
       "      <td>Jawa</td>\n",
       "      <td>Jogja</td>\n",
       "      <td>846</td>\n",
       "      <td>1692</td>\n",
       "    </tr>\n",
       "    <tr>\n",
       "      <th>7</th>\n",
       "      <td></td>\n",
       "      <td>Lamongan</td>\n",
       "      <td>64546</td>\n",
       "      <td>129092</td>\n",
       "    </tr>\n",
       "    <tr>\n",
       "      <th>8</th>\n",
       "      <td>Jawa</td>\n",
       "      <td>Gresik</td>\n",
       "      <td>654</td>\n",
       "      <td>1308</td>\n",
       "    </tr>\n",
       "    <tr>\n",
       "      <th>9</th>\n",
       "      <td>Jawa</td>\n",
       "      <td>Sidoarjo</td>\n",
       "      <td>645448</td>\n",
       "      <td>1290896</td>\n",
       "    </tr>\n",
       "    <tr>\n",
       "      <th>10</th>\n",
       "      <td>Jawa</td>\n",
       "      <td>Solo</td>\n",
       "      <td>789</td>\n",
       "      <td>1578</td>\n",
       "    </tr>\n",
       "    <tr>\n",
       "      <th>11</th>\n",
       "      <td>Jawa</td>\n",
       "      <td>Banyuwangi</td>\n",
       "      <td>49646</td>\n",
       "      <td>99292</td>\n",
       "    </tr>\n",
       "    <tr>\n",
       "      <th>12</th>\n",
       "      <td>Bali</td>\n",
       "      <td>Badung</td>\n",
       "      <td>4458</td>\n",
       "      <td>8916</td>\n",
       "    </tr>\n",
       "    <tr>\n",
       "      <th>13</th>\n",
       "      <td>Bali</td>\n",
       "      <td>Denpasar</td>\n",
       "      <td>7897</td>\n",
       "      <td>15794</td>\n",
       "    </tr>\n",
       "  </tbody>\n",
       "</table>\n",
       "</div>"
      ],
      "text/plain": [
       "   Provinsi   Kecamatan  Jumlah    Total\n",
       "0        US  Wallstreet  125000   250000\n",
       "1        US    Brooklyn   44587    89174\n",
       "2      Bali     Tabanan   50300   100600\n",
       "3      Bali     Gianyar   10000    20000\n",
       "4      Bali  Karangasem  530000  1060000\n",
       "5              Surabaya  456465   912930\n",
       "6      Jawa       Jogja     846     1692\n",
       "7              Lamongan   64546   129092\n",
       "8      Jawa      Gresik     654     1308\n",
       "9      Jawa    Sidoarjo  645448  1290896\n",
       "10     Jawa        Solo     789     1578\n",
       "11     Jawa  Banyuwangi   49646    99292\n",
       "12     Bali      Badung    4458     8916\n",
       "13     Bali    Denpasar    7897    15794"
      ]
     },
     "execution_count": 12,
     "metadata": {},
     "output_type": "execute_result"
    }
   ],
   "source": [
    "# get data gsheet\n",
    "\n",
    "gc = gspread.authorize(credentials)\n",
    "spreadsheet = gc.open_by_key(SHEET_ID)\n",
    "worksheet = spreadsheet.worksheet(SHEET_NAME)\n",
    "rows = worksheet.get_all_records()\n",
    "\n",
    "# print(rows[:5])\n",
    "\n",
    "# print('==============================')\n",
    "df = pd.DataFrame(rows)\n",
    "df"
   ]
  },
  {
   "cell_type": "code",
   "execution_count": 13,
   "metadata": {},
   "outputs": [
    {
     "data": {
      "text/plain": [
       "'16'"
      ]
     },
     "execution_count": 13,
     "metadata": {},
     "output_type": "execute_result"
    }
   ],
   "source": [
    "next_row = next_available_row(worksheet)\n",
    "next_row"
   ]
  },
  {
   "cell_type": "code",
   "execution_count": null,
   "metadata": {},
   "outputs": [],
   "source": [
    "# # clear all row before update\n",
    "# worksheet.clear()"
   ]
  },
  {
   "cell_type": "code",
   "execution_count": 9,
   "metadata": {},
   "outputs": [
    {
     "data": {
      "text/plain": [
       "{'spreadsheetId': '1QB-M6RnnNoD1dO9ulXE4lbs3Eb3W6Y6ydgU68n_hz0M',\n",
       " 'updatedRange': 'Sheet1!A2:C3',\n",
       " 'updatedRows': 2,\n",
       " 'updatedColumns': 3,\n",
       " 'updatedCells': 6}"
      ]
     },
     "execution_count": 9,
     "metadata": {},
     "output_type": "execute_result"
    }
   ],
   "source": [
    "# Update Using\n",
    "worksheet.update('A2:C3', [['US', 'Wallstreet', 125000], ['US', 'Brooklyn', 44587]])"
   ]
  },
  {
   "cell_type": "code",
   "execution_count": 18,
   "metadata": {},
   "outputs": [
    {
     "data": {
      "text/plain": [
       "{'spreadsheetId': '1QB-M6RnnNoD1dO9ulXE4lbs3Eb3W6Y6ydgU68n_hz0M',\n",
       " 'updatedRange': 'Sheet1!A2:D15',\n",
       " 'updatedRows': 14,\n",
       " 'updatedColumns': 4,\n",
       " 'updatedCells': 56}"
      ]
     },
     "execution_count": 18,
     "metadata": {},
     "output_type": "execute_result"
    }
   ],
   "source": [
    "# update menggunakan value string data, bisa digunakan untuk mengupdate keseluruhan data\n",
    "worksheet.update([df.columns.values.tolist()] + df.values.tolist())"
   ]
  },
  {
   "cell_type": "code",
   "execution_count": null,
   "metadata": {},
   "outputs": [],
   "source": [
    "# update menggunakan value string data, bisa digunakan untuk mengupdate kolom tertentu\n",
    "worksheet.update('A2:D15', df.values.tolist())"
   ]
  }
 ],
 "metadata": {
  "kernelspec": {
   "display_name": "Python 3",
   "language": "python",
   "name": "python3"
  },
  "language_info": {
   "codemirror_mode": {
    "name": "ipython",
    "version": 3
   },
   "file_extension": ".py",
   "mimetype": "text/x-python",
   "name": "python",
   "nbconvert_exporter": "python",
   "pygments_lexer": "ipython3",
   "version": "3.10.7"
  },
  "orig_nbformat": 4,
  "vscode": {
   "interpreter": {
    "hash": "26de051ba29f2982a8de78e945f0abaf191376122a1563185a90213a26c5da77"
   }
  }
 },
 "nbformat": 4,
 "nbformat_minor": 2
}
