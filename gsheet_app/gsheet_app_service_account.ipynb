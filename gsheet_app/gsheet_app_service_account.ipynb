{
 "cells": [
  {
   "cell_type": "code",
   "execution_count": null,
   "metadata": {},
   "outputs": [],
   "source": [
    "import gspread\n",
    "from google.oauth2.service_account import Credentials\n",
    "import pandas as pd\n",
    "\n",
    "# Define the scope\n",
    "scope = [\n",
    "    'https://www.googleapis.com/auth/spreadsheets',\n",
    "    'https://www.googleapis.com/auth/drive.file',\n",
    "    'https://www.googleapis.com/auth/drive'\n",
    "]\n",
    "\n",
    "# Reading Credentials from Service Account Keys file\n",
    "credentials = Credentials.from_service_account_file(\n",
    "    r'C:\\Users\\fajar.fatoni\\Documents\\Python\\Data\\Google Credentials\\credentials.json',\n",
    "    scopes=scope\n",
    ")\n",
    "\n",
    "SHEET_ID = '1QB-M6RnnNoD1dO9ulXE4lbs3Eb3W6Y6ydgU68n_hz0M'\n",
    "SHEET_NAME = 'Sheet1'\n"
   ]
  },
  {
   "cell_type": "code",
   "execution_count": null,
   "metadata": {},
   "outputs": [],
   "source": [
    "def next_available_row(worksheet):\n",
    "    str_list = worksheet.col_values(1)\n",
    "    return str(len(str_list)+1)"
   ]
  },
  {
   "cell_type": "code",
   "execution_count": null,
   "metadata": {},
   "outputs": [],
   "source": [
    "# get data gsheet\n",
    "\n",
    "gc = gspread.authorize(credentials)\n",
    "spreadsheet = gc.open_by_key(SHEET_ID)\n",
    "worksheet = spreadsheet.worksheet(SHEET_NAME)\n",
    "rows = worksheet.get_all_records()\n",
    "\n",
    "# print(rows[:5])\n",
    "\n",
    "# print('==============================')\n",
    "df = pd.DataFrame(rows)\n",
    "df"
   ]
  },
  {
   "cell_type": "code",
   "execution_count": null,
   "metadata": {},
   "outputs": [],
   "source": [
    "next_row = next_available_row(worksheet)\n",
    "next_row"
   ]
  },
  {
   "cell_type": "code",
   "execution_count": null,
   "metadata": {},
   "outputs": [],
   "source": [
    "# # clear all row before update\n",
    "# worksheet.clear()"
   ]
  },
  {
   "cell_type": "code",
   "execution_count": null,
   "metadata": {},
   "outputs": [],
   "source": [
    "# Update Using\n",
    "worksheet.update('A2:C3', [['US', 'Wallstreet', 125000], ['US', 'Brooklyn', 44587]])"
   ]
  },
  {
   "cell_type": "code",
   "execution_count": null,
   "metadata": {},
   "outputs": [],
   "source": [
    "# update menggunakan value string data, bisa digunakan untuk mengupdate keseluruhan data\n",
    "worksheet.update([df.columns.values.tolist()] + df.values.tolist())"
   ]
  },
  {
   "cell_type": "code",
   "execution_count": null,
   "metadata": {},
   "outputs": [],
   "source": [
    "# update menggunakan value string data, bisa digunakan untuk mengupdate kolom tertentu\n",
    "worksheet.update('A2:D15', df.values.tolist())"
   ]
  }
 ],
 "metadata": {
  "kernelspec": {
   "display_name": "Python 3",
   "language": "python",
   "name": "python3"
  },
  "language_info": {
   "codemirror_mode": {
    "name": "ipython",
    "version": 3
   },
   "file_extension": ".py",
   "mimetype": "text/x-python",
   "name": "python",
   "nbconvert_exporter": "python",
   "pygments_lexer": "ipython3",
   "version": "3.10.0"
  },
  "orig_nbformat": 4
 },
 "nbformat": 4,
 "nbformat_minor": 2
}
